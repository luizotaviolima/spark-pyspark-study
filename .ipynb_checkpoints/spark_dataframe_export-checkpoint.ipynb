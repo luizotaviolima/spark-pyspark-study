{
 "cells": [
  {
   "cell_type": "code",
   "execution_count": 1,
   "id": "6173b035-95b4-4f98-96b9-9d8f49286465",
   "metadata": {},
   "outputs": [],
   "source": [
    "# Imports\n",
    "from pyspark.sql import SparkSession\n",
    "from pyspark.sql.types import *\n",
    "from pyspark.sql import functions as Func"
   ]
  },
  {
   "cell_type": "markdown",
   "id": "65c60eaf-33cd-4169-8a2b-e9b529a4b33a",
   "metadata": {},
   "source": [
    "# 1 - Importando dados"
   ]
  },
  {
   "cell_type": "markdown",
   "id": "d7822f2d-8484-4a07-bf4b-91a0d85bfb77",
   "metadata": {},
   "source": [
    "## 1.1 - DataFrame com o schema definido"
   ]
  },
  {
   "cell_type": "code",
   "execution_count": 2,
   "id": "b4e80862-94b1-4702-a2bd-30815c404f7d",
   "metadata": {},
   "outputs": [],
   "source": [
    "arqschema = \"\"\"id INT, nome STRING, \n",
    "               status STRING, \n",
    "               cidade STRING, \n",
    "               vendas INT, \n",
    "               data STRING\"\"\""
   ]
  },
  {
   "cell_type": "code",
   "execution_count": 3,
   "id": "43418b46-70e0-405b-9c33-31f3e296327b",
   "metadata": {},
   "outputs": [
    {
     "name": "stdout",
     "output_type": "stream",
     "text": [
      "+---+-------------------+------+-------------+------+----------+\n",
      "| id|               nome|status|       cidade|vendas|      data|\n",
      "+---+-------------------+------+-------------+------+----------+\n",
      "|  1|   Carminda Pestana| Ativo|  Santa Maria|    23|2020-08-11|\n",
      "|  2|    Deolinda Vilela| Ativo|Novo Hamburgo|    34|2020-03-05|\n",
      "|  3|   Emídio Dornelles| Ativo| Porto Alegre|    34|2020-02-05|\n",
      "|  4|Felisbela Dornelles| Ativo| Porto Alegre|    36|2020-02-05|\n",
      "|  5|     Graça Ornellas| Ativo| Porto Alegre|    12|2020-02-05|\n",
      "|  6|   Matilde Rebouças| Ativo| Porto Alegre|    22|2019-01-05|\n",
      "|  7|    Noêmia   Orriça| Ativo|  Santa Maria|    45|2019-10-05|\n",
      "|  8|      Roque Vásquez| Ativo| Porto Alegre|    65|2020-03-05|\n",
      "|  9|      Uriel Queiroz| Ativo| Porto Alegre|    54|2018-05-05|\n",
      "| 10|   Viviana Sequeira| Ativo| Porto Alegre|     0|2020-09-05|\n",
      "+---+-------------------+------+-------------+------+----------+\n",
      "\n"
     ]
    }
   ],
   "source": [
    "despachantes = spark.read.csv(\"./data/despachantes.csv\", header = False, schema = arqschema)\n",
    "despachantes.show()"
   ]
  },
  {
   "cell_type": "markdown",
   "id": "9fe78b1f-272c-4d9b-86be-6c3da3262480",
   "metadata": {},
   "source": [
    "# 2 - DataFrame Export"
   ]
  },
  {
   "cell_type": "markdown",
   "id": "ea8e5068-a3a6-40e3-8620-a8f23bcb89bc",
   "metadata": {},
   "source": [
    "Caso a pasta na qual o arquivo será salvo exista, irá acarretar em uma mensagem de erro dizendo que a pasta já existe."
   ]
  },
  {
   "cell_type": "markdown",
   "id": "90627d54-dd6c-4fed-bda0-6ff8a81e02a6",
   "metadata": {},
   "source": [
    "## 2.1 - Parquet format"
   ]
  },
  {
   "cell_type": "code",
   "execution_count": 4,
   "id": "d4ac63ea-2c11-4fbd-8a49-ec587428e004",
   "metadata": {},
   "outputs": [],
   "source": [
    "despachantes.write.format(\"parquet\").save(\"./export_parquet\")"
   ]
  },
  {
   "cell_type": "markdown",
   "id": "9eec633e-8e3f-4924-8903-e53c61feca4b",
   "metadata": {},
   "source": [
    "## 2.2 - Csv format"
   ]
  },
  {
   "cell_type": "code",
   "execution_count": 5,
   "id": "d358a8c3-7336-4ac2-9c94-ac110d2ed062",
   "metadata": {},
   "outputs": [],
   "source": [
    "despachantes.write.format(\"csv\").save(\"./export_csv\")"
   ]
  },
  {
   "cell_type": "markdown",
   "id": "22b56c32-c227-4d8a-826d-8010b1abb302",
   "metadata": {},
   "source": [
    "## 2.3 - Json format"
   ]
  },
  {
   "cell_type": "code",
   "execution_count": 6,
   "id": "77ae373c-d296-4a2e-bbd1-fc7d2e11ea4f",
   "metadata": {},
   "outputs": [],
   "source": [
    "despachantes.write.format(\"json\").save(\"./export_json\")"
   ]
  },
  {
   "cell_type": "markdown",
   "id": "9686d579-97e7-44db-940b-0221bb9c9374",
   "metadata": {},
   "source": [
    "## 2.4 - ORC format"
   ]
  },
  {
   "cell_type": "code",
   "execution_count": 7,
   "id": "68221f5b-1458-48c7-a547-f1d2430672ea",
   "metadata": {},
   "outputs": [],
   "source": [
    "despachantes.write.format(\"orc\").save(\"./export_orc\")"
   ]
  }
 ],
 "metadata": {
  "kernelspec": {
   "display_name": "Python 3 (ipykernel)",
   "language": "python",
   "name": "python3"
  },
  "language_info": {
   "codemirror_mode": {
    "name": "ipython",
    "version": 3
   },
   "file_extension": ".py",
   "mimetype": "text/x-python",
   "name": "python",
   "nbconvert_exporter": "python",
   "pygments_lexer": "ipython3",
   "version": "3.9.12"
  }
 },
 "nbformat": 4,
 "nbformat_minor": 5
}
