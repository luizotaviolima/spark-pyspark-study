{
 "cells": [
  {
   "cell_type": "code",
   "execution_count": 1,
   "id": "4e4aa501-de6f-4cb5-a836-c470db8877d3",
   "metadata": {},
   "outputs": [],
   "source": [
    "import pyspark"
   ]
  },
  {
   "cell_type": "markdown",
   "id": "07592960-f54d-4ffa-ba08-74daede662b1",
   "metadata": {},
   "source": [
    "# 1 - Introdução RDD"
   ]
  },
  {
   "cell_type": "markdown",
   "id": "6c369980-299b-49c4-9f1a-337f8a702b4f",
   "metadata": {
    "tags": []
   },
   "source": [
    "## 1.1 - Criando um RDD"
   ]
  },
  {
   "cell_type": "code",
   "execution_count": 2,
   "id": "2eb91ca3-fedd-42fe-a4db-7799c99098b3",
   "metadata": {},
   "outputs": [],
   "source": [
    "numeros = sc.parallelize([1, 2, 3, 4, 5, 6, 7, 8, 9, 10])"
   ]
  },
  {
   "cell_type": "markdown",
   "id": "37eca185-7958-4dfd-86e0-d6948c3e38c5",
   "metadata": {
    "tags": []
   },
   "source": [
    "## 1.2 - Vizualizando os primeiros 5 elementos"
   ]
  },
  {
   "cell_type": "code",
   "execution_count": 3,
   "id": "0b51118a-c55a-45fd-a75c-810d2f0c800a",
   "metadata": {},
   "outputs": [
    {
     "data": {
      "text/plain": [
       "[1, 2, 3, 4, 5]"
      ]
     },
     "execution_count": 3,
     "metadata": {},
     "output_type": "execute_result"
    }
   ],
   "source": [
    "numeros.take(5)"
   ]
  },
  {
   "cell_type": "markdown",
   "id": "529e7f89-a20e-44ea-8884-ac3452530e33",
   "metadata": {},
   "source": [
    "## 1.3 - Vizualizando os maiores 5 elementos "
   ]
  },
  {
   "cell_type": "code",
   "execution_count": 4,
   "id": "11097f76-cb13-4663-9dbd-72fb9e647738",
   "metadata": {},
   "outputs": [
    {
     "data": {
      "text/plain": [
       "[10, 9, 8, 7, 6]"
      ]
     },
     "execution_count": 4,
     "metadata": {},
     "output_type": "execute_result"
    }
   ],
   "source": [
    "numeros.top(5)"
   ]
  },
  {
   "cell_type": "markdown",
   "id": "d1111f8e-4f9d-4fd3-baa9-72a23a5275ef",
   "metadata": {},
   "source": [
    "## 1.4 - Forma de apresentar os dados"
   ]
  },
  {
   "cell_type": "code",
   "execution_count": 5,
   "id": "78d68f83-ea1f-4d2d-93b3-1f866e4d0386",
   "metadata": {},
   "outputs": [
    {
     "data": {
      "text/plain": [
       "[1, 2, 3, 4, 5, 6, 7, 8, 9, 10]"
      ]
     },
     "execution_count": 5,
     "metadata": {},
     "output_type": "execute_result"
    }
   ],
   "source": [
    "numeros.collect()\n",
    "#OBS: Não recomendado para grandes volumes de dados"
   ]
  },
  {
   "cell_type": "markdown",
   "id": "6df44abf-7675-43bb-9fbe-bba17ccd70d7",
   "metadata": {},
   "source": [
    "## 1.5 - Realizar uma contagem de elementos"
   ]
  },
  {
   "cell_type": "code",
   "execution_count": 6,
   "id": "4310b0e5-ddd0-4140-ad26-ec090c14e5b1",
   "metadata": {},
   "outputs": [
    {
     "data": {
      "text/plain": [
       "10"
      ]
     },
     "execution_count": 6,
     "metadata": {},
     "output_type": "execute_result"
    }
   ],
   "source": [
    "numeros.count()"
   ]
  },
  {
   "cell_type": "markdown",
   "id": "61c4348a-5aae-42c7-b83d-9be16ac9ea3e",
   "metadata": {},
   "source": [
    "## 1.6 - Realizar cálculo de média"
   ]
  },
  {
   "cell_type": "code",
   "execution_count": 7,
   "id": "4a58bfc5-1d69-4e84-bc37-aa351a96e34c",
   "metadata": {},
   "outputs": [
    {
     "data": {
      "text/plain": [
       "5.5"
      ]
     },
     "execution_count": 7,
     "metadata": {},
     "output_type": "execute_result"
    }
   ],
   "source": [
    "numeros.mean()"
   ]
  },
  {
   "cell_type": "markdown",
   "id": "7e49de5a-7c41-44f8-89fd-c5ea6d39cb40",
   "metadata": {},
   "source": [
    "## 1.7 - Realizar cálculo de soma"
   ]
  },
  {
   "cell_type": "code",
   "execution_count": 8,
   "id": "43f52ecd-f408-4b91-9bd6-2f5a76d3547e",
   "metadata": {},
   "outputs": [
    {
     "data": {
      "text/plain": [
       "55"
      ]
     },
     "execution_count": 8,
     "metadata": {},
     "output_type": "execute_result"
    }
   ],
   "source": [
    "numeros.sum()"
   ]
  },
  {
   "cell_type": "markdown",
   "id": "9576cbaa-e406-4747-aab6-73b04e542fd1",
   "metadata": {},
   "source": [
    "## 1.8 - Coletar valor máximo"
   ]
  },
  {
   "cell_type": "code",
   "execution_count": 9,
   "id": "5d4c38b6-84cd-4101-a968-311865473c53",
   "metadata": {},
   "outputs": [
    {
     "data": {
      "text/plain": [
       "10"
      ]
     },
     "execution_count": 9,
     "metadata": {},
     "output_type": "execute_result"
    }
   ],
   "source": [
    "numeros.max()"
   ]
  },
  {
   "cell_type": "markdown",
   "id": "ba274c14-487d-4f74-babd-3a8fb4b72c44",
   "metadata": {},
   "source": [
    "## 1.9 - Coletar valor mínimo"
   ]
  },
  {
   "cell_type": "code",
   "execution_count": 10,
   "id": "227de730-611f-4a21-bc84-eb7f2f883f03",
   "metadata": {},
   "outputs": [
    {
     "data": {
      "text/plain": [
       "1"
      ]
     },
     "execution_count": 10,
     "metadata": {},
     "output_type": "execute_result"
    }
   ],
   "source": [
    "numeros.min()"
   ]
  },
  {
   "cell_type": "markdown",
   "id": "06236009-62ae-48d8-be24-96204e53e0fd",
   "metadata": {},
   "source": [
    "## 1.10 - Realizar cálculo de desvio padrão"
   ]
  },
  {
   "cell_type": "code",
   "execution_count": 11,
   "id": "6bd6a9e1-1a86-425f-8208-b4e30d1d45f3",
   "metadata": {},
   "outputs": [
    {
     "data": {
      "text/plain": [
       "2.8722813232690143"
      ]
     },
     "execution_count": 11,
     "metadata": {},
     "output_type": "execute_result"
    }
   ],
   "source": [
    "numeros.stdev()"
   ]
  },
  {
   "cell_type": "markdown",
   "id": "d8c801ba-3ba5-43b1-b8ee-e08f02d4acdd",
   "metadata": {},
   "source": [
    "## 1.11 - Realizar filtro dos dados"
   ]
  },
  {
   "cell_type": "code",
   "execution_count": 12,
   "id": "b21a1819-09b8-4380-8e21-92f6b1c31bc9",
   "metadata": {},
   "outputs": [
    {
     "data": {
      "text/plain": [
       "[3, 4, 5, 6, 7, 8, 9, 10]"
      ]
     },
     "execution_count": 12,
     "metadata": {},
     "output_type": "execute_result"
    }
   ],
   "source": [
    "filtro = numeros.filter(lambda filtro: filtro > 2) # Transformação\n",
    "filtro.collect() # Ação"
   ]
  },
  {
   "cell_type": "markdown",
   "id": "78dc52dd-4e8b-42fe-a67d-e267b8828cd3",
   "metadata": {},
   "source": [
    "## 1.12 - Gerar amostras dos dados"
   ]
  },
  {
   "cell_type": "code",
   "execution_count": 13,
   "id": "5170c449-9307-4580-98bb-7761b6b8f22e",
   "metadata": {},
   "outputs": [
    {
     "data": {
      "text/plain": [
       "[2, 2, 3, 8]"
      ]
     },
     "execution_count": 13,
     "metadata": {},
     "output_type": "execute_result"
    }
   ],
   "source": [
    "amostra = numeros.sample(True, 0.5, 1)\n",
    "amostra.collect()"
   ]
  },
  {
   "cell_type": "markdown",
   "id": "865a3cdc-10b3-4c63-add6-e694f94c007a",
   "metadata": {},
   "source": [
    "## 1.13 - Iterar dados com map() + lambda"
   ]
  },
  {
   "cell_type": "code",
   "execution_count": 14,
   "id": "ba0fdf91-092e-4d45-8317-fb9a075072b9",
   "metadata": {},
   "outputs": [
    {
     "data": {
      "text/plain": [
       "[2, 4, 6, 8, 10, 12, 14, 16, 18, 20]"
      ]
     },
     "execution_count": 14,
     "metadata": {},
     "output_type": "execute_result"
    }
   ],
   "source": [
    "mapa = numeros.map(lambda mapa: mapa * 2)\n",
    "mapa.collect()"
   ]
  },
  {
   "cell_type": "markdown",
   "id": "2176cd6b-a954-4f39-a57c-4226121946e8",
   "metadata": {},
   "source": [
    "# 2 - Operações entre RDDs"
   ]
  },
  {
   "cell_type": "code",
   "execution_count": 15,
   "id": "51b01764-ef36-4f6a-9607-2c766a4b8ee8",
   "metadata": {},
   "outputs": [
    {
     "data": {
      "text/plain": [
       "[1, 2, 3, 4, 5, 6, 7, 8, 9, 10]"
      ]
     },
     "execution_count": 15,
     "metadata": {},
     "output_type": "execute_result"
    }
   ],
   "source": [
    "numeros.collect()"
   ]
  },
  {
   "cell_type": "code",
   "execution_count": 16,
   "id": "9af1e2f1-b321-49ed-b747-78140f4e19c7",
   "metadata": {},
   "outputs": [],
   "source": [
    "numeros2 = sc.parallelize([6, 7, 8, 9, 10])"
   ]
  },
  {
   "cell_type": "markdown",
   "id": "60f95ad5-bc5b-4e15-9f71-e92684701141",
   "metadata": {},
   "source": [
    "## 2.1 - União entre RDDs"
   ]
  },
  {
   "cell_type": "code",
   "execution_count": 17,
   "id": "acd90322-86ee-4c71-b8bf-a8fb114b046e",
   "metadata": {},
   "outputs": [
    {
     "data": {
      "text/plain": [
       "[1, 2, 3, 4, 5, 6, 7, 8, 9, 10, 6, 7, 8, 9, 10]"
      ]
     },
     "execution_count": 17,
     "metadata": {},
     "output_type": "execute_result"
    }
   ],
   "source": [
    "uniao = numeros.union(numeros2)\n",
    "uniao.collect()"
   ]
  },
  {
   "cell_type": "markdown",
   "id": "964cd2ef-fe80-489d-9374-f14168077300",
   "metadata": {},
   "source": [
    "## 2.2 - Intersecção entre RDDs"
   ]
  },
  {
   "cell_type": "code",
   "execution_count": 18,
   "id": "361510bc-e90f-4422-92a9-98a3772b003f",
   "metadata": {},
   "outputs": [
    {
     "data": {
      "text/plain": [
       "[6, 7, 8, 9, 10]"
      ]
     },
     "execution_count": 18,
     "metadata": {},
     "output_type": "execute_result"
    }
   ],
   "source": [
    "interseccao = numeros.intersection(numeros2)\n",
    "interseccao.collect()"
   ]
  },
  {
   "cell_type": "markdown",
   "id": "b363e2e9-aa8b-49d9-8a2a-26b32b153343",
   "metadata": {},
   "source": [
    "## 2.3 - Diferença de dados entre RDDs"
   ]
  },
  {
   "cell_type": "code",
   "execution_count": 19,
   "id": "f1eab7a1-a68d-4f36-a578-1247566ba368",
   "metadata": {},
   "outputs": [
    {
     "data": {
      "text/plain": [
       "[1, 2, 3, 4, 5]"
      ]
     },
     "execution_count": 19,
     "metadata": {},
     "output_type": "execute_result"
    }
   ],
   "source": [
    "subtrai = numeros.subtract(numeros2)\n",
    "subtrai.collect() # Aqui é mostrado os dados que a variável numeros têm, mas numeros2 não"
   ]
  },
  {
   "cell_type": "markdown",
   "id": "5c6c12fa-aa6f-4fca-8f7e-79a156491cbb",
   "metadata": {},
   "source": [
    "## 2.4 - Produto cartesiano entre RDDs"
   ]
  },
  {
   "cell_type": "code",
   "execution_count": 20,
   "id": "5c4d482d-6ea6-440e-b397-3167a0371223",
   "metadata": {},
   "outputs": [
    {
     "data": {
      "text/plain": [
       "[(1, 6),\n",
       " (1, 7),\n",
       " (1, 8),\n",
       " (1, 9),\n",
       " (1, 10),\n",
       " (2, 6),\n",
       " (2, 7),\n",
       " (2, 8),\n",
       " (2, 9),\n",
       " (2, 10),\n",
       " (3, 6),\n",
       " (3, 7),\n",
       " (3, 8),\n",
       " (3, 9),\n",
       " (3, 10),\n",
       " (4, 6),\n",
       " (4, 7),\n",
       " (4, 8),\n",
       " (4, 9),\n",
       " (4, 10),\n",
       " (5, 6),\n",
       " (5, 7),\n",
       " (5, 8),\n",
       " (5, 9),\n",
       " (5, 10),\n",
       " (6, 6),\n",
       " (6, 7),\n",
       " (6, 8),\n",
       " (6, 9),\n",
       " (6, 10),\n",
       " (7, 6),\n",
       " (7, 7),\n",
       " (7, 8),\n",
       " (7, 9),\n",
       " (7, 10),\n",
       " (8, 6),\n",
       " (8, 7),\n",
       " (8, 8),\n",
       " (8, 9),\n",
       " (8, 10),\n",
       " (9, 6),\n",
       " (9, 7),\n",
       " (9, 8),\n",
       " (9, 9),\n",
       " (9, 10),\n",
       " (10, 6),\n",
       " (10, 7),\n",
       " (10, 8),\n",
       " (10, 9),\n",
       " (10, 10)]"
      ]
     },
     "execution_count": 20,
     "metadata": {},
     "output_type": "execute_result"
    }
   ],
   "source": [
    "cartesiano = numeros.cartesian(numeros2)\n",
    "cartesiano.collect()"
   ]
  },
  {
   "cell_type": "markdown",
   "id": "acdd319b-0b5e-415d-a618-943a9a0242ef",
   "metadata": {},
   "source": [
    "## 2.5 - Contagem por valor"
   ]
  },
  {
   "cell_type": "code",
   "execution_count": 21,
   "id": "1b2637ec-9eb2-477e-a785-ad3d11594d54",
   "metadata": {},
   "outputs": [
    {
     "name": "stderr",
     "output_type": "stream",
     "text": [
      "                                                                                \r"
     ]
    },
    {
     "data": {
      "text/plain": [
       "defaultdict(int,\n",
       "            {(1, 6): 1,\n",
       "             (1, 7): 1,\n",
       "             (1, 8): 1,\n",
       "             (1, 9): 1,\n",
       "             (1, 10): 1,\n",
       "             (2, 6): 1,\n",
       "             (2, 7): 1,\n",
       "             (2, 8): 1,\n",
       "             (2, 9): 1,\n",
       "             (2, 10): 1,\n",
       "             (3, 6): 1,\n",
       "             (3, 7): 1,\n",
       "             (3, 8): 1,\n",
       "             (3, 9): 1,\n",
       "             (3, 10): 1,\n",
       "             (4, 6): 1,\n",
       "             (4, 7): 1,\n",
       "             (4, 8): 1,\n",
       "             (4, 9): 1,\n",
       "             (4, 10): 1,\n",
       "             (5, 6): 1,\n",
       "             (5, 7): 1,\n",
       "             (5, 8): 1,\n",
       "             (5, 9): 1,\n",
       "             (5, 10): 1,\n",
       "             (6, 6): 1,\n",
       "             (6, 7): 1,\n",
       "             (6, 8): 1,\n",
       "             (6, 9): 1,\n",
       "             (6, 10): 1,\n",
       "             (7, 6): 1,\n",
       "             (7, 7): 1,\n",
       "             (7, 8): 1,\n",
       "             (7, 9): 1,\n",
       "             (7, 10): 1,\n",
       "             (8, 6): 1,\n",
       "             (8, 7): 1,\n",
       "             (8, 8): 1,\n",
       "             (8, 9): 1,\n",
       "             (8, 10): 1,\n",
       "             (9, 6): 1,\n",
       "             (9, 7): 1,\n",
       "             (9, 8): 1,\n",
       "             (9, 9): 1,\n",
       "             (9, 10): 1,\n",
       "             (10, 6): 1,\n",
       "             (10, 7): 1,\n",
       "             (10, 8): 1,\n",
       "             (10, 9): 1,\n",
       "             (10, 10): 1})"
      ]
     },
     "execution_count": 21,
     "metadata": {},
     "output_type": "execute_result"
    }
   ],
   "source": [
    "cartesiano.countByValue()"
   ]
  },
  {
   "cell_type": "markdown",
   "id": "173dfcca-f1a8-4ad7-81ef-e41b46ef4689",
   "metadata": {},
   "source": [
    "# 3 - Simulações"
   ]
  },
  {
   "cell_type": "markdown",
   "id": "f1e0bc17-aaf1-4c3d-b5a0-05e3107041d8",
   "metadata": {},
   "source": [
    "Criando um RDD na qual simula o cliente e o valor em compra gasto"
   ]
  },
  {
   "cell_type": "code",
   "execution_count": 22,
   "id": "270de739-a622-4bdd-9ebc-b5ce91fe9039",
   "metadata": {},
   "outputs": [
    {
     "data": {
      "text/plain": [
       "[(1, 200), (2, 300), (3, 120), (4, 250), (5, 78)]"
      ]
     },
     "execution_count": 22,
     "metadata": {},
     "output_type": "execute_result"
    }
   ],
   "source": [
    "compras = sc.parallelize([(1, 200), (2, 300), (3, 120), (4, 250), (5, 78)])\n",
    "compras.collect()"
   ]
  },
  {
   "cell_type": "markdown",
   "id": "03afe1a6-5133-46e9-8b2c-3716b420d5f9",
   "metadata": {},
   "source": [
    "## 3.1 - Extraindo apenas as chaves"
   ]
  },
  {
   "cell_type": "code",
   "execution_count": 23,
   "id": "7acf36ac-a66b-4267-9b3c-ad7c58be5b72",
   "metadata": {},
   "outputs": [
    {
     "data": {
      "text/plain": [
       "[1, 2, 3, 4, 5]"
      ]
     },
     "execution_count": 23,
     "metadata": {},
     "output_type": "execute_result"
    }
   ],
   "source": [
    "chaves = compras.keys()\n",
    "chaves.collect()"
   ]
  },
  {
   "cell_type": "markdown",
   "id": "a80a028b-d952-409f-8de0-a8715a2245da",
   "metadata": {},
   "source": [
    "## 3.2 - Extraindo apenas os valores"
   ]
  },
  {
   "cell_type": "code",
   "execution_count": 24,
   "id": "b830ce16-5ed2-4cfa-b6e6-b98ba3074d10",
   "metadata": {},
   "outputs": [
    {
     "data": {
      "text/plain": [
       "[200, 300, 120, 250, 78]"
      ]
     },
     "execution_count": 24,
     "metadata": {},
     "output_type": "execute_result"
    }
   ],
   "source": [
    "valores = compras.values()\n",
    "valores.collect()"
   ]
  },
  {
   "cell_type": "markdown",
   "id": "83b8f19d-0e86-4ede-be5a-33276207e1f1",
   "metadata": {},
   "source": [
    "## 3.3 - Contagem por chave"
   ]
  },
  {
   "cell_type": "code",
   "execution_count": 25,
   "id": "898484c3-640d-4a1f-9316-f7023ce1ecd3",
   "metadata": {},
   "outputs": [
    {
     "data": {
      "text/plain": [
       "defaultdict(int, {1: 1, 2: 1, 3: 1, 4: 1, 5: 1})"
      ]
     },
     "execution_count": 25,
     "metadata": {},
     "output_type": "execute_result"
    }
   ],
   "source": [
    "compras.countByKey()"
   ]
  },
  {
   "cell_type": "markdown",
   "id": "b72d84ba-58db-48e5-861b-dbf99b36c101",
   "metadata": {},
   "source": [
    "## 3.4 - Aplicando uma função para somar + 1 no valor com map()"
   ]
  },
  {
   "cell_type": "code",
   "execution_count": 26,
   "id": "7bf44906-277f-4e8d-b95b-51d31040ecea",
   "metadata": {},
   "outputs": [
    {
     "data": {
      "text/plain": [
       "[(1, 201), (2, 301), (3, 121), (4, 251), (5, 79)]"
      ]
     },
     "execution_count": 26,
     "metadata": {},
     "output_type": "execute_result"
    }
   ],
   "source": [
    "soma = compras.mapValues(lambda soma: soma + 1)\n",
    "soma.collect()"
   ]
  },
  {
   "cell_type": "markdown",
   "id": "c62c3cc3-6988-4278-9f7f-5c3f3c3c4a78",
   "metadata": {},
   "source": [
    "# 4 - Mais operações"
   ]
  },
  {
   "cell_type": "markdown",
   "id": "42f32034-ab88-416e-8cdb-1cb9203ebd34",
   "metadata": {},
   "source": [
    "Criando um RDD na qual simula os cliente que estão com dívidas"
   ]
  },
  {
   "cell_type": "code",
   "execution_count": 27,
   "id": "693406c1-a15b-45d6-b161-3a824702bd64",
   "metadata": {},
   "outputs": [
    {
     "data": {
      "text/plain": [
       "[(1, 20), (2, 300)]"
      ]
     },
     "execution_count": 27,
     "metadata": {},
     "output_type": "execute_result"
    }
   ],
   "source": [
    "debitos = sc.parallelize([(1, 20), (2, 300)])\n",
    "debitos.collect()"
   ]
  },
  {
   "cell_type": "markdown",
   "id": "23d84f7b-c03d-4d37-bdee-360eb8baee74",
   "metadata": {},
   "source": [
    "## 4.1 - Inner Join"
   ]
  },
  {
   "cell_type": "code",
   "execution_count": 28,
   "id": "20154bd3-bae9-4b86-87e5-a64e4682589e",
   "metadata": {},
   "outputs": [
    {
     "data": {
      "text/plain": [
       "[(1, (200, 20)), (2, (300, 300))]"
      ]
     },
     "execution_count": 28,
     "metadata": {},
     "output_type": "execute_result"
    }
   ],
   "source": [
    "resultado = compras.join(debitos)\n",
    "resultado.collect()"
   ]
  },
  {
   "cell_type": "markdown",
   "id": "4d815f5c-b663-4984-a716-7fe5d4c0384f",
   "metadata": {},
   "source": [
    "## 4.2 - Diferença pela chave"
   ]
  },
  {
   "cell_type": "markdown",
   "id": "84da761c-54f2-42ae-be3b-1f9da92c440b",
   "metadata": {},
   "source": [
    "Nesse caso iremos pegar aqueles clientes que não têm débitos ativos"
   ]
  },
  {
   "cell_type": "code",
   "execution_count": 29,
   "id": "cf733a33-fda9-4b20-a923-79decba57b76",
   "metadata": {},
   "outputs": [
    {
     "data": {
      "text/plain": [
       "[(3, 120), (4, 250), (5, 78)]"
      ]
     },
     "execution_count": 29,
     "metadata": {},
     "output_type": "execute_result"
    }
   ],
   "source": [
    "sem_debito = compras.subtractByKey(debitos)\n",
    "sem_debito.collect()"
   ]
  }
 ],
 "metadata": {
  "kernelspec": {
   "display_name": "Python 3 (ipykernel)",
   "language": "python",
   "name": "python3"
  },
  "language_info": {
   "codemirror_mode": {
    "name": "ipython",
    "version": 3
   },
   "file_extension": ".py",
   "mimetype": "text/x-python",
   "name": "python",
   "nbconvert_exporter": "python",
   "pygments_lexer": "ipython3",
   "version": "3.9.12"
  }
 },
 "nbformat": 4,
 "nbformat_minor": 5
}
