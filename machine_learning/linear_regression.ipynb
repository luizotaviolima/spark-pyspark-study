{
 "cells": [
  {
   "cell_type": "markdown",
   "id": "1e986506-c528-4805-92d0-e2b60a296b8f",
   "metadata": {},
   "source": [
    "# Preparando os Dados para Regressão"
   ]
  },
  {
   "cell_type": "markdown",
   "id": "1e2de131-6c4b-4235-b968-1740d529f591",
   "metadata": {},
   "source": [
    "## Imports"
   ]
  },
  {
   "cell_type": "code",
   "execution_count": 1,
   "id": "6476bd9c-7db0-4501-a8a4-63c292748a9e",
   "metadata": {},
   "outputs": [],
   "source": [
    "from pyspark.ml.regression import LinearRegression, RandomForestRegressor\n",
    "from pyspark.ml.evaluation import RegressionEvaluator\n",
    "from pyspark.ml.feature import VectorAssembler"
   ]
  },
  {
   "cell_type": "code",
   "execution_count": 2,
   "id": "f89bea6c-b59b-42e9-b256-69955ec1fb02",
   "metadata": {},
   "outputs": [],
   "source": [
    "carros_temp = spark.read.csv(\"./data/Carros.csv\", header=True, sep=\";\", inferSchema=True)"
   ]
  },
  {
   "cell_type": "code",
   "execution_count": 3,
   "id": "ae2397a3-0073-4be9-962e-de31d89e151f",
   "metadata": {},
   "outputs": [
    {
     "name": "stdout",
     "output_type": "stream",
     "text": [
      "+-------+---------+-----------+---------------+----+-----+---------+-----------+-------+-----------+---+\n",
      "|Consumo|Cilindros|Cilindradas|RelEixoTraseiro|Peso|Tempo|TipoMotor|Transmissao|Marchas|Carburadors| HP|\n",
      "+-------+---------+-----------+---------------+----+-----+---------+-----------+-------+-----------+---+\n",
      "|     21|        6|        160|             39| 262| 1646|        0|          1|      4|          4|110|\n",
      "|     21|        6|        160|             39|2875| 1702|        0|          1|      4|          4|110|\n",
      "|    228|        4|        108|            385| 232| 1861|        1|          1|      4|          1| 93|\n",
      "|    214|        6|        258|            308|3215| 1944|        1|          0|      3|          1|110|\n",
      "|    187|        8|        360|            315| 344| 1702|        0|          0|      3|          2|175|\n",
      "+-------+---------+-----------+---------------+----+-----+---------+-----------+-------+-----------+---+\n",
      "only showing top 5 rows\n",
      "\n"
     ]
    }
   ],
   "source": [
    "carros_temp.show(5)"
   ]
  },
  {
   "cell_type": "markdown",
   "id": "9fcd56f1-521b-423b-a41c-4fdb390efeeb",
   "metadata": {},
   "source": [
    "## Seleção das Colunas de Estudo"
   ]
  },
  {
   "cell_type": "code",
   "execution_count": 4,
   "id": "df8e40cf-e571-4213-bd8d-4b0e20966d86",
   "metadata": {},
   "outputs": [
    {
     "name": "stdout",
     "output_type": "stream",
     "text": [
      "+-------+---------+-----------+---+\n",
      "|Consumo|Cilindros|Cilindradas| HP|\n",
      "+-------+---------+-----------+---+\n",
      "|     21|        6|        160|110|\n",
      "|     21|        6|        160|110|\n",
      "|    228|        4|        108| 93|\n",
      "|    214|        6|        258|110|\n",
      "|    187|        8|        360|175|\n",
      "+-------+---------+-----------+---+\n",
      "only showing top 5 rows\n",
      "\n"
     ]
    }
   ],
   "source": [
    "carros = carros_temp.select(\"Consumo\", \"Cilindros\", \"Cilindradas\", \"HP\")\n",
    "carros.show(5)"
   ]
  },
  {
   "cell_type": "markdown",
   "id": "c7433b06-8fa8-4f0f-80dd-7ab2e106a4d0",
   "metadata": {},
   "source": [
    "## Aplicando VectorAssembler"
   ]
  },
  {
   "cell_type": "code",
   "execution_count": 5,
   "id": "eafc6228-b6eb-4e18-a3e5-a8b14eb25a71",
   "metadata": {},
   "outputs": [],
   "source": [
    "vec_caracteristicas = VectorAssembler(inputCols=[(\"Consumo\"), (\"Cilindros\"), (\"Cilindradas\")], outputCol= \"caracteristicas\")"
   ]
  },
  {
   "cell_type": "code",
   "execution_count": 6,
   "id": "3513d919-296e-49db-97c0-108aafd14a2d",
   "metadata": {},
   "outputs": [],
   "source": [
    "carros_modificado = vec_caracteristicas.transform(carros)"
   ]
  },
  {
   "cell_type": "code",
   "execution_count": 7,
   "id": "90f1317a-67f1-44ac-a955-a784e7277ad9",
   "metadata": {},
   "outputs": [
    {
     "name": "stdout",
     "output_type": "stream",
     "text": [
      "+-------+---------+-----------+---+-----------------+\n",
      "|Consumo|Cilindros|Cilindradas| HP|  caracteristicas|\n",
      "+-------+---------+-----------+---+-----------------+\n",
      "|     21|        6|        160|110| [21.0,6.0,160.0]|\n",
      "|     21|        6|        160|110| [21.0,6.0,160.0]|\n",
      "|    228|        4|        108| 93|[228.0,4.0,108.0]|\n",
      "|    214|        6|        258|110|[214.0,6.0,258.0]|\n",
      "|    187|        8|        360|175|[187.0,8.0,360.0]|\n",
      "+-------+---------+-----------+---+-----------------+\n",
      "only showing top 5 rows\n",
      "\n"
     ]
    }
   ],
   "source": [
    "carros_modificado.show(5)\n",
    "# Note que a coluna caracteristicas contém todos os valores das outras (desconsiderando a coluna HP)"
   ]
  },
  {
   "cell_type": "markdown",
   "id": "5dbf8a0c-7368-43a5-b1dd-62c2673eba20",
   "metadata": {},
   "source": [
    "## Dividindo os dados em treino e teste"
   ]
  },
  {
   "cell_type": "code",
   "execution_count": 8,
   "id": "d61ec1e1-4405-4000-a524-8f5a84f121ca",
   "metadata": {},
   "outputs": [],
   "source": [
    "CarrosTreino, CarrosTeste = carros_modificado.randomSplit([.7, .3])"
   ]
  },
  {
   "cell_type": "code",
   "execution_count": 9,
   "id": "09b163b1-998a-43b3-8e6b-a0a72ee2ec43",
   "metadata": {},
   "outputs": [
    {
     "data": {
      "text/plain": [
       "24"
      ]
     },
     "execution_count": 9,
     "metadata": {},
     "output_type": "execute_result"
    }
   ],
   "source": [
    "CarrosTreino.count()"
   ]
  },
  {
   "cell_type": "code",
   "execution_count": 10,
   "id": "4130a990-f318-4c1c-9baf-687f6637d2b0",
   "metadata": {},
   "outputs": [
    {
     "data": {
      "text/plain": [
       "8"
      ]
     },
     "execution_count": 10,
     "metadata": {},
     "output_type": "execute_result"
    }
   ],
   "source": [
    "CarrosTeste.count()"
   ]
  },
  {
   "cell_type": "markdown",
   "id": "f205d26d-1f9e-4240-85e2-95dc9b1a05e2",
   "metadata": {},
   "source": [
    "# Modelo de Regressão Linear"
   ]
  },
  {
   "cell_type": "code",
   "execution_count": 11,
   "id": "49f33ee2-318d-4507-a7b8-adccaade3879",
   "metadata": {},
   "outputs": [],
   "source": [
    "reg_linear = LinearRegression(featuresCol=\"caracteristicas\", labelCol=\"HP\")"
   ]
  },
  {
   "cell_type": "code",
   "execution_count": 12,
   "id": "660b0eb3-eaae-4a07-8b09-494c070fde61",
   "metadata": {},
   "outputs": [
    {
     "name": "stdout",
     "output_type": "stream",
     "text": [
      "22/11/27 18:30:43 WARN Instrumentation: [29b42cbf] regParam is zero, which might cause numerical instability and overfitting.\n",
      "22/11/27 18:30:43 WARN InstanceBuilder$JavaBLAS: Failed to load implementation from:dev.ludovic.netlib.blas.VectorBLAS\n"
     ]
    }
   ],
   "source": [
    "modelo = reg_linear.fit(CarrosTreino)"
   ]
  },
  {
   "cell_type": "code",
   "execution_count": 13,
   "id": "749de831-eab5-40eb-9e98-343ecb8f3cde",
   "metadata": {},
   "outputs": [],
   "source": [
    "previsao = modelo.transform(CarrosTeste)"
   ]
  },
  {
   "cell_type": "code",
   "execution_count": 14,
   "id": "a089f399-4c48-4b47-9500-1157d67d8ff3",
   "metadata": {},
   "outputs": [
    {
     "name": "stdout",
     "output_type": "stream",
     "text": [
      "+-------+---------+-----------+---+------------------+------------------+\n",
      "|Consumo|Cilindros|Cilindradas| HP|   caracteristicas|        prediction|\n",
      "+-------+---------+-----------+---+------------------+------------------+\n",
      "|    104|        8|        460|215| [104.0,8.0,460.0]| 216.1995336312218|\n",
      "|    104|        8|        472|205| [104.0,8.0,472.0]|216.04992327962788|\n",
      "|    181|        6|        225|105| [181.0,6.0,225.0]|150.88417610752742|\n",
      "|    187|        8|        360|175| [187.0,8.0,360.0]|211.48306252933807|\n",
      "|    197|        6|        145|175| [197.0,6.0,145.0]|  150.732041288724|\n",
      "|    214|        6|        258|110| [214.0,6.0,258.0]|148.10182724244535|\n",
      "|    215|        4|       1201| 97|[215.0,4.0,1201.0]| 73.56002172707034|\n",
      "|    273|        4|         79| 66|  [273.0,4.0,79.0]| 83.38151738608767|\n",
      "+-------+---------+-----------+---+------------------+------------------+\n",
      "\n"
     ]
    }
   ],
   "source": [
    "previsao.show()"
   ]
  },
  {
   "cell_type": "markdown",
   "id": "47027d5c-e786-45e5-af7e-3d2434e57a45",
   "metadata": {},
   "source": [
    "## Avaliação do Modelo"
   ]
  },
  {
   "cell_type": "code",
   "execution_count": 15,
   "id": "bd543728-56d5-43a9-bbee-fa030651ead5",
   "metadata": {},
   "outputs": [],
   "source": [
    "avaliar = RegressionEvaluator(predictionCol=\"prediction\", labelCol=\"HP\", metricName=\"rmse\")"
   ]
  },
  {
   "cell_type": "code",
   "execution_count": 16,
   "id": "ce7a9c1a-3a47-40b7-803a-bd0cb48ec6f0",
   "metadata": {},
   "outputs": [],
   "source": [
    "rmse = avaliar.evaluate(previsao)"
   ]
  },
  {
   "cell_type": "code",
   "execution_count": 17,
   "id": "1458e316-69d8-4004-9b60-a90712f5feee",
   "metadata": {},
   "outputs": [
    {
     "name": "stdout",
     "output_type": "stream",
     "text": [
      "rmse calculado: 28.4 --> Quanto menor, melhor!\n"
     ]
    }
   ],
   "source": [
    "print(f\"rmse calculado: {round(rmse, 2)} --> Quanto menor, melhor!\")"
   ]
  },
  {
   "cell_type": "markdown",
   "id": "50786fce-c3a3-4597-98eb-39fc3afe95d3",
   "metadata": {},
   "source": [
    "# Modelo de Regressão Linear Rendom Forest"
   ]
  },
  {
   "cell_type": "code",
   "execution_count": 18,
   "id": "8bb9ab8a-8a7b-47e2-adef-f6385646c2e9",
   "metadata": {},
   "outputs": [],
   "source": [
    "rfreg = RandomForestRegressor(featuresCol=\"caracteristicas\", labelCol=\"HP\")"
   ]
  },
  {
   "cell_type": "code",
   "execution_count": 19,
   "id": "edf05885-7a2b-47c9-a5e0-83b2997885b8",
   "metadata": {},
   "outputs": [
    {
     "name": "stdout",
     "output_type": "stream",
     "text": [
      "22/11/27 18:30:43 WARN DecisionTreeMetadata: DecisionTree reducing maxBins from 32 to 24 (= number of training instances)\n"
     ]
    }
   ],
   "source": [
    "modelo_rf = rfreg.fit(CarrosTreino)"
   ]
  },
  {
   "cell_type": "code",
   "execution_count": 20,
   "id": "c7d74a41-829c-425b-b168-3e23f871b377",
   "metadata": {},
   "outputs": [],
   "source": [
    "previsao_rf = modelo_rf.transform(CarrosTeste)"
   ]
  },
  {
   "cell_type": "code",
   "execution_count": 21,
   "id": "cd9b9ba4-f335-4ec1-8554-4db45326b2a4",
   "metadata": {},
   "outputs": [
    {
     "name": "stdout",
     "output_type": "stream",
     "text": [
      "+-------+---------+-----------+---+------------------+------------------+\n",
      "|Consumo|Cilindros|Cilindradas| HP|   caracteristicas|        prediction|\n",
      "+-------+---------+-----------+---+------------------+------------------+\n",
      "|    104|        8|        460|215| [104.0,8.0,460.0]|213.94733511586455|\n",
      "|    104|        8|        472|205| [104.0,8.0,472.0]|213.94733511586455|\n",
      "|    181|        6|        225|105| [181.0,6.0,225.0]|129.42916666666667|\n",
      "|    187|        8|        360|175| [187.0,8.0,360.0]|194.43547905525847|\n",
      "|    197|        6|        145|175| [197.0,6.0,145.0]|127.26041666666667|\n",
      "|    214|        6|        258|110| [214.0,6.0,258.0]|124.52569444444445|\n",
      "|    215|        4|       1201| 97|[215.0,4.0,1201.0]| 86.21470959595959|\n",
      "|    273|        4|         79| 66|  [273.0,4.0,79.0]| 90.25804292929293|\n",
      "+-------+---------+-----------+---+------------------+------------------+\n",
      "\n"
     ]
    }
   ],
   "source": [
    "previsao_rf .show()"
   ]
  },
  {
   "cell_type": "code",
   "execution_count": 22,
   "id": "d3dd37cc-0976-4930-9f6d-2bfcaf804b96",
   "metadata": {},
   "outputs": [],
   "source": [
    "rmse_rf = avaliar.evaluate(previsao_rf)"
   ]
  },
  {
   "cell_type": "code",
   "execution_count": 23,
   "id": "505f496a-c964-44ce-ae3a-2adcdf7656ed",
   "metadata": {},
   "outputs": [
    {
     "name": "stdout",
     "output_type": "stream",
     "text": [
      "rmse calculado: 23.05 --> Quanto menor, melhor!\n"
     ]
    }
   ],
   "source": [
    "print(f\"rmse calculado: {round(rmse_rf, 2)} --> Quanto menor, melhor!\")"
   ]
  },
  {
   "cell_type": "code",
   "execution_count": 24,
   "id": "b7e5698a-442a-410e-bb2c-ae4278aa2c07",
   "metadata": {},
   "outputs": [
    {
     "name": "stdout",
     "output_type": "stream",
     "text": [
      "28.399260424586565 vs 23.050281155990238\n"
     ]
    }
   ],
   "source": [
    "print(f\"{rmse} vs {rmse_rf}\")"
   ]
  }
 ],
 "metadata": {
  "kernelspec": {
   "display_name": "Python 3 (ipykernel)",
   "language": "python",
   "name": "python3"
  },
  "language_info": {
   "codemirror_mode": {
    "name": "ipython",
    "version": 3
   },
   "file_extension": ".py",
   "mimetype": "text/x-python",
   "name": "python",
   "nbconvert_exporter": "python",
   "pygments_lexer": "ipython3",
   "version": "3.9.12"
  }
 },
 "nbformat": 4,
 "nbformat_minor": 5
}
