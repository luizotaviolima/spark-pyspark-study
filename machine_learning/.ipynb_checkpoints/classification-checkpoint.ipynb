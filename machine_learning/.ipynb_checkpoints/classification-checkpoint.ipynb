{
 "cells": [
  {
   "cell_type": "markdown",
   "id": "8ca96540-8a71-424d-b800-3fa5293baa63",
   "metadata": {},
   "source": [
    "# Machine Learning - Classificação"
   ]
  },
  {
   "cell_type": "markdown",
   "id": "928f4323-df65-4cfb-bc11-603bb173e5a1",
   "metadata": {},
   "source": [
    "## Imports"
   ]
  },
  {
   "cell_type": "code",
   "execution_count": 1,
   "id": "8a5d121f-2adf-4907-88ac-747c98628ac8",
   "metadata": {},
   "outputs": [],
   "source": [
    "from pyspark.ml.feature import RFormula\n",
    "from pyspark.ml.classification import DecisionTreeClassifier\n",
    "from pyspark.ml.evaluation import BinaryClassificationEvaluator"
   ]
  },
  {
   "cell_type": "markdown",
   "id": "b0cf64f9-e584-486b-abc4-981f965f6991",
   "metadata": {},
   "source": [
    "### Data Import"
   ]
  },
  {
   "cell_type": "code",
   "execution_count": 2,
   "id": "a1ff0a66-84bb-4f78-b6f6-bc29eb80dd38",
   "metadata": {},
   "outputs": [],
   "source": [
    "churn = spark.read.csv('./data/Churn.csv', header = True, sep=';')"
   ]
  },
  {
   "cell_type": "code",
   "execution_count": 3,
   "id": "009a86c0-781f-474e-9292-b5c12302a504",
   "metadata": {},
   "outputs": [
    {
     "name": "stdout",
     "output_type": "stream",
     "text": [
      "+-----------+---------+------+---+------+-------+-------------+---------+--------------+---------------+------+\n",
      "|CreditScore|Geography|Gender|Age|Tenure|Balance|NumOfProducts|HasCrCard|IsActiveMember|EstimatedSalary|Exited|\n",
      "+-----------+---------+------+---+------+-------+-------------+---------+--------------+---------------+------+\n",
      "|        619|   France|Female| 42|     2|      0|            1|        1|             1|       10134888|     1|\n",
      "|        608|    Spain|Female| 41|     1|8380786|            1|        0|             1|       11254258|     0|\n",
      "|        502|   France|Female| 42|     8|1596608|            3|        1|             0|       11393157|     1|\n",
      "+-----------+---------+------+---+------+-------+-------------+---------+--------------+---------------+------+\n",
      "only showing top 3 rows\n",
      "\n"
     ]
    }
   ],
   "source": [
    "churn.show(3)"
   ]
  },
  {
   "cell_type": "markdown",
   "id": "94331f66-13c9-49ba-beb7-60adf192bc9e",
   "metadata": {},
   "source": [
    "## Aplicando Classificação"
   ]
  },
  {
   "cell_type": "code",
   "execution_count": 4,
   "id": "81071c92-80db-4b63-a7e3-42da73166133",
   "metadata": {},
   "outputs": [],
   "source": [
    "formula = RFormula(formula='Exited ~ .', featuresCol='features', labelCol='label', handleInvalid='skip')"
   ]
  },
  {
   "cell_type": "code",
   "execution_count": 5,
   "id": "966af178-19b8-4c8b-8aad-fc9941b9413e",
   "metadata": {},
   "outputs": [
    {
     "name": "stderr",
     "output_type": "stream",
     "text": [
      "                                                                                \r"
     ]
    }
   ],
   "source": [
    "churn_trans = formula.fit(churn).transform(churn).select('features', 'label')"
   ]
  },
  {
   "cell_type": "code",
   "execution_count": 6,
   "id": "dc11efdf-1e70-47bf-aa1e-89be1f6777e0",
   "metadata": {},
   "outputs": [
    {
     "name": "stdout",
     "output_type": "stream",
     "text": [
      "+-----------------------------------------------------------------------------------------------+-----+\n",
      "|features                                                                                       |label|\n",
      "+-----------------------------------------------------------------------------------------------+-----+\n",
      "|(16925,[23,459,475,531,541,6922,6925,6926,7021],[1.0,1.0,1.0,1.0,1.0,1.0,1.0,1.0,1.0])         |1.0  |\n",
      "|(16925,[28,472,532,6081,6922,6926,7651],[1.0,1.0,1.0,1.0,1.0,1.0,1.0])                         |0.0  |\n",
      "|(16925,[285,459,475,534,4752,6924,6925,7722],[1.0,1.0,1.0,1.0,1.0,1.0,1.0,1.0])                |1.0  |\n",
      "|(16925,[43,459,469,532,541,6923,16598],[1.0,1.0,1.0,1.0,1.0,1.0,1.0])                          |0.0  |\n",
      "|(16925,[0,476,531,2655,6922,6925,6926,15729],[1.0,1.0,1.0,1.0,1.0,1.0,1.0,1.0])                |0.0  |\n",
      "|(16925,[17,461,478,534,1632,6923,6925,9741],[1.0,1.0,1.0,1.0,1.0,1.0,1.0,1.0])                 |1.0  |\n",
      "|(16925,[401,459,461,487,533,541,6923,6925,6926,6969],[1.0,1.0,1.0,1.0,1.0,1.0,1.0,1.0,1.0,1.0])|0.0  |\n",
      "|(16925,[428,460,473,537,1739,6925,8017],[1.0,1.0,1.0,1.0,1.0,1.0,1.0])                         |1.0  |\n",
      "|(16925,[240,459,461,478,537,3920,6923,6926,15504],[1.0,1.0,1.0,1.0,1.0,1.0,1.0,1.0,1.0])       |0.0  |\n",
      "|(16925,[5,459,461,481,531,3408,6922,6925,6926,15324],[1.0,1.0,1.0,1.0,1.0,1.0,1.0,1.0,1.0,1.0])|0.0  |\n",
      "|(16925,[215,459,461,471,539,678,6923,15802],[1.0,1.0,1.0,1.0,1.0,1.0,1.0,1.0])                 |0.0  |\n",
      "|(16925,[274,461,488,536,541,6923,6925,15575],[1.0,1.0,1.0,1.0,1.0,1.0,1.0,1.0])                |0.0  |\n",
      "|(16925,[351,459,466,540,541,6923,6925,12799],[1.0,1.0,1.0,1.0,1.0,1.0,1.0,1.0])                |0.0  |\n",
      "|(16925,[198,459,485,535,541,6923,11943],[1.0,1.0,1.0,1.0,1.0,1.0,1.0])                         |0.0  |\n",
      "|(16925,[33,464,533,541,6923,6925,6926,15014],[1.0,1.0,1.0,1.0,1.0,1.0,1.0,1.0])                |0.0  |\n",
      "|(16925,[61,460,461,479,536,3987,6923,6926,14914],[1.0,1.0,1.0,1.0,1.0,1.0,1.0,1.0,1.0])        |0.0  |\n",
      "|(16925,[67,460,461,498,532,3251,6922,6925,14159],[1.0,1.0,1.0,1.0,1.0,1.0,1.0,1.0,1.0])        |1.0  |\n",
      "|(16925,[198,488,538,541,6923,6925,6926,9423],[1.0,1.0,1.0,1.0,1.0,1.0,1.0,1.0])                |0.0  |\n",
      "|(16925,[129,461,479,539,541,6922,10190],[1.0,1.0,1.0,1.0,1.0,1.0,1.0])                         |0.0  |\n",
      "|(16925,[154,459,488,539,541,6923,6925,6926,14361],[1.0,1.0,1.0,1.0,1.0,1.0,1.0,1.0,1.0])       |0.0  |\n",
      "+-----------------------------------------------------------------------------------------------+-----+\n",
      "only showing top 20 rows\n",
      "\n"
     ]
    }
   ],
   "source": [
    "churn_trans.show(truncate=False)"
   ]
  },
  {
   "cell_type": "markdown",
   "id": "4b8470fd-7990-4648-a066-e28a403d1cd5",
   "metadata": {},
   "source": [
    "### Separando os dados transformados em treino e teste"
   ]
  },
  {
   "cell_type": "code",
   "execution_count": 7,
   "id": "972ca789-3b1f-48f0-a752-68c485f0e525",
   "metadata": {},
   "outputs": [],
   "source": [
    "churnTreino, churnTeste = churn_trans.randomSplit([.7, .3])"
   ]
  },
  {
   "cell_type": "code",
   "execution_count": 8,
   "id": "332c497c-50c4-4533-81c6-b3661eb04af5",
   "metadata": {},
   "outputs": [
    {
     "name": "stdout",
     "output_type": "stream",
     "text": [
      "22/12/07 15:00:43 WARN DAGScheduler: Broadcasting large task binary with size 2.9 MiB\n"
     ]
    },
    {
     "data": {
      "text/plain": [
       "7014"
      ]
     },
     "execution_count": 8,
     "metadata": {},
     "output_type": "execute_result"
    }
   ],
   "source": [
    "churnTreino.count()"
   ]
  },
  {
   "cell_type": "code",
   "execution_count": 9,
   "id": "15c403a0-3cbd-40b7-8333-556adcbdb3c9",
   "metadata": {},
   "outputs": [
    {
     "name": "stdout",
     "output_type": "stream",
     "text": [
      "22/12/07 15:00:43 WARN DAGScheduler: Broadcasting large task binary with size 2.9 MiB\n"
     ]
    },
    {
     "data": {
      "text/plain": [
       "2986"
      ]
     },
     "execution_count": 9,
     "metadata": {},
     "output_type": "execute_result"
    }
   ],
   "source": [
    "churnTeste.count()"
   ]
  },
  {
   "cell_type": "markdown",
   "id": "cb2d3037-61ab-48f6-a21c-e8e8d834a816",
   "metadata": {},
   "source": [
    "### Aplicando o DecisionTree Classifier"
   ]
  },
  {
   "cell_type": "code",
   "execution_count": 10,
   "id": "3548ed72-432a-4c38-b14e-a0348859fbd1",
   "metadata": {},
   "outputs": [],
   "source": [
    "dt = DecisionTreeClassifier(labelCol='label', featuresCol='features')"
   ]
  },
  {
   "cell_type": "code",
   "execution_count": 11,
   "id": "65eb528b-03d5-4ecd-8b6c-fa1b4e673d20",
   "metadata": {},
   "outputs": [
    {
     "name": "stdout",
     "output_type": "stream",
     "text": [
      "22/12/07 15:00:45 WARN DAGScheduler: Broadcasting large task binary with size 2.9 MiB\n",
      "22/12/07 15:00:45 WARN DAGScheduler: Broadcasting large task binary with size 2.9 MiB\n",
      "22/12/07 15:00:46 WARN DAGScheduler: Broadcasting large task binary with size 3.4 MiB\n"
     ]
    },
    {
     "name": "stderr",
     "output_type": "stream",
     "text": [
      "[Stage 44:>                                                         (0 + 1) / 1]\r"
     ]
    },
    {
     "name": "stdout",
     "output_type": "stream",
     "text": [
      "22/12/07 15:00:47 WARN MemoryStore: Not enough space to cache rdd_137_0 in memory! (computed 328.5 MiB so far)\n",
      "22/12/07 15:00:47 WARN BlockManager: Persisting block rdd_137_0 to disk instead.\n",
      "22/12/07 15:00:48 WARN MemoryStore: Not enough space to cache rdd_137_0 in memory! (computed 328.5 MiB so far)\n"
     ]
    },
    {
     "name": "stderr",
     "output_type": "stream",
     "text": [
      "                                                                                \r"
     ]
    },
    {
     "name": "stdout",
     "output_type": "stream",
     "text": [
      "22/12/07 15:00:49 WARN DAGScheduler: Broadcasting large task binary with size 3.4 MiB\n",
      "22/12/07 15:00:49 WARN MemoryStore: Not enough space to cache rdd_137_0 in memory! (computed 328.5 MiB so far)\n"
     ]
    },
    {
     "name": "stderr",
     "output_type": "stream",
     "text": [
      "                                                                                \r"
     ]
    },
    {
     "name": "stdout",
     "output_type": "stream",
     "text": [
      "22/12/07 15:00:49 WARN DAGScheduler: Broadcasting large task binary with size 3.4 MiB\n",
      "22/12/07 15:00:50 WARN MemoryStore: Not enough space to cache rdd_137_0 in memory! (computed 328.5 MiB so far)\n"
     ]
    },
    {
     "name": "stderr",
     "output_type": "stream",
     "text": [
      "                                                                                \r"
     ]
    },
    {
     "name": "stdout",
     "output_type": "stream",
     "text": [
      "22/12/07 15:00:51 WARN DAGScheduler: Broadcasting large task binary with size 3.4 MiB\n",
      "22/12/07 15:00:51 WARN MemoryStore: Not enough space to cache rdd_137_0 in memory! (computed 328.5 MiB so far)\n"
     ]
    },
    {
     "name": "stderr",
     "output_type": "stream",
     "text": [
      "                                                                                \r"
     ]
    },
    {
     "name": "stdout",
     "output_type": "stream",
     "text": [
      "22/12/07 15:00:52 WARN DAGScheduler: Broadcasting large task binary with size 3.4 MiB\n",
      "22/12/07 15:00:52 WARN MemoryStore: Not enough space to cache rdd_137_0 in memory! (computed 328.5 MiB so far)\n"
     ]
    },
    {
     "name": "stderr",
     "output_type": "stream",
     "text": [
      "                                                                                \r"
     ]
    }
   ],
   "source": [
    "modelo = dt.fit(churnTreino)"
   ]
  },
  {
   "cell_type": "code",
   "execution_count": 12,
   "id": "f947b2c3-de92-4f7b-af7b-59e6245c5540",
   "metadata": {},
   "outputs": [],
   "source": [
    "previsao = modelo.transform(churnTeste)"
   ]
  },
  {
   "cell_type": "code",
   "execution_count": 13,
   "id": "bf33ad2a-0fd3-4eea-bd29-030b26dd8480",
   "metadata": {},
   "outputs": [
    {
     "name": "stdout",
     "output_type": "stream",
     "text": [
      "22/12/07 15:00:53 WARN DAGScheduler: Broadcasting large task binary with size 2.9 MiB\n",
      "+--------------------+-----+--------------+--------------------+----------+\n",
      "|            features|label| rawPrediction|         probability|prediction|\n",
      "+--------------------+-----+--------------+--------------------+----------+\n",
      "|(16925,[0,459,461...|  0.0| [861.0,413.0]|[0.67582417582417...|       0.0|\n",
      "|(16925,[0,459,461...|  0.0| [1743.0,52.0]|[0.97103064066852...|       0.0|\n",
      "|(16925,[0,459,461...|  0.0| [861.0,413.0]|[0.67582417582417...|       0.0|\n",
      "|(16925,[0,459,461...|  0.0|[1158.0,203.0]|[0.85084496693607...|       0.0|\n",
      "|(16925,[0,459,461...|  0.0|[1158.0,203.0]|[0.85084496693607...|       0.0|\n",
      "|(16925,[0,459,461...|  0.0| [861.0,413.0]|[0.67582417582417...|       0.0|\n",
      "|(16925,[0,459,461...|  0.0|[1158.0,203.0]|[0.85084496693607...|       0.0|\n",
      "|(16925,[0,459,461...|  0.0| [861.0,413.0]|[0.67582417582417...|       0.0|\n",
      "|(16925,[0,459,461...|  0.0|[1158.0,203.0]|[0.85084496693607...|       0.0|\n",
      "|(16925,[0,459,461...|  0.0|[1158.0,203.0]|[0.85084496693607...|       0.0|\n",
      "|(16925,[0,459,461...|  0.0|[1224.0,163.0]|[0.88248017303532...|       0.0|\n",
      "|(16925,[0,459,461...|  0.0| [1743.0,52.0]|[0.97103064066852...|       0.0|\n",
      "|(16925,[0,459,461...|  0.0|[1224.0,163.0]|[0.88248017303532...|       0.0|\n",
      "|(16925,[0,459,461...|  0.0| [1743.0,52.0]|[0.97103064066852...|       0.0|\n",
      "|(16925,[0,459,461...|  0.0| [861.0,413.0]|[0.67582417582417...|       0.0|\n",
      "|(16925,[0,459,461...|  0.0| [1743.0,52.0]|[0.97103064066852...|       0.0|\n",
      "|(16925,[0,459,461...|  0.0|[1158.0,203.0]|[0.85084496693607...|       0.0|\n",
      "|(16925,[0,459,461...|  0.0| [861.0,413.0]|[0.67582417582417...|       0.0|\n",
      "|(16925,[0,459,461...|  0.0|[1224.0,163.0]|[0.88248017303532...|       0.0|\n",
      "|(16925,[0,459,461...|  1.0| [861.0,413.0]|[0.67582417582417...|       0.0|\n",
      "+--------------------+-----+--------------+--------------------+----------+\n",
      "only showing top 20 rows\n",
      "\n"
     ]
    },
    {
     "name": "stderr",
     "output_type": "stream",
     "text": [
      "                                                                                \r"
     ]
    }
   ],
   "source": [
    "previsao.show()"
   ]
  },
  {
   "cell_type": "code",
   "execution_count": 14,
   "id": "1dff1c76-2614-4f3c-a672-3de34062c472",
   "metadata": {},
   "outputs": [
    {
     "name": "stdout",
     "output_type": "stream",
     "text": [
      "22/12/07 15:00:55 WARN DAGScheduler: Broadcasting large task binary with size 2.9 MiB\n",
      "+-----------------------------------------------------------------------------------------------+-----+--------------+-----------------------------------------+----------+\n",
      "|features                                                                                       |label|rawPrediction |probability                              |prediction|\n",
      "+-----------------------------------------------------------------------------------------------+-----+--------------+-----------------------------------------+----------+\n",
      "|(16925,[0,459,461,462,537,2770,6922,6925,12307],[1.0,1.0,1.0,1.0,1.0,1.0,1.0,1.0,1.0])         |0.0  |[861.0,413.0] |[0.6758241758241759,0.3241758241758242]  |0.0       |\n",
      "|(16925,[0,459,461,462,539,541,6923,6925,7488],[1.0,1.0,1.0,1.0,1.0,1.0,1.0,1.0,1.0])           |0.0  |[1743.0,52.0] |[0.9710306406685236,0.028969359331476322]|0.0       |\n",
      "|(16925,[0,459,461,463,533,5935,6922,8447],[1.0,1.0,1.0,1.0,1.0,1.0,1.0,1.0])                   |0.0  |[861.0,413.0] |[0.6758241758241759,0.3241758241758242]  |0.0       |\n",
      "|(16925,[0,459,461,466,531,5698,6922,6925,6926,7823],[1.0,1.0,1.0,1.0,1.0,1.0,1.0,1.0,1.0,1.0]) |0.0  |[1158.0,203.0]|[0.8508449669360764,0.14915503306392358] |0.0       |\n",
      "|(16925,[0,459,461,466,539,541,6922,6926,14256],[1.0,1.0,1.0,1.0,1.0,1.0,1.0,1.0,1.0])          |0.0  |[1158.0,203.0]|[0.8508449669360764,0.14915503306392358] |0.0       |\n",
      "|(16925,[0,459,461,467,533,3845,6922,13286],[1.0,1.0,1.0,1.0,1.0,1.0,1.0,1.0])                  |0.0  |[861.0,413.0] |[0.6758241758241759,0.3241758241758242]  |0.0       |\n",
      "|(16925,[0,459,461,467,2598,6922,6926,13204],[1.0,1.0,1.0,1.0,1.0,1.0,1.0,1.0])                 |0.0  |[1158.0,203.0]|[0.8508449669360764,0.14915503306392358] |0.0       |\n",
      "|(16925,[0,459,461,468,534,741,6922,6925,14718],[1.0,1.0,1.0,1.0,1.0,1.0,1.0,1.0,1.0])          |0.0  |[861.0,413.0] |[0.6758241758241759,0.3241758241758242]  |0.0       |\n",
      "|(16925,[0,459,461,468,539,6734,6922,6926,16292],[1.0,1.0,1.0,1.0,1.0,1.0,1.0,1.0,1.0])         |0.0  |[1158.0,203.0]|[0.8508449669360764,0.14915503306392358] |0.0       |\n",
      "|(16925,[0,459,461,470,537,541,6922,6925,6926,11416],[1.0,1.0,1.0,1.0,1.0,1.0,1.0,1.0,1.0,1.0]) |0.0  |[1158.0,203.0]|[0.8508449669360764,0.14915503306392358] |0.0       |\n",
      "|(16925,[0,459,461,471,532,6663,6923,6925,7326],[1.0,1.0,1.0,1.0,1.0,1.0,1.0,1.0,1.0])          |0.0  |[1224.0,163.0]|[0.882480173035328,0.11751982696467195]  |0.0       |\n",
      "|(16925,[0,459,461,471,536,541,6923,6925,8170],[1.0,1.0,1.0,1.0,1.0,1.0,1.0,1.0,1.0])           |0.0  |[1743.0,52.0] |[0.9710306406685236,0.028969359331476322]|0.0       |\n",
      "|(16925,[0,459,461,471,539,3202,6923,6925,6926,11306],[1.0,1.0,1.0,1.0,1.0,1.0,1.0,1.0,1.0,1.0])|0.0  |[1224.0,163.0]|[0.882480173035328,0.11751982696467195]  |0.0       |\n",
      "|(16925,[0,459,461,473,532,541,6923,9901],[1.0,1.0,1.0,1.0,1.0,1.0,1.0,1.0])                    |0.0  |[1743.0,52.0] |[0.9710306406685236,0.028969359331476322]|0.0       |\n",
      "|(16925,[0,459,461,474,538,2296,6922,13565],[1.0,1.0,1.0,1.0,1.0,1.0,1.0,1.0])                  |0.0  |[861.0,413.0] |[0.6758241758241759,0.3241758241758242]  |0.0       |\n",
      "|(16925,[0,459,461,475,541,6923,6925,13771],[1.0,1.0,1.0,1.0,1.0,1.0,1.0,1.0])                  |0.0  |[1743.0,52.0] |[0.9710306406685236,0.028969359331476322]|0.0       |\n",
      "|(16925,[0,459,461,476,537,4795,6922,6925,6926,9186],[1.0,1.0,1.0,1.0,1.0,1.0,1.0,1.0,1.0,1.0]) |0.0  |[1158.0,203.0]|[0.8508449669360764,0.14915503306392358] |0.0       |\n",
      "|(16925,[0,459,461,480,538,1970,6922,6925,16303],[1.0,1.0,1.0,1.0,1.0,1.0,1.0,1.0,1.0])         |0.0  |[861.0,413.0] |[0.6758241758241759,0.3241758241758242]  |0.0       |\n",
      "|(16925,[0,459,461,481,539,6680,6923,9883],[1.0,1.0,1.0,1.0,1.0,1.0,1.0,1.0])                   |0.0  |[1224.0,163.0]|[0.882480173035328,0.11751982696467195]  |0.0       |\n",
      "|(16925,[0,459,461,494,539,541,6922,6925,16631],[1.0,1.0,1.0,1.0,1.0,1.0,1.0,1.0,1.0])          |1.0  |[861.0,413.0] |[0.6758241758241759,0.3241758241758242]  |0.0       |\n",
      "+-----------------------------------------------------------------------------------------------+-----+--------------+-----------------------------------------+----------+\n",
      "only showing top 20 rows\n",
      "\n"
     ]
    }
   ],
   "source": [
    "previsao.show(truncate=False)"
   ]
  },
  {
   "cell_type": "markdown",
   "id": "ecbc97ed-3414-4fd7-af5a-b070a0f635b7",
   "metadata": {},
   "source": [
    "### Avaliação da Performance"
   ]
  },
  {
   "cell_type": "code",
   "execution_count": 15,
   "id": "5a35c27e-bd61-4b47-9686-bdd92a4aa5c2",
   "metadata": {},
   "outputs": [],
   "source": [
    "avaliar = BinaryClassificationEvaluator(rawPredictionCol='prediction', labelCol='label', metricName='areaUnderROC')"
   ]
  },
  {
   "cell_type": "code",
   "execution_count": 16,
   "id": "4d391e6e-d2f5-4806-b9ff-382b26a8338f",
   "metadata": {},
   "outputs": [
    {
     "name": "stdout",
     "output_type": "stream",
     "text": [
      "22/12/07 15:00:55 WARN DAGScheduler: Broadcasting large task binary with size 2.9 MiB\n"
     ]
    }
   ],
   "source": [
    "areaUnderRoc = avaliar.evaluate(previsao)"
   ]
  },
  {
   "cell_type": "code",
   "execution_count": 17,
   "id": "c75db406-e705-4976-9e36-f28909778714",
   "metadata": {},
   "outputs": [
    {
     "name": "stdout",
     "output_type": "stream",
     "text": [
      "0.6225945684965821\n"
     ]
    }
   ],
   "source": [
    "print(areaUnderRoc)"
   ]
  }
 ],
 "metadata": {
  "kernelspec": {
   "display_name": "Python 3 (ipykernel)",
   "language": "python",
   "name": "python3"
  },
  "language_info": {
   "codemirror_mode": {
    "name": "ipython",
    "version": 3
   },
   "file_extension": ".py",
   "mimetype": "text/x-python",
   "name": "python",
   "nbconvert_exporter": "python",
   "pygments_lexer": "ipython3",
   "version": "3.9.12"
  },
  "toc-autonumbering": true,
  "toc-showcode": false,
  "toc-showmarkdowntxt": false
 },
 "nbformat": 4,
 "nbformat_minor": 5
}
