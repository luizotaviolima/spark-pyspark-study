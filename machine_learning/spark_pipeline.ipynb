{
 "cells": [
  {
   "cell_type": "markdown",
   "id": "4b60854e-b3b8-4281-bfc5-c1ac50de7d03",
   "metadata": {},
   "source": [
    "# Replicando um Modelo de Regressão"
   ]
  },
  {
   "cell_type": "code",
   "execution_count": 1,
   "id": "23d3aceb-cb75-47d9-8f18-be7486572389",
   "metadata": {},
   "outputs": [],
   "source": [
    "from pyspark.ml.regression import LinearRegression\n",
    "from pyspark.ml.feature import VectorAssembler"
   ]
  },
  {
   "cell_type": "code",
   "execution_count": 2,
   "id": "8ca924b5-8272-4dd0-8cd7-774b241fd5db",
   "metadata": {},
   "outputs": [],
   "source": [
    "Carros_temp = spark.read.csv('./data/Carros.csv', header=True, sep=';', inferSchema=True)"
   ]
  },
  {
   "cell_type": "code",
   "execution_count": 3,
   "id": "158a363e-c4bf-4d13-87c2-1b3b9b9e3af1",
   "metadata": {},
   "outputs": [
    {
     "name": "stdout",
     "output_type": "stream",
     "text": [
      "+-------+---------+-----------+---------------+----+-----+---------+-----------+-------+-----------+---+\n",
      "|Consumo|Cilindros|Cilindradas|RelEixoTraseiro|Peso|Tempo|TipoMotor|Transmissao|Marchas|Carburadors| HP|\n",
      "+-------+---------+-----------+---------------+----+-----+---------+-----------+-------+-----------+---+\n",
      "|     21|        6|        160|             39| 262| 1646|        0|          1|      4|          4|110|\n",
      "|     21|        6|        160|             39|2875| 1702|        0|          1|      4|          4|110|\n",
      "|    228|        4|        108|            385| 232| 1861|        1|          1|      4|          1| 93|\n",
      "|    214|        6|        258|            308|3215| 1944|        1|          0|      3|          1|110|\n",
      "|    187|        8|        360|            315| 344| 1702|        0|          0|      3|          2|175|\n",
      "|    181|        6|        225|            276| 346| 2022|        1|          0|      3|          1|105|\n",
      "|    143|        8|        360|            321| 357| 1584|        0|          0|      3|          4|245|\n",
      "|    244|        4|       1467|            369| 319|   20|        1|          0|      4|          2| 62|\n",
      "|    228|        4|       1408|            392| 315|  229|        1|          0|      4|          2| 95|\n",
      "|    192|        6|       1676|            392| 344|  183|        1|          0|      4|          4|123|\n",
      "|    178|        6|       1676|            392| 344|  189|        1|          0|      4|          4|123|\n",
      "|    164|        8|       2758|            307| 407|  174|        0|          0|      3|          3|180|\n",
      "|    173|        8|       2758|            307| 373|  176|        0|          0|      3|          3|180|\n",
      "|    152|        8|       2758|            307| 378|   18|        0|          0|      3|          3|180|\n",
      "|    104|        8|        472|            293| 525| 1798|        0|          0|      3|          4|205|\n",
      "|    104|        8|        460|              3|5424| 1782|        0|          0|      3|          4|215|\n",
      "|    147|        8|        440|            323|5345| 1742|        0|          0|      3|          4|230|\n",
      "|    324|        4|        787|            408|  22| 1947|        1|          1|      4|          1| 66|\n",
      "|    304|        4|        757|            493|1615| 1852|        1|          1|      4|          2| 52|\n",
      "|    339|        4|        711|            422|1835|  199|        1|          1|      4|          1| 65|\n",
      "+-------+---------+-----------+---------------+----+-----+---------+-----------+-------+-----------+---+\n",
      "only showing top 20 rows\n",
      "\n"
     ]
    }
   ],
   "source": [
    "Carros_temp.show()"
   ]
  },
  {
   "cell_type": "code",
   "execution_count": 4,
   "id": "7d259018-4397-4b7a-9424-7a591b83df59",
   "metadata": {},
   "outputs": [
    {
     "name": "stdout",
     "output_type": "stream",
     "text": [
      "+-------+---------+-----------+---+\n",
      "|consumo|cilindros|cilindradas| HP|\n",
      "+-------+---------+-----------+---+\n",
      "|     21|        6|        160|110|\n",
      "|     21|        6|        160|110|\n",
      "|    228|        4|        108| 93|\n",
      "|    214|        6|        258|110|\n",
      "+-------+---------+-----------+---+\n",
      "only showing top 4 rows\n",
      "\n"
     ]
    }
   ],
   "source": [
    "Carros = Carros_temp.select('consumo', 'cilindros', 'cilindradas', 'HP')\n",
    "Carros.show(4)"
   ]
  },
  {
   "cell_type": "code",
   "execution_count": 5,
   "id": "b142c168-d03a-4bc4-8de5-af64b54d0fbb",
   "metadata": {},
   "outputs": [],
   "source": [
    "veccaracteristicas = VectorAssembler(inputCols=[('consumo'), ('cilindros'), ('cilindradas')], outputCol='caracteristicas')"
   ]
  },
  {
   "cell_type": "code",
   "execution_count": 6,
   "id": "b42e9945-2ccf-4ec0-a71c-afb7f7a8eaaf",
   "metadata": {},
   "outputs": [],
   "source": [
    "vec_CarrosTreino = veccaracteristicas.transform(Carros)"
   ]
  },
  {
   "cell_type": "markdown",
   "id": "e17aa19e-8f65-4ddf-b324-4715a86f537c",
   "metadata": {},
   "source": [
    "vec_CarrosTreino.show()"
   ]
  },
  {
   "cell_type": "code",
   "execution_count": 7,
   "id": "b06c072d-165f-4448-878d-e9b1506241e3",
   "metadata": {},
   "outputs": [],
   "source": [
    "reglin = LinearRegression(featuresCol='caracteristicas', labelCol='HP')"
   ]
  },
  {
   "cell_type": "code",
   "execution_count": 8,
   "id": "075e7c5d-d09c-4624-ab54-14f4275161d4",
   "metadata": {},
   "outputs": [
    {
     "name": "stdout",
     "output_type": "stream",
     "text": [
      "22/12/07 15:17:50 WARN Instrumentation: [a31e8fc0] regParam is zero, which might cause numerical instability and overfitting.\n",
      "22/12/07 15:17:50 WARN InstanceBuilder$JavaBLAS: Failed to load implementation from:dev.ludovic.netlib.blas.VectorBLAS\n"
     ]
    }
   ],
   "source": [
    "modelo = reglin.fit(vec_CarrosTreino)"
   ]
  },
  {
   "cell_type": "markdown",
   "id": "fb47f5f2-5eeb-409f-a7b5-e1f8a0334798",
   "metadata": {
    "tags": []
   },
   "source": [
    "# Pipeline"
   ]
  },
  {
   "cell_type": "code",
   "execution_count": 9,
   "id": "415a985f-de23-4279-94b8-844a9aa2feca",
   "metadata": {},
   "outputs": [],
   "source": [
    "from pyspark.ml import Pipeline"
   ]
  },
  {
   "cell_type": "code",
   "execution_count": 10,
   "id": "d36258de-615e-4a95-a842-f17dd890c75e",
   "metadata": {},
   "outputs": [],
   "source": [
    "pipeline = Pipeline(stages=[veccaracteristicas, reglin])"
   ]
  },
  {
   "cell_type": "code",
   "execution_count": 11,
   "id": "6967b0da-b053-4cdc-9a60-b92ffae33621",
   "metadata": {},
   "outputs": [
    {
     "name": "stdout",
     "output_type": "stream",
     "text": [
      "22/12/07 15:17:50 WARN Instrumentation: [e8313bb3] regParam is zero, which might cause numerical instability and overfitting.\n"
     ]
    }
   ],
   "source": [
    "pipelineModel = pipeline.fit(Carros)"
   ]
  },
  {
   "cell_type": "code",
   "execution_count": 12,
   "id": "7a38f1d8-b22a-461b-8490-fb28ac4ff547",
   "metadata": {},
   "outputs": [],
   "source": [
    "previsao = pipelineModel.transform(Carros)"
   ]
  },
  {
   "cell_type": "code",
   "execution_count": 13,
   "id": "b48a4b2d-5755-4fd8-9168-fdb0df667ef3",
   "metadata": {},
   "outputs": [
    {
     "name": "stdout",
     "output_type": "stream",
     "text": [
      "+-------+---------+-----------+---+------------------+------------------+\n",
      "|consumo|cilindros|cilindradas| HP|   caracteristicas|        prediction|\n",
      "+-------+---------+-----------+---+------------------+------------------+\n",
      "|     21|        6|        160|110|  [21.0,6.0,160.0]|162.32154816816646|\n",
      "|     21|        6|        160|110|  [21.0,6.0,160.0]|162.32154816816646|\n",
      "|    228|        4|        108| 93| [228.0,4.0,108.0]| 82.51715587712931|\n",
      "|    214|        6|        258|110| [214.0,6.0,258.0]|141.86680518718754|\n",
      "|    187|        8|        360|175| [187.0,8.0,360.0]|202.93528239714834|\n",
      "|    181|        6|        225|105| [181.0,6.0,225.0]| 145.4980634611832|\n",
      "|    143|        8|        360|245| [143.0,8.0,360.0]|   207.41448530972|\n",
      "|    244|        4|       1467| 62|[244.0,4.0,1467.0]| 69.69282676584851|\n",
      "|    228|        4|       1408| 95|[228.0,4.0,1408.0]| 71.80767356085781|\n",
      "|    192|        6|       1676|123|[192.0,6.0,1676.0]|132.42483285541724|\n",
      "|    178|        6|       1676|123|[178.0,6.0,1676.0]| 133.8500337821446|\n",
      "|    164|        8|       2758|180|[164.0,8.0,2758.0]|185.52180807776818|\n",
      "|    173|        8|       2758|180|[173.0,8.0,2758.0]|184.60560748201488|\n",
      "|    152|        8|       2758|180|[152.0,8.0,2758.0]| 186.7434088721059|\n",
      "|    104|        8|        472|205| [104.0,8.0,472.0]| 210.4620247994542|\n",
      "|    104|        8|        460|215| [104.0,8.0,460.0]|210.56088155929672|\n",
      "|    147|        8|        440|230| [147.0,8.0,440.0]|206.34823997932406|\n",
      "|    324|        4|        787| 66| [324.0,4.0,787.0]| 67.15070452800569|\n",
      "|    304|        4|        757| 52| [304.0,4.0,757.0]| 69.43384775150815|\n",
      "|    339|        4|        711| 65| [339.0,4.0,711.0]| 66.24979634741939|\n",
      "+-------+---------+-----------+---+------------------+------------------+\n",
      "only showing top 20 rows\n",
      "\n"
     ]
    }
   ],
   "source": [
    "previsao.show()"
   ]
  }
 ],
 "metadata": {
  "kernelspec": {
   "display_name": "Python 3 (ipykernel)",
   "language": "python",
   "name": "python3"
  },
  "language_info": {
   "codemirror_mode": {
    "name": "ipython",
    "version": 3
   },
   "file_extension": ".py",
   "mimetype": "text/x-python",
   "name": "python",
   "nbconvert_exporter": "python",
   "pygments_lexer": "ipython3",
   "version": "3.9.12"
  },
  "toc-autonumbering": true
 },
 "nbformat": 4,
 "nbformat_minor": 5
}
