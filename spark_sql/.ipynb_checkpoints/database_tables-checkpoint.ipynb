{
 "cells": [
  {
   "cell_type": "code",
   "execution_count": 1,
   "id": "f1144ffe-f9f2-4914-84d9-acb5f946aac0",
   "metadata": {},
   "outputs": [],
   "source": [
    "from pyspark.sql import SparkSession\n",
    "from pyspark.sql.types import *"
   ]
  },
  {
   "cell_type": "markdown",
   "id": "b65f31fe-03ea-414c-a100-5c9dbc6703e4",
   "metadata": {},
   "source": [
    "# 1 - Spark SQL"
   ]
  },
  {
   "cell_type": "markdown",
   "id": "8f29dbd5-52bf-4537-82c3-447cd0da10f8",
   "metadata": {},
   "source": [
    "## 1.1 - Visualização da tabela default"
   ]
  },
  {
   "cell_type": "code",
   "execution_count": 2,
   "id": "70d13441-0b1d-49b0-81b8-10a92e5ca0b6",
   "metadata": {},
   "outputs": [
    {
     "name": "stdout",
     "output_type": "stream",
     "text": [
      "22/11/20 14:25:58 WARN HiveConf: HiveConf of name hive.stats.jdbc.timeout does not exist\n",
      "22/11/20 14:25:58 WARN HiveConf: HiveConf of name hive.stats.retries.wait does not exist\n",
      "22/11/20 14:26:00 WARN ObjectStore: Version information not found in metastore. hive.metastore.schema.verification is not enabled so recording the schema version 2.3.0\n",
      "22/11/20 14:26:00 WARN ObjectStore: setMetaStoreSchemaVersion called but recording version is disabled: version = 2.3.0, comment = Set by MetaStore lztv@127.0.1.1\n",
      "22/11/20 14:26:00 WARN ObjectStore: Failed to get database default, returning NoSuchObjectException\n",
      "+---------+\n",
      "|namespace|\n",
      "+---------+\n",
      "|  default|\n",
      "+---------+\n",
      "\n"
     ]
    }
   ],
   "source": [
    "spark.sql(\"show databases\").show()"
   ]
  },
  {
   "cell_type": "markdown",
   "id": "4964866c-35cb-42e3-9610-01c75e58b0bf",
   "metadata": {},
   "source": [
    "## 1.2 - Criando um banco de dados"
   ]
  },
  {
   "cell_type": "code",
   "execution_count": 3,
   "id": "fcc58209-501a-48ca-b4d0-f08b28ef64d5",
   "metadata": {},
   "outputs": [
    {
     "name": "stdout",
     "output_type": "stream",
     "text": [
      "22/11/20 14:26:00 WARN ObjectStore: Failed to get database desp, returning NoSuchObjectException\n",
      "22/11/20 14:26:00 WARN ObjectStore: Failed to get database desp, returning NoSuchObjectException\n",
      "22/11/20 14:26:00 WARN ObjectStore: Failed to get database global_temp, returning NoSuchObjectException\n",
      "22/11/20 14:26:00 WARN ObjectStore: Failed to get database desp, returning NoSuchObjectException\n"
     ]
    },
    {
     "data": {
      "text/plain": [
       "DataFrame[]"
      ]
     },
     "execution_count": 3,
     "metadata": {},
     "output_type": "execute_result"
    }
   ],
   "source": [
    "# nome do banco de dados: \"desp\"\n",
    "spark.sql(\"create database desp\")"
   ]
  },
  {
   "cell_type": "code",
   "execution_count": 4,
   "id": "88ec4fe0-8bcf-44d0-96e3-b2e1a8fb14d2",
   "metadata": {},
   "outputs": [
    {
     "name": "stdout",
     "output_type": "stream",
     "text": [
      "+---------+\n",
      "|namespace|\n",
      "+---------+\n",
      "|  default|\n",
      "|     desp|\n",
      "+---------+\n",
      "\n"
     ]
    }
   ],
   "source": [
    "spark.sql(\"show databases\").show()"
   ]
  },
  {
   "cell_type": "markdown",
   "id": "956764ec-d21d-4d9a-bbdd-2ae8dfdf38f6",
   "metadata": {},
   "source": [
    "## 1.3 - Apontamento para o banco de dados criado"
   ]
  },
  {
   "cell_type": "code",
   "execution_count": 5,
   "id": "2b594207-2d78-4b59-a061-420f7ed361f1",
   "metadata": {},
   "outputs": [
    {
     "name": "stdout",
     "output_type": "stream",
     "text": [
      "++\n",
      "||\n",
      "++\n",
      "++\n",
      "\n"
     ]
    }
   ],
   "source": [
    "# É necessário realizar esses apontamento para o banco que se deseja trabalhar\n",
    "spark.sql(\"use desp\").show()"
   ]
  },
  {
   "cell_type": "markdown",
   "id": "e092ed9f-da85-4556-807f-fec93ffa67b7",
   "metadata": {},
   "source": [
    "# 2 - Criando novamente o DataFrame \"Despachantes\""
   ]
  },
  {
   "cell_type": "code",
   "execution_count": 6,
   "id": "5ecb689b-a403-410f-a7e1-5859dfec697c",
   "metadata": {},
   "outputs": [],
   "source": [
    "arqschema = \"\"\"id INT, nome STRING, \n",
    "               status STRING, \n",
    "               cidade STRING, \n",
    "               vendas INT, \n",
    "               data STRING\"\"\""
   ]
  },
  {
   "cell_type": "code",
   "execution_count": 10,
   "id": "2839cd58-1658-4201-93ce-6b7bec7401e2",
   "metadata": {},
   "outputs": [
    {
     "name": "stdout",
     "output_type": "stream",
     "text": [
      "+---+-------------------+------+-------------+------+----------+\n",
      "| id|               nome|status|       cidade|vendas|      data|\n",
      "+---+-------------------+------+-------------+------+----------+\n",
      "|  1|   Carminda Pestana| Ativo|  Santa Maria|    23|2020-08-11|\n",
      "|  2|    Deolinda Vilela| Ativo|Novo Hamburgo|    34|2020-03-05|\n",
      "|  3|   Emídio Dornelles| Ativo| Porto Alegre|    34|2020-02-05|\n",
      "|  4|Felisbela Dornelles| Ativo| Porto Alegre|    36|2020-02-05|\n",
      "|  5|     Graça Ornellas| Ativo| Porto Alegre|    12|2020-02-05|\n",
      "|  6|   Matilde Rebouças| Ativo| Porto Alegre|    22|2019-01-05|\n",
      "|  7|    Noêmia   Orriça| Ativo|  Santa Maria|    45|2019-10-05|\n",
      "|  8|      Roque Vásquez| Ativo| Porto Alegre|    65|2020-03-05|\n",
      "|  9|      Uriel Queiroz| Ativo| Porto Alegre|    54|2018-05-05|\n",
      "| 10|   Viviana Sequeira| Ativo| Porto Alegre|     0|2020-09-05|\n",
      "+---+-------------------+------+-------------+------+----------+\n",
      "\n"
     ]
    }
   ],
   "source": [
    "despachantes = spark.read.csv(\"../spark_rdd_pyspark/data/despachantes.csv\", header = False, schema = arqschema)\n",
    "despachantes.show()"
   ]
  },
  {
   "cell_type": "markdown",
   "id": "31433ff4-5727-43f9-9a48-030838806b47",
   "metadata": {},
   "source": [
    "## 2.1 - Transformando o DataFrame em tabela"
   ]
  },
  {
   "cell_type": "code",
   "execution_count": null,
   "id": "4412deb6-03f7-4138-962c-ad262ca1c123",
   "metadata": {},
   "outputs": [],
   "source": [
    "despachantes.write.saveAsTable(\"Despachantes\")"
   ]
  }
 ],
 "metadata": {
  "kernelspec": {
   "display_name": "Python 3 (ipykernel)",
   "language": "python",
   "name": "python3"
  },
  "language_info": {
   "codemirror_mode": {
    "name": "ipython",
    "version": 3
   },
   "file_extension": ".py",
   "mimetype": "text/x-python",
   "name": "python",
   "nbconvert_exporter": "python",
   "pygments_lexer": "ipython3",
   "version": "3.9.12"
  }
 },
 "nbformat": 4,
 "nbformat_minor": 5
}
