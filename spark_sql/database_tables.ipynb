{
 "cells": [
  {
   "cell_type": "code",
   "execution_count": 1,
   "id": "f1144ffe-f9f2-4914-84d9-acb5f946aac0",
   "metadata": {},
   "outputs": [],
   "source": [
    "from pyspark.sql import SparkSession\n",
    "from pyspark.sql.types import *\n",
    "from pyspark.sql import functions as Func\n",
    "from pyspark.sql.functions import *\n"
   ]
  },
  {
   "cell_type": "markdown",
   "id": "b65f31fe-03ea-414c-a100-5c9dbc6703e4",
   "metadata": {},
   "source": [
    "# 1 - Spark SQL"
   ]
  },
  {
   "cell_type": "markdown",
   "id": "8f29dbd5-52bf-4537-82c3-447cd0da10f8",
   "metadata": {},
   "source": [
    "## 1.1 - Visualização da tabela default"
   ]
  },
  {
   "cell_type": "code",
   "execution_count": 2,
   "id": "70d13441-0b1d-49b0-81b8-10a92e5ca0b6",
   "metadata": {},
   "outputs": [
    {
     "name": "stdout",
     "output_type": "stream",
     "text": [
      "22/11/20 16:49:02 WARN HiveConf: HiveConf of name hive.stats.jdbc.timeout does not exist\n",
      "22/11/20 16:49:02 WARN HiveConf: HiveConf of name hive.stats.retries.wait does not exist\n",
      "22/11/20 16:49:03 WARN ObjectStore: Version information not found in metastore. hive.metastore.schema.verification is not enabled so recording the schema version 2.3.0\n",
      "22/11/20 16:49:03 WARN ObjectStore: setMetaStoreSchemaVersion called but recording version is disabled: version = 2.3.0, comment = Set by MetaStore lztv@127.0.1.1\n",
      "22/11/20 16:49:03 WARN ObjectStore: Failed to get database default, returning NoSuchObjectException\n",
      "+---------+\n",
      "|namespace|\n",
      "+---------+\n",
      "|  default|\n",
      "+---------+\n",
      "\n"
     ]
    }
   ],
   "source": [
    "spark.sql(\"show databases\").show()"
   ]
  },
  {
   "cell_type": "markdown",
   "id": "4964866c-35cb-42e3-9610-01c75e58b0bf",
   "metadata": {},
   "source": [
    "## 1.2 - Criando um banco de dados"
   ]
  },
  {
   "cell_type": "code",
   "execution_count": 3,
   "id": "fcc58209-501a-48ca-b4d0-f08b28ef64d5",
   "metadata": {},
   "outputs": [
    {
     "name": "stdout",
     "output_type": "stream",
     "text": [
      "22/11/20 16:49:04 WARN ObjectStore: Failed to get database desp, returning NoSuchObjectException\n",
      "22/11/20 16:49:04 WARN ObjectStore: Failed to get database desp, returning NoSuchObjectException\n",
      "22/11/20 16:49:04 WARN ObjectStore: Failed to get database global_temp, returning NoSuchObjectException\n",
      "22/11/20 16:49:04 WARN ObjectStore: Failed to get database desp, returning NoSuchObjectException\n"
     ]
    },
    {
     "data": {
      "text/plain": [
       "DataFrame[]"
      ]
     },
     "execution_count": 3,
     "metadata": {},
     "output_type": "execute_result"
    }
   ],
   "source": [
    "# nome do banco de dados: \"desp\"\n",
    "spark.sql(\"create database desp\")"
   ]
  },
  {
   "cell_type": "code",
   "execution_count": 4,
   "id": "88ec4fe0-8bcf-44d0-96e3-b2e1a8fb14d2",
   "metadata": {},
   "outputs": [
    {
     "name": "stdout",
     "output_type": "stream",
     "text": [
      "+---------+\n",
      "|namespace|\n",
      "+---------+\n",
      "|  default|\n",
      "|     desp|\n",
      "+---------+\n",
      "\n"
     ]
    }
   ],
   "source": [
    "spark.sql(\"show databases\").show()"
   ]
  },
  {
   "cell_type": "markdown",
   "id": "956764ec-d21d-4d9a-bbdd-2ae8dfdf38f6",
   "metadata": {},
   "source": [
    "## 1.3 - Apontamento para o banco de dados criado"
   ]
  },
  {
   "cell_type": "code",
   "execution_count": 5,
   "id": "2b594207-2d78-4b59-a061-420f7ed361f1",
   "metadata": {},
   "outputs": [
    {
     "name": "stdout",
     "output_type": "stream",
     "text": [
      "++\n",
      "||\n",
      "++\n",
      "++\n",
      "\n"
     ]
    }
   ],
   "source": [
    "# É necessário realizar esses apontamento para o banco que se deseja trabalhar\n",
    "spark.sql(\"use desp\").show()"
   ]
  },
  {
   "cell_type": "markdown",
   "id": "e092ed9f-da85-4556-807f-fec93ffa67b7",
   "metadata": {},
   "source": [
    "# 2 - Criando novamente o DataFrame \"Despachantes\""
   ]
  },
  {
   "cell_type": "code",
   "execution_count": 6,
   "id": "5ecb689b-a403-410f-a7e1-5859dfec697c",
   "metadata": {},
   "outputs": [],
   "source": [
    "arqschema = \"\"\"id INT, nome STRING, \n",
    "               status STRING, \n",
    "               cidade STRING, \n",
    "               vendas INT, \n",
    "               data STRING\"\"\""
   ]
  },
  {
   "cell_type": "code",
   "execution_count": 7,
   "id": "2839cd58-1658-4201-93ce-6b7bec7401e2",
   "metadata": {},
   "outputs": [
    {
     "name": "stdout",
     "output_type": "stream",
     "text": [
      "+---+-------------------+------+-------------+------+----------+\n",
      "| id|               nome|status|       cidade|vendas|      data|\n",
      "+---+-------------------+------+-------------+------+----------+\n",
      "|  1|   Carminda Pestana| Ativo|  Santa Maria|    23|2020-08-11|\n",
      "|  2|    Deolinda Vilela| Ativo|Novo Hamburgo|    34|2020-03-05|\n",
      "|  3|   Emídio Dornelles| Ativo| Porto Alegre|    34|2020-02-05|\n",
      "|  4|Felisbela Dornelles| Ativo| Porto Alegre|    36|2020-02-05|\n",
      "|  5|     Graça Ornellas| Ativo| Porto Alegre|    12|2020-02-05|\n",
      "|  6|   Matilde Rebouças| Ativo| Porto Alegre|    22|2019-01-05|\n",
      "|  7|    Noêmia   Orriça| Ativo|  Santa Maria|    45|2019-10-05|\n",
      "|  8|      Roque Vásquez| Ativo| Porto Alegre|    65|2020-03-05|\n",
      "|  9|      Uriel Queiroz| Ativo| Porto Alegre|    54|2018-05-05|\n",
      "| 10|   Viviana Sequeira| Ativo| Porto Alegre|     0|2020-09-05|\n",
      "+---+-------------------+------+-------------+------+----------+\n",
      "\n"
     ]
    }
   ],
   "source": [
    "despachantes = spark.read.csv(\"../spark_rdd_pyspark/data/despachantes.csv\", header = False, schema = arqschema)\n",
    "despachantes.show()"
   ]
  },
  {
   "cell_type": "markdown",
   "id": "31433ff4-5727-43f9-9a48-030838806b47",
   "metadata": {},
   "source": [
    "## 2.1 - Transformando o DataFrame em tabela"
   ]
  },
  {
   "cell_type": "code",
   "execution_count": 8,
   "id": "4412deb6-03f7-4138-962c-ad262ca1c123",
   "metadata": {},
   "outputs": [
    {
     "name": "stdout",
     "output_type": "stream",
     "text": [
      "22/11/20 16:49:05 WARN SessionState: METASTORE_FILTER_HOOK will be ignored, since hive.security.authorization.manager is set to instance of HiveAuthorizerFactory.\n",
      "22/11/20 16:49:05 WARN HiveConf: HiveConf of name hive.internal.ss.authz.settings.applied.marker does not exist\n",
      "22/11/20 16:49:05 WARN HiveConf: HiveConf of name hive.stats.jdbc.timeout does not exist\n",
      "22/11/20 16:49:05 WARN HiveConf: HiveConf of name hive.stats.retries.wait does not exist\n"
     ]
    }
   ],
   "source": [
    "despachantes.write.saveAsTable(\"Despachantes\")"
   ]
  },
  {
   "cell_type": "markdown",
   "id": "eeb7ed09-aea7-494e-84d4-077e05b0d4f6",
   "metadata": {},
   "source": [
    "## 2.2 - Verificando a criação da tabela"
   ]
  },
  {
   "cell_type": "code",
   "execution_count": 9,
   "id": "db17b8ae-556a-4a50-a16c-6c2a2c7d67bb",
   "metadata": {},
   "outputs": [
    {
     "name": "stdout",
     "output_type": "stream",
     "text": [
      "+---+-------------------+------+-------------+------+----------+\n",
      "| id|               nome|status|       cidade|vendas|      data|\n",
      "+---+-------------------+------+-------------+------+----------+\n",
      "|  1|   Carminda Pestana| Ativo|  Santa Maria|    23|2020-08-11|\n",
      "|  2|    Deolinda Vilela| Ativo|Novo Hamburgo|    34|2020-03-05|\n",
      "|  3|   Emídio Dornelles| Ativo| Porto Alegre|    34|2020-02-05|\n",
      "|  4|Felisbela Dornelles| Ativo| Porto Alegre|    36|2020-02-05|\n",
      "|  5|     Graça Ornellas| Ativo| Porto Alegre|    12|2020-02-05|\n",
      "|  6|   Matilde Rebouças| Ativo| Porto Alegre|    22|2019-01-05|\n",
      "|  7|    Noêmia   Orriça| Ativo|  Santa Maria|    45|2019-10-05|\n",
      "|  8|      Roque Vásquez| Ativo| Porto Alegre|    65|2020-03-05|\n",
      "|  9|      Uriel Queiroz| Ativo| Porto Alegre|    54|2018-05-05|\n",
      "| 10|   Viviana Sequeira| Ativo| Porto Alegre|     0|2020-09-05|\n",
      "+---+-------------------+------+-------------+------+----------+\n",
      "\n"
     ]
    }
   ],
   "source": [
    "spark.sql(\"SELECT * FROM despachantes\").show()"
   ]
  },
  {
   "cell_type": "code",
   "execution_count": 10,
   "id": "b6c9d91f-829c-401d-b013-34db9be6964c",
   "metadata": {},
   "outputs": [
    {
     "name": "stdout",
     "output_type": "stream",
     "text": [
      "+---------+------------+-----------+\n",
      "|namespace|   tableName|isTemporary|\n",
      "+---------+------------+-----------+\n",
      "|     desp|despachantes|      false|\n",
      "+---------+------------+-----------+\n",
      "\n"
     ]
    }
   ],
   "source": [
    "spark.sql(\"SHOW TABLES\").show()"
   ]
  },
  {
   "cell_type": "markdown",
   "id": "9d89be53-1ea5-4eab-8380-b044e0d2add0",
   "metadata": {},
   "source": [
    "## 2.3 - Overwrite"
   ]
  },
  {
   "cell_type": "code",
   "execution_count": 11,
   "id": "65a7769f-968a-4327-a087-4ed4cc6ed4e0",
   "metadata": {},
   "outputs": [],
   "source": [
    "# Esse comando sobrescreve toda a tabela, ou seja, exclui e cria uma nova\n",
    "despachantes.write.mode(\"overwrite\").saveAsTable(\"Despachantes\")\n",
    "# Para adicionar mais linha na mesma tabela usamos o \"append\""
   ]
  },
  {
   "cell_type": "markdown",
   "id": "75e84f8a-9936-4f54-acd0-a0a5119ed549",
   "metadata": {},
   "source": [
    "## 2.4 - Criando um DataFrame a partir de uma tabela"
   ]
  },
  {
   "cell_type": "code",
   "execution_count": 12,
   "id": "08c2b115-c17c-4323-9c56-ad1279a4902a",
   "metadata": {},
   "outputs": [
    {
     "name": "stdout",
     "output_type": "stream",
     "text": [
      "+---+-------------------+------+-------------+------+----------+\n",
      "| id|               nome|status|       cidade|vendas|      data|\n",
      "+---+-------------------+------+-------------+------+----------+\n",
      "|  1|   Carminda Pestana| Ativo|  Santa Maria|    23|2020-08-11|\n",
      "|  2|    Deolinda Vilela| Ativo|Novo Hamburgo|    34|2020-03-05|\n",
      "|  3|   Emídio Dornelles| Ativo| Porto Alegre|    34|2020-02-05|\n",
      "|  4|Felisbela Dornelles| Ativo| Porto Alegre|    36|2020-02-05|\n",
      "|  5|     Graça Ornellas| Ativo| Porto Alegre|    12|2020-02-05|\n",
      "|  6|   Matilde Rebouças| Ativo| Porto Alegre|    22|2019-01-05|\n",
      "|  7|    Noêmia   Orriça| Ativo|  Santa Maria|    45|2019-10-05|\n",
      "|  8|      Roque Vásquez| Ativo| Porto Alegre|    65|2020-03-05|\n",
      "|  9|      Uriel Queiroz| Ativo| Porto Alegre|    54|2018-05-05|\n",
      "| 10|   Viviana Sequeira| Ativo| Porto Alegre|     0|2020-09-05|\n",
      "+---+-------------------+------+-------------+------+----------+\n",
      "\n"
     ]
    }
   ],
   "source": [
    "df_despachantes = spark.sql(\"SELECT * FROM despachantes\")\n",
    "df_despachantes.show()"
   ]
  },
  {
   "cell_type": "code",
   "execution_count": 13,
   "id": "4143fb17-41ef-4895-9ddc-b6ad108beee9",
   "metadata": {},
   "outputs": [
    {
     "data": {
      "text/plain": [
       "pyspark.sql.dataframe.DataFrame"
      ]
     },
     "execution_count": 13,
     "metadata": {},
     "output_type": "execute_result"
    }
   ],
   "source": [
    "type(df_despachantes)"
   ]
  },
  {
   "cell_type": "markdown",
   "id": "0eabeb9f-a8d3-448f-8eca-1dbc77a4469a",
   "metadata": {},
   "source": [
    "# 3 - Criando uma tabela não gerenciada"
   ]
  },
  {
   "cell_type": "code",
   "execution_count": 14,
   "id": "30c24eaa-86ee-4edd-98a7-51260933ee6d",
   "metadata": {},
   "outputs": [],
   "source": [
    "# Para indicar que é uma tabela externa, devemos informar o caminho\n",
    "df_despachantes.write.option(\"path\", \"./export_parquet_desp\").saveAsTable(\"despachantes_ng\")"
   ]
  },
  {
   "cell_type": "code",
   "execution_count": 15,
   "id": "f5027ff8-0031-4e84-bf23-7c90cf029eda",
   "metadata": {},
   "outputs": [
    {
     "name": "stdout",
     "output_type": "stream",
     "text": [
      "+---+----+------+------+------+----+\n",
      "| id|nome|status|cidade|vendas|data|\n",
      "+---+----+------+------+------+----+\n",
      "+---+----+------+------+------+----+\n",
      "\n"
     ]
    }
   ],
   "source": [
    "spark.sql(\"SELECT * FROM despachantes_ng\").show()"
   ]
  },
  {
   "cell_type": "code",
   "execution_count": 16,
   "id": "161b78dd-586d-40c8-820a-c7815455d12e",
   "metadata": {},
   "outputs": [
    {
     "name": "stdout",
     "output_type": "stream",
     "text": [
      "+-----------------------------------------------------------------------------------------------------------------------------------------------+\n",
      "|createtab_stmt                                                                                                                                 |\n",
      "+-----------------------------------------------------------------------------------------------------------------------------------------------+\n",
      "|CREATE TABLE desp.despachantes (\\n  id INT,\\n  nome STRING,\\n  status STRING,\\n  cidade STRING,\\n  vendas INT,\\n  data STRING)\\nUSING parquet\\n|\n",
      "+-----------------------------------------------------------------------------------------------------------------------------------------------+\n",
      "\n"
     ]
    }
   ],
   "source": [
    "spark.sql(\"SHOW CREATE TABLE despachantes\").show(truncate=False)"
   ]
  },
  {
   "cell_type": "code",
   "execution_count": 17,
   "id": "80edfbeb-114c-4b7b-862e-86d7ef2bb230",
   "metadata": {},
   "outputs": [
    {
     "name": "stdout",
     "output_type": "stream",
     "text": [
      "+---------------------------------------------------------------------------------------------------------------------------------------------------------------------------------------------------------------------------------------------------------------------------------------+\n",
      "|createtab_stmt                                                                                                                                                                                                                                                                         |\n",
      "+---------------------------------------------------------------------------------------------------------------------------------------------------------------------------------------------------------------------------------------------------------------------------------------+\n",
      "|CREATE TABLE desp.despachantes_ng (\\n  id INT,\\n  nome STRING,\\n  status STRING,\\n  cidade STRING,\\n  vendas INT,\\n  data STRING)\\nUSING parquet\\nLOCATION 'file:/home/lztv/Documents/estudos/repositorios/spark-pyspark-study/spark_sql/spark-warehouse/desp.db/export_parquet_desp'\\n|\n",
      "+---------------------------------------------------------------------------------------------------------------------------------------------------------------------------------------------------------------------------------------------------------------------------------------+\n",
      "\n"
     ]
    }
   ],
   "source": [
    "spark.sql(\"SHOW CREATE TABLE despachantes_ng\").show(truncate=False)"
   ]
  },
  {
   "cell_type": "code",
   "execution_count": 18,
   "id": "02f7b368-dd27-404b-a0f0-beb1462d5cff",
   "metadata": {},
   "outputs": [
    {
     "data": {
      "text/plain": [
       "[Table(name='despachantes', database='desp', description=None, tableType='MANAGED', isTemporary=False),\n",
       " Table(name='despachantes_ng', database='desp', description=None, tableType='EXTERNAL', isTemporary=False)]"
      ]
     },
     "execution_count": 18,
     "metadata": {},
     "output_type": "execute_result"
    }
   ],
   "source": [
    "spark.catalog.listTables()\n",
    "# A tabela despachantes_ng é EXTERNAL"
   ]
  },
  {
   "cell_type": "markdown",
   "id": "165bc50a-5f5d-48e1-a8ec-d569f378a953",
   "metadata": {},
   "source": [
    "# 4 - View"
   ]
  },
  {
   "cell_type": "markdown",
   "id": "b58ae82b-b1f9-494c-8e4f-5405543d5994",
   "metadata": {},
   "source": [
    "## 4.1 - Criando uma view temporária"
   ]
  },
  {
   "cell_type": "code",
   "execution_count": 19,
   "id": "bfd35690-f361-47a4-b592-c818babae7f3",
   "metadata": {},
   "outputs": [
    {
     "name": "stdout",
     "output_type": "stream",
     "text": [
      "+---+-------------------+------+-------------+------+----------+\n",
      "| id|               nome|status|       cidade|vendas|      data|\n",
      "+---+-------------------+------+-------------+------+----------+\n",
      "|  1|   Carminda Pestana| Ativo|  Santa Maria|    23|2020-08-11|\n",
      "|  2|    Deolinda Vilela| Ativo|Novo Hamburgo|    34|2020-03-05|\n",
      "|  3|   Emídio Dornelles| Ativo| Porto Alegre|    34|2020-02-05|\n",
      "|  4|Felisbela Dornelles| Ativo| Porto Alegre|    36|2020-02-05|\n",
      "|  5|     Graça Ornellas| Ativo| Porto Alegre|    12|2020-02-05|\n",
      "|  6|   Matilde Rebouças| Ativo| Porto Alegre|    22|2019-01-05|\n",
      "|  7|    Noêmia   Orriça| Ativo|  Santa Maria|    45|2019-10-05|\n",
      "|  8|      Roque Vásquez| Ativo| Porto Alegre|    65|2020-03-05|\n",
      "|  9|      Uriel Queiroz| Ativo| Porto Alegre|    54|2018-05-05|\n",
      "| 10|   Viviana Sequeira| Ativo| Porto Alegre|     0|2020-09-05|\n",
      "+---+-------------------+------+-------------+------+----------+\n",
      "\n"
     ]
    }
   ],
   "source": [
    "df_despachantes.createOrReplaceTempView(\"despachantes_view1\")\n",
    "spark.sql(\"SELECT * FROM despachantes_view1\").show()"
   ]
  },
  {
   "cell_type": "markdown",
   "id": "59efac5f-b408-4942-afda-05fdc1968090",
   "metadata": {},
   "source": [
    "## 4.2 - Criando uma View global"
   ]
  },
  {
   "cell_type": "code",
   "execution_count": 20,
   "id": "ff6c217e-a8d5-4715-a24e-feebdff36f7a",
   "metadata": {},
   "outputs": [],
   "source": [
    "df_despachantes.createOrReplaceGlobalTempView(\"despachantes_view2\")"
   ]
  },
  {
   "cell_type": "code",
   "execution_count": 21,
   "id": "818861a0-0b3e-4a79-8482-1051b9b2acf7",
   "metadata": {},
   "outputs": [
    {
     "name": "stdout",
     "output_type": "stream",
     "text": [
      "+---+-------------------+------+-------------+------+----------+\n",
      "| id|               nome|status|       cidade|vendas|      data|\n",
      "+---+-------------------+------+-------------+------+----------+\n",
      "|  1|   Carminda Pestana| Ativo|  Santa Maria|    23|2020-08-11|\n",
      "|  2|    Deolinda Vilela| Ativo|Novo Hamburgo|    34|2020-03-05|\n",
      "|  3|   Emídio Dornelles| Ativo| Porto Alegre|    34|2020-02-05|\n",
      "|  4|Felisbela Dornelles| Ativo| Porto Alegre|    36|2020-02-05|\n",
      "|  5|     Graça Ornellas| Ativo| Porto Alegre|    12|2020-02-05|\n",
      "|  6|   Matilde Rebouças| Ativo| Porto Alegre|    22|2019-01-05|\n",
      "|  7|    Noêmia   Orriça| Ativo|  Santa Maria|    45|2019-10-05|\n",
      "|  8|      Roque Vásquez| Ativo| Porto Alegre|    65|2020-03-05|\n",
      "|  9|      Uriel Queiroz| Ativo| Porto Alegre|    54|2018-05-05|\n",
      "| 10|   Viviana Sequeira| Ativo| Porto Alegre|     0|2020-09-05|\n",
      "+---+-------------------+------+-------------+------+----------+\n",
      "\n"
     ]
    }
   ],
   "source": [
    "# Para verificar uma view global só temos que colocar antes do nome \"global_temp.\"\n",
    "spark.sql(\"SELECT * FROM global_temp.despachantes_view2\").show()"
   ]
  },
  {
   "cell_type": "markdown",
   "id": "3c31e432-9fa6-4297-b1d5-8a5cc1b8b16b",
   "metadata": {},
   "source": [
    "## 4.3 Outra forma de criar Views (temp ou global)"
   ]
  },
  {
   "cell_type": "code",
   "execution_count": 22,
   "id": "23b349c0-54b4-4228-b441-f38179d0a3c6",
   "metadata": {},
   "outputs": [
    {
     "data": {
      "text/plain": [
       "DataFrame[]"
      ]
     },
     "execution_count": 22,
     "metadata": {},
     "output_type": "execute_result"
    }
   ],
   "source": [
    "spark.sql(\"CREATE OR REPLACE TEMP VIEW desp_view AS SELECT * FROM despachantes\")"
   ]
  },
  {
   "cell_type": "code",
   "execution_count": 23,
   "id": "90f5f331-1e8a-4689-a5d0-6f0202b36c89",
   "metadata": {},
   "outputs": [
    {
     "name": "stdout",
     "output_type": "stream",
     "text": [
      "+---+-------------------+------+-------------+------+----------+\n",
      "| id|               nome|status|       cidade|vendas|      data|\n",
      "+---+-------------------+------+-------------+------+----------+\n",
      "|  1|   Carminda Pestana| Ativo|  Santa Maria|    23|2020-08-11|\n",
      "|  2|    Deolinda Vilela| Ativo|Novo Hamburgo|    34|2020-03-05|\n",
      "|  3|   Emídio Dornelles| Ativo| Porto Alegre|    34|2020-02-05|\n",
      "|  4|Felisbela Dornelles| Ativo| Porto Alegre|    36|2020-02-05|\n",
      "|  5|     Graça Ornellas| Ativo| Porto Alegre|    12|2020-02-05|\n",
      "|  6|   Matilde Rebouças| Ativo| Porto Alegre|    22|2019-01-05|\n",
      "|  7|    Noêmia   Orriça| Ativo|  Santa Maria|    45|2019-10-05|\n",
      "|  8|      Roque Vásquez| Ativo| Porto Alegre|    65|2020-03-05|\n",
      "|  9|      Uriel Queiroz| Ativo| Porto Alegre|    54|2018-05-05|\n",
      "| 10|   Viviana Sequeira| Ativo| Porto Alegre|     0|2020-09-05|\n",
      "+---+-------------------+------+-------------+------+----------+\n",
      "\n"
     ]
    }
   ],
   "source": [
    "spark.sql(\"SELECT * FROM desp_view\").show()"
   ]
  },
  {
   "cell_type": "code",
   "execution_count": 24,
   "id": "e2c7e68d-7ffd-4af2-a10f-323fcf608deb",
   "metadata": {},
   "outputs": [
    {
     "data": {
      "text/plain": [
       "DataFrame[]"
      ]
     },
     "execution_count": 24,
     "metadata": {},
     "output_type": "execute_result"
    }
   ],
   "source": [
    "spark.sql(\"CREATE OR REPLACE GLOBAL TEMP VIEW desp_view2 AS SELECT * FROM despachantes\")"
   ]
  },
  {
   "cell_type": "code",
   "execution_count": 25,
   "id": "6d538400-0ee5-4820-8a91-f5471dda715e",
   "metadata": {},
   "outputs": [
    {
     "name": "stdout",
     "output_type": "stream",
     "text": [
      "+---+-------------------+------+-------------+------+----------+\n",
      "| id|               nome|status|       cidade|vendas|      data|\n",
      "+---+-------------------+------+-------------+------+----------+\n",
      "|  1|   Carminda Pestana| Ativo|  Santa Maria|    23|2020-08-11|\n",
      "|  2|    Deolinda Vilela| Ativo|Novo Hamburgo|    34|2020-03-05|\n",
      "|  3|   Emídio Dornelles| Ativo| Porto Alegre|    34|2020-02-05|\n",
      "|  4|Felisbela Dornelles| Ativo| Porto Alegre|    36|2020-02-05|\n",
      "|  5|     Graça Ornellas| Ativo| Porto Alegre|    12|2020-02-05|\n",
      "|  6|   Matilde Rebouças| Ativo| Porto Alegre|    22|2019-01-05|\n",
      "|  7|    Noêmia   Orriça| Ativo|  Santa Maria|    45|2019-10-05|\n",
      "|  8|      Roque Vásquez| Ativo| Porto Alegre|    65|2020-03-05|\n",
      "|  9|      Uriel Queiroz| Ativo| Porto Alegre|    54|2018-05-05|\n",
      "| 10|   Viviana Sequeira| Ativo| Porto Alegre|     0|2020-09-05|\n",
      "+---+-------------------+------+-------------+------+----------+\n",
      "\n"
     ]
    }
   ],
   "source": [
    "spark.sql(\"SELECT * FROM global_temp.desp_view2\").show()"
   ]
  },
  {
   "cell_type": "markdown",
   "id": "e31ae68b-2eaa-4c6f-b9e5-4154aef240ae",
   "metadata": {},
   "source": [
    "# 5 - DataFrame e Tabela SQL - Comparação"
   ]
  },
  {
   "cell_type": "code",
   "execution_count": 26,
   "id": "efe78d18-d7bd-4660-9224-cb801bd14878",
   "metadata": {},
   "outputs": [
    {
     "name": "stdout",
     "output_type": "stream",
     "text": [
      "+---+-------------------+------+-------------+------+----------+\n",
      "| id|               nome|status|       cidade|vendas|      data|\n",
      "+---+-------------------+------+-------------+------+----------+\n",
      "|  1|   Carminda Pestana| Ativo|  Santa Maria|    23|2020-08-11|\n",
      "|  2|    Deolinda Vilela| Ativo|Novo Hamburgo|    34|2020-03-05|\n",
      "|  3|   Emídio Dornelles| Ativo| Porto Alegre|    34|2020-02-05|\n",
      "|  4|Felisbela Dornelles| Ativo| Porto Alegre|    36|2020-02-05|\n",
      "|  5|     Graça Ornellas| Ativo| Porto Alegre|    12|2020-02-05|\n",
      "|  6|   Matilde Rebouças| Ativo| Porto Alegre|    22|2019-01-05|\n",
      "|  7|    Noêmia   Orriça| Ativo|  Santa Maria|    45|2019-10-05|\n",
      "|  8|      Roque Vásquez| Ativo| Porto Alegre|    65|2020-03-05|\n",
      "|  9|      Uriel Queiroz| Ativo| Porto Alegre|    54|2018-05-05|\n",
      "| 10|   Viviana Sequeira| Ativo| Porto Alegre|     0|2020-09-05|\n",
      "+---+-------------------+------+-------------+------+----------+\n",
      "\n"
     ]
    }
   ],
   "source": [
    "spark.sql(\"SELECT * FROM despachantes\").show()"
   ]
  },
  {
   "cell_type": "code",
   "execution_count": 27,
   "id": "a3878a68-b495-4ecf-87ac-114eb6880e77",
   "metadata": {},
   "outputs": [
    {
     "name": "stdout",
     "output_type": "stream",
     "text": [
      "+---+-------------------+------+-------------+------+----------+\n",
      "| id|               nome|status|       cidade|vendas|      data|\n",
      "+---+-------------------+------+-------------+------+----------+\n",
      "|  1|   Carminda Pestana| Ativo|  Santa Maria|    23|2020-08-11|\n",
      "|  2|    Deolinda Vilela| Ativo|Novo Hamburgo|    34|2020-03-05|\n",
      "|  3|   Emídio Dornelles| Ativo| Porto Alegre|    34|2020-02-05|\n",
      "|  4|Felisbela Dornelles| Ativo| Porto Alegre|    36|2020-02-05|\n",
      "|  5|     Graça Ornellas| Ativo| Porto Alegre|    12|2020-02-05|\n",
      "|  6|   Matilde Rebouças| Ativo| Porto Alegre|    22|2019-01-05|\n",
      "|  7|    Noêmia   Orriça| Ativo|  Santa Maria|    45|2019-10-05|\n",
      "|  8|      Roque Vásquez| Ativo| Porto Alegre|    65|2020-03-05|\n",
      "|  9|      Uriel Queiroz| Ativo| Porto Alegre|    54|2018-05-05|\n",
      "| 10|   Viviana Sequeira| Ativo| Porto Alegre|     0|2020-09-05|\n",
      "+---+-------------------+------+-------------+------+----------+\n",
      "\n"
     ]
    }
   ],
   "source": [
    "despachantes.show()"
   ]
  },
  {
   "cell_type": "code",
   "execution_count": 28,
   "id": "e90f27a2-0b59-4100-9420-2fa6af3a8474",
   "metadata": {},
   "outputs": [
    {
     "name": "stdout",
     "output_type": "stream",
     "text": [
      "+-------------------+------+\n",
      "|               nome|vendas|\n",
      "+-------------------+------+\n",
      "|   Carminda Pestana|    23|\n",
      "|    Deolinda Vilela|    34|\n",
      "|   Emídio Dornelles|    34|\n",
      "|Felisbela Dornelles|    36|\n",
      "|     Graça Ornellas|    12|\n",
      "|   Matilde Rebouças|    22|\n",
      "|    Noêmia   Orriça|    45|\n",
      "|      Roque Vásquez|    65|\n",
      "|      Uriel Queiroz|    54|\n",
      "|   Viviana Sequeira|     0|\n",
      "+-------------------+------+\n",
      "\n"
     ]
    }
   ],
   "source": [
    "spark.sql(\"SELECT nome, vendas FROM despachantes\").show()"
   ]
  },
  {
   "cell_type": "code",
   "execution_count": 29,
   "id": "b930dd6a-eb0e-4d13-9906-e13849a223a3",
   "metadata": {},
   "outputs": [
    {
     "name": "stdout",
     "output_type": "stream",
     "text": [
      "+-------------------+------+\n",
      "|               nome|vendas|\n",
      "+-------------------+------+\n",
      "|   Carminda Pestana|    23|\n",
      "|    Deolinda Vilela|    34|\n",
      "|   Emídio Dornelles|    34|\n",
      "|Felisbela Dornelles|    36|\n",
      "|     Graça Ornellas|    12|\n",
      "|   Matilde Rebouças|    22|\n",
      "|    Noêmia   Orriça|    45|\n",
      "|      Roque Vásquez|    65|\n",
      "|      Uriel Queiroz|    54|\n",
      "|   Viviana Sequeira|     0|\n",
      "+-------------------+------+\n",
      "\n"
     ]
    }
   ],
   "source": [
    "despachantes.select(\"nome\", \"vendas\").show()"
   ]
  },
  {
   "cell_type": "code",
   "execution_count": 30,
   "id": "626e8336-200d-483d-baba-825301003568",
   "metadata": {},
   "outputs": [
    {
     "name": "stdout",
     "output_type": "stream",
     "text": [
      "+-------------------+------+\n",
      "|               nome|vendas|\n",
      "+-------------------+------+\n",
      "|   Carminda Pestana|    23|\n",
      "|    Deolinda Vilela|    34|\n",
      "|   Emídio Dornelles|    34|\n",
      "|Felisbela Dornelles|    36|\n",
      "|   Matilde Rebouças|    22|\n",
      "|    Noêmia   Orriça|    45|\n",
      "|      Roque Vásquez|    65|\n",
      "|      Uriel Queiroz|    54|\n",
      "+-------------------+------+\n",
      "\n"
     ]
    }
   ],
   "source": [
    "spark.sql(\"SELECT nome, vendas FROM despachantes WHERE vendas > 20\").show()"
   ]
  },
  {
   "cell_type": "code",
   "execution_count": 31,
   "id": "5ebf0f6c-e6b1-4e56-bd54-373ce92a8167",
   "metadata": {},
   "outputs": [
    {
     "name": "stdout",
     "output_type": "stream",
     "text": [
      "+-------------------+------+\n",
      "|               nome|vendas|\n",
      "+-------------------+------+\n",
      "|   Carminda Pestana|    23|\n",
      "|    Deolinda Vilela|    34|\n",
      "|   Emídio Dornelles|    34|\n",
      "|Felisbela Dornelles|    36|\n",
      "|   Matilde Rebouças|    22|\n",
      "|    Noêmia   Orriça|    45|\n",
      "|      Roque Vásquez|    65|\n",
      "|      Uriel Queiroz|    54|\n",
      "+-------------------+------+\n",
      "\n"
     ]
    }
   ],
   "source": [
    "despachantes.select(\"nome\", \"vendas\").where(col(\"vendas\") > 20).show()"
   ]
  },
  {
   "cell_type": "code",
   "execution_count": 32,
   "id": "cd818afc-f46f-4e9a-b1fd-3932754bbc94",
   "metadata": {},
   "outputs": [
    {
     "name": "stdout",
     "output_type": "stream",
     "text": [
      "+-------------+-----------+\n",
      "|       cidade|sum(vendas)|\n",
      "+-------------+-----------+\n",
      "| Porto Alegre|        223|\n",
      "|  Santa Maria|         68|\n",
      "|Novo Hamburgo|         34|\n",
      "+-------------+-----------+\n",
      "\n"
     ]
    }
   ],
   "source": [
    "spark.sql(\"SELECT cidade, sum(vendas) FROM despachantes GROUP BY cidade ORDER BY sum(vendas) DESC\").show()"
   ]
  },
  {
   "cell_type": "code",
   "execution_count": 35,
   "id": "afd64e4e-398f-465f-bc87-57993d74f318",
   "metadata": {},
   "outputs": [
    {
     "name": "stdout",
     "output_type": "stream",
     "text": [
      "+-------------+-----------+\n",
      "|       cidade|sum(vendas)|\n",
      "+-------------+-----------+\n",
      "| Porto Alegre|        223|\n",
      "|  Santa Maria|         68|\n",
      "|Novo Hamburgo|         34|\n",
      "+-------------+-----------+\n",
      "\n"
     ]
    }
   ],
   "source": [
    "despachantes.groupBy(\"cidade\").agg(sum(\"vendas\")).orderBy(Func.col(\"sum(vendas)\").desc()).show()"
   ]
  }
 ],
 "metadata": {
  "kernelspec": {
   "display_name": "Python 3 (ipykernel)",
   "language": "python",
   "name": "python3"
  },
  "language_info": {
   "codemirror_mode": {
    "name": "ipython",
    "version": 3
   },
   "file_extension": ".py",
   "mimetype": "text/x-python",
   "name": "python",
   "nbconvert_exporter": "python",
   "pygments_lexer": "ipython3",
   "version": "3.9.12"
  }
 },
 "nbformat": 4,
 "nbformat_minor": 5
}
