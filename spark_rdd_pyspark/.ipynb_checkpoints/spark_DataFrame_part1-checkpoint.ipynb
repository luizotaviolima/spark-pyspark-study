{
 "cells": [
  {
   "cell_type": "code",
   "execution_count": 1,
   "id": "055afcb1-d020-4764-99c9-5a23340b6907",
   "metadata": {},
   "outputs": [],
   "source": [
    "# Imports\n",
    "\n",
    "from pyspark.sql import SparkSession\n",
    "from pyspark.sql.functions import sum, expr"
   ]
  },
  {
   "cell_type": "markdown",
   "id": "53168f5f-e0c0-4120-beb1-db6ae895b737",
   "metadata": {},
   "source": [
    "# 1 - Criando um DataFrame sem schema definido"
   ]
  },
  {
   "cell_type": "code",
   "execution_count": 2,
   "id": "540e2a1e-76a4-49f8-b5bf-876efa791675",
   "metadata": {},
   "outputs": [
    {
     "name": "stdout",
     "output_type": "stream",
     "text": [
      "+-----+---+\n",
      "|   _1| _2|\n",
      "+-----+---+\n",
      "|Pedro| 10|\n",
      "|Maria| 20|\n",
      "| Jose| 40|\n",
      "+-----+---+\n",
      "\n"
     ]
    }
   ],
   "source": [
    "df1 = spark.createDataFrame([(\"Pedro\", 10), (\"Maria\", 20), (\"Jose\", 40)])\n",
    "df1.show()"
   ]
  },
  {
   "cell_type": "markdown",
   "id": "5ef9cdc0-2350-42e2-ba57-be08c97d0ff0",
   "metadata": {},
   "source": [
    "# 2- Criando um DataFrame com schema definido"
   ]
  },
  {
   "cell_type": "code",
   "execution_count": 3,
   "id": "d1b82018-17ca-490e-aa9a-8948e82e070d",
   "metadata": {},
   "outputs": [
    {
     "name": "stdout",
     "output_type": "stream",
     "text": [
      "+---+-----+\n",
      "| Id| Nome|\n",
      "+---+-----+\n",
      "|  1|Pedro|\n",
      "|  2|Maria|\n",
      "+---+-----+\n",
      "\n"
     ]
    }
   ],
   "source": [
    "schema = \"Id INT, Nome STRING\"\n",
    "dados = [[1, \"Pedro\"], [2, \"Maria\"]]\n",
    "df2 = spark.createDataFrame(dados, schema)\n",
    "df2.show()"
   ]
  },
  {
   "cell_type": "markdown",
   "id": "c96488c2-c709-4874-b626-03e1c162b44d",
   "metadata": {},
   "source": [
    "## 2.1 - Definindo a quantidade de linhas a serem apresentadas"
   ]
  },
  {
   "cell_type": "code",
   "execution_count": 4,
   "id": "5e0106fc-e644-4b53-ad1e-360dee187cff",
   "metadata": {},
   "outputs": [
    {
     "name": "stdout",
     "output_type": "stream",
     "text": [
      "+---+-----+\n",
      "| Id| Nome|\n",
      "+---+-----+\n",
      "|  1|Pedro|\n",
      "+---+-----+\n",
      "only showing top 1 row\n",
      "\n"
     ]
    }
   ],
   "source": [
    "df2.show(1)"
   ]
  },
  {
   "cell_type": "markdown",
   "id": "e289c56a-09c0-4f92-83e0-0d891bea1667",
   "metadata": {},
   "source": [
    "# 3 - Algumas manipulações com DataFrames"
   ]
  },
  {
   "cell_type": "markdown",
   "id": "36aee903-ab61-4259-a894-2f0a52413a10",
   "metadata": {},
   "source": [
    "## 3.1 - Agregações"
   ]
  },
  {
   "cell_type": "code",
   "execution_count": 5,
   "id": "3eba0e5e-2a57-48e2-8016-50157bb28f8f",
   "metadata": {},
   "outputs": [
    {
     "name": "stdout",
     "output_type": "stream",
     "text": [
      "+--------+------+\n",
      "|Produtos|Vendas|\n",
      "+--------+------+\n",
      "|  Caneta|    10|\n",
      "|   lapis|    20|\n",
      "|  Caneta|    40|\n",
      "+--------+------+\n",
      "\n"
     ]
    }
   ],
   "source": [
    "schema2 = \"Produtos STRING, Vendas INT\"\n",
    "vendas = [[\"Caneta\", 10], [\"lapis\", 20], [\"Caneta\", 40]]\n",
    "df3 = spark.createDataFrame(vendas, schema2)\n",
    "df3.show()"
   ]
  },
  {
   "cell_type": "code",
   "execution_count": 6,
   "id": "93bbccb1-8c42-4df3-a3b1-c51bab498aa1",
   "metadata": {},
   "outputs": [
    {
     "name": "stdout",
     "output_type": "stream",
     "text": [
      "+--------+-----------+\n",
      "|Produtos|sum(Vendas)|\n",
      "+--------+-----------+\n",
      "|  Caneta|         50|\n",
      "|   lapis|         20|\n",
      "+--------+-----------+\n",
      "\n"
     ]
    }
   ],
   "source": [
    "agrupado = df3.groupBy(\"Produtos\").agg(sum(\"Vendas\"))\n",
    "agrupado.show()\n",
    "# Necessário importar a função \"sum\""
   ]
  },
  {
   "cell_type": "markdown",
   "id": "a0c3e228-853a-45a6-9b90-b96e24b2a3dc",
   "metadata": {},
   "source": [
    "## 3.2 - Seleção de colunas"
   ]
  },
  {
   "cell_type": "code",
   "execution_count": 7,
   "id": "820dbae5-862c-4cb6-a669-b3883fca2422",
   "metadata": {},
   "outputs": [
    {
     "name": "stdout",
     "output_type": "stream",
     "text": [
      "+--------+\n",
      "|Produtos|\n",
      "+--------+\n",
      "|  Caneta|\n",
      "|   lapis|\n",
      "|  Caneta|\n",
      "+--------+\n",
      "\n"
     ]
    }
   ],
   "source": [
    "df3.select(\"Produtos\").show()"
   ]
  },
  {
   "cell_type": "code",
   "execution_count": 8,
   "id": "f6ae9db4-d5a6-4974-a117-14c13f0a6b9e",
   "metadata": {},
   "outputs": [
    {
     "name": "stdout",
     "output_type": "stream",
     "text": [
      "+------+--------+\n",
      "|Vendas|Produtos|\n",
      "+------+--------+\n",
      "|    10|  Caneta|\n",
      "|    20|   lapis|\n",
      "|    40|  Caneta|\n",
      "+------+--------+\n",
      "\n"
     ]
    }
   ],
   "source": [
    "# Invertendo a ordem das colunas\n",
    "df3.select(\"Vendas\", \"Produtos\").show()"
   ]
  },
  {
   "cell_type": "markdown",
   "id": "a431f80b-b73c-4172-8828-a70bd4b46671",
   "metadata": {},
   "source": [
    "## 3.3 - Criando uma nova coluna baseada em alguma expressão"
   ]
  },
  {
   "cell_type": "code",
   "execution_count": 9,
   "id": "e8f06713-2231-4aab-9daf-673b4920f50a",
   "metadata": {},
   "outputs": [
    {
     "name": "stdout",
     "output_type": "stream",
     "text": [
      "+--------+------+--------------+\n",
      "|Produtos|Vendas|(Vendas * 0.2)|\n",
      "+--------+------+--------------+\n",
      "|  Caneta|    10|           2.0|\n",
      "|   lapis|    20|           4.0|\n",
      "|  Caneta|    40|           8.0|\n",
      "+--------+------+--------------+\n",
      "\n"
     ]
    }
   ],
   "source": [
    "# Criando uma nova coluna que retorna 20% do valor de venda\n",
    "df3.select(\"Produtos\", \"Vendas\", expr(\"Vendas * 0.2\")).show()\n",
    "# Necessário importar a função expr"
   ]
  },
  {
   "cell_type": "markdown",
   "id": "2eb9e4c3-ea89-4413-a93f-7e8f497b3f20",
   "metadata": {},
   "source": [
    "# 4 - Verificações com DataFrames"
   ]
  },
  {
   "cell_type": "markdown",
   "id": "8d5cee1b-e86a-475a-8170-83bf74b7b068",
   "metadata": {},
   "source": [
    "## 4.1 - Schema do DataFrame"
   ]
  },
  {
   "cell_type": "code",
   "execution_count": 10,
   "id": "5b14976c-64d6-41c1-8ef8-b862b58996fb",
   "metadata": {},
   "outputs": [
    {
     "data": {
      "text/plain": [
       "StructType([StructField('Produtos', StringType(), True), StructField('Vendas', IntegerType(), True)])"
      ]
     },
     "execution_count": 10,
     "metadata": {},
     "output_type": "execute_result"
    }
   ],
   "source": [
    "df3.schema"
   ]
  },
  {
   "cell_type": "markdown",
   "id": "9a0828d6-d9dc-4b04-8392-0ca65d876903",
   "metadata": {},
   "source": [
    "## 4.2 - Colunas do DataFrame"
   ]
  },
  {
   "cell_type": "code",
   "execution_count": 11,
   "id": "1d65d54c-2aa2-43fe-9115-5d28c93a8c27",
   "metadata": {},
   "outputs": [
    {
     "data": {
      "text/plain": [
       "['Produtos', 'Vendas']"
      ]
     },
     "execution_count": 11,
     "metadata": {},
     "output_type": "execute_result"
    }
   ],
   "source": [
    "df3.columns"
   ]
  },
  {
   "cell_type": "markdown",
   "id": "2bb25865-80cd-4b93-ac5b-d89294fd6727",
   "metadata": {},
   "source": [
    "## 4.3 - Tipos dos Dados"
   ]
  },
  {
   "cell_type": "code",
   "execution_count": 12,
   "id": "45cdd9fe-5476-40a4-aee0-2ce69328a09f",
   "metadata": {},
   "outputs": [
    {
     "data": {
      "text/plain": [
       "[('Produtos', 'string'), ('Vendas', 'int')]"
      ]
     },
     "execution_count": 12,
     "metadata": {},
     "output_type": "execute_result"
    }
   ],
   "source": [
    "df3.dtypes"
   ]
  }
 ],
 "metadata": {
  "kernelspec": {
   "display_name": "Python 3 (ipykernel)",
   "language": "python",
   "name": "python3"
  },
  "language_info": {
   "codemirror_mode": {
    "name": "ipython",
    "version": 3
   },
   "file_extension": ".py",
   "mimetype": "text/x-python",
   "name": "python",
   "nbconvert_exporter": "python",
   "pygments_lexer": "ipython3",
   "version": "3.9.12"
  }
 },
 "nbformat": 4,
 "nbformat_minor": 5
}
