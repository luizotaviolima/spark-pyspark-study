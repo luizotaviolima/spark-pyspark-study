{
 "cells": [
  {
   "cell_type": "markdown",
   "id": "e14d0358-704d-44fd-93c0-5541da652444",
   "metadata": {},
   "source": [
    "Nós temos 5 arquivos no formato parquet:  \n",
    "- Tabela Clientes;\n",
    "- ItensVendas;\n",
    "- Produtos;\n",
    "- Vendas;\n",
    "- Vendedores.  \n",
    "---\n",
    "Atividades:  \n",
    "- Crie uma consulta que mostre nesta ordem: nome, Estados e Status dos clientes;\n",
    "- Crie uma consulta que mostra apenas os clientes do Status \"Platinum\" e \"Gold\"\n",
    "- Demonstre quanto cada Status de Clientes representa em vendas?"
   ]
  },
  {
   "cell_type": "code",
   "execution_count": 1,
   "id": "fa7e4d25-10f7-4fe6-bdc6-a5d11c06735b",
   "metadata": {},
   "outputs": [],
   "source": [
    "# Imports\n",
    "from pyspark.sql import SparkSession\n",
    "from pyspark.sql.types import *\n",
    "from pyspark.sql import functions as Func"
   ]
  },
  {
   "cell_type": "markdown",
   "id": "f56862a3-5a2a-40a4-a8f2-49626df091f5",
   "metadata": {},
   "source": [
    "# Crie uma consulta que mostre nesta ordem: nome, Estados e Status dos clientes;"
   ]
  },
  {
   "cell_type": "code",
   "execution_count": 2,
   "id": "978085ab-6de4-4b86-898d-c28e1d791372",
   "metadata": {},
   "outputs": [
    {
     "name": "stdout",
     "output_type": "stream",
     "text": [
      "+--------------------+------+--------+\n",
      "|             Cliente|Estado|  Status|\n",
      "+--------------------+------+--------+\n",
      "|Adelina Buenaventura|    RJ|  Silver|\n",
      "|        Adelino Gago|    RJ|  Silver|\n",
      "|     Adolfo Patrício|    PE|  Silver|\n",
      "|    Adriana Guedelha|    RO|Platinum|\n",
      "|       Adélio Lisboa|    SE|  Silver|\n",
      "|       Adérito Bahía|    MA|  Silver|\n",
      "|       Aida Dorneles|    RN|  Silver|\n",
      "|   Alarico Quinterno|    AC|  Silver|\n",
      "|    Alberto Cezimbra|    AM|  Silver|\n",
      "|    Alberto Monsanto|    RN|    Gold|\n",
      "|       Albino Canela|    AC|  Silver|\n",
      "|     Alceste Varanda|    RR|  Silver|\n",
      "|  Alcides Carvalhais|    RO|  Silver|\n",
      "|        Aldo Martins|    GO|  Silver|\n",
      "|   Alexandra Tabares|    MG|  Silver|\n",
      "|      Alfredo Cotrim|    SC|  Silver|\n",
      "|     Almeno Figueira|    SC|  Silver|\n",
      "|      Alvito Peralta|    AM|  Silver|\n",
      "|     Amadeu Martinho|    RN|  Silver|\n",
      "|      Amélia Estévez|    PE|  Silver|\n",
      "+--------------------+------+--------+\n",
      "only showing top 20 rows\n",
      "\n"
     ]
    }
   ],
   "source": [
    "df_clientes = spark.read.parquet(\"./data_exercise/Clientes.parquet\")\n",
    "df_clientes.select(Func.col(\"Cliente\"),\n",
    "                   Func.col(\"Estado\"),\n",
    "                   Func.col(\"Status\")\n",
    "                  ).show()"
   ]
  },
  {
   "cell_type": "markdown",
   "id": "426c98cd-eec4-41eb-b871-2390be8acc34",
   "metadata": {},
   "source": [
    "# Crie uma consulta que mostra apenas os clientes do Status \"Platinum\" e \"Gold\""
   ]
  },
  {
   "cell_type": "code",
   "execution_count": 3,
   "id": "14d4661c-854f-4b4e-bfa7-48593ea63eb6",
   "metadata": {},
   "outputs": [
    {
     "name": "stdout",
     "output_type": "stream",
     "text": [
      "+---------+-------------------+------+------+--------+\n",
      "|ClienteID|            Cliente|Estado|Genero|  Status|\n",
      "+---------+-------------------+------+------+--------+\n",
      "|        4|   Adriana Guedelha|    RO|     F|Platinum|\n",
      "|       10|   Alberto Monsanto|    RN|     M|    Gold|\n",
      "|       28|      Anna Carvajal|    RS|     F|    Gold|\n",
      "|       49|      Bento Quintão|    SP|     M|    Gold|\n",
      "|       68|      Carminda Dias|    AM|     F|    Gold|\n",
      "|       83|      Cláudio Jorge|    TO|     M|    Gold|\n",
      "|      121|    Dionísio Saltão|    PR|     M|    Gold|\n",
      "|      166|   Firmino Meireles|    AM|     M|    Gold|\n",
      "|      170|      Flor Vilanova|    CE|     M|Platinum|\n",
      "|      220|Honorina Villaverde|    PE|     F|    Gold|\n",
      "|      230|    Ibijara Botelho|    RR|     F|Platinum|\n",
      "|      237|  Iracema Rodríguez|    BA|     F|    Gold|\n",
      "|      247|         Joana Ataí|    GO|     F|Platinum|\n",
      "+---------+-------------------+------+------+--------+\n",
      "\n"
     ]
    }
   ],
   "source": [
    "df_clientes.where((Func.col(\"Status\") == \"Platinum\") |\n",
    "                  (Func.col(\"Status\") == \"Gold\")\n",
    "                 ).show()"
   ]
  },
  {
   "cell_type": "markdown",
   "id": "a48325aa-9bd5-4a23-bde8-b73343180ba9",
   "metadata": {},
   "source": [
    "# Demonstre quanto cada Status de Clientes representa em vendas?"
   ]
  },
  {
   "cell_type": "code",
   "execution_count": 4,
   "id": "17859f69-6679-4732-b9f5-88445453d2bf",
   "metadata": {},
   "outputs": [
    {
     "name": "stdout",
     "output_type": "stream",
     "text": [
      "+--------+----------+---------+---------+--------+\n",
      "|VendasID|VendedorID|ClienteID|     Data|   Total|\n",
      "+--------+----------+---------+---------+--------+\n",
      "|       1|         1|       91| 1/1/2019|  8053.6|\n",
      "|       2|         6|      185| 1/1/2020|   150.4|\n",
      "|       3|         7|       31| 2/1/2020|  6087.0|\n",
      "|       4|         5|       31| 2/1/2019| 13828.6|\n",
      "|       5|         5|       31| 3/1/2018|26096.66|\n",
      "|       6|         5|       31| 4/1/2020| 18402.0|\n",
      "|       7|         5|       31| 6/1/2019|  7524.2|\n",
      "|       8|         5|      186| 6/1/2019| 12036.6|\n",
      "|       9|         7|       91| 6/1/2020| 2804.75|\n",
      "|      10|         2|      202| 6/1/2020|  8852.0|\n",
      "|      11|         7|       58| 8/1/2019|16545.25|\n",
      "|      12|         7|       58| 9/1/2018|11411.88|\n",
      "|      13|         7|       58|10/1/2019| 15829.7|\n",
      "|      14|         3|      249|12/1/2020| 6154.36|\n",
      "|      15|         4|      249|12/1/2018| 3255.08|\n",
      "|      16|         7|      192|13/1/2020| 2901.25|\n",
      "|      17|         2|       79|13/1/2019| 15829.7|\n",
      "|      18|        10|       79|14/1/2019|16996.36|\n",
      "|      19|        10|      191|14/1/2019|   155.0|\n",
      "|      20|         9|      218|15/1/2018|  131.75|\n",
      "+--------+----------+---------+---------+--------+\n",
      "only showing top 20 rows\n",
      "\n"
     ]
    }
   ],
   "source": [
    "df_vendas = spark.read.parquet(\"./data_exercise/Vendas.parquet\")\n",
    "df_vendas.show()"
   ]
  },
  {
   "cell_type": "code",
   "execution_count": 5,
   "id": "19c662e0-075e-4d10-94f4-dea3193e60cb",
   "metadata": {},
   "outputs": [
    {
     "name": "stdout",
     "output_type": "stream",
     "text": [
      "+---------+--------+----------+-------------+----------+--------+----------------+\n",
      "|ProdutoID|VendasID|Quantidade|ValorUnitario|ValorTotal|Desconto|TotalComDesconto|\n",
      "+---------+--------+----------+-------------+----------+--------+----------------+\n",
      "|        2|     400|         2|       9201.0|   18402.0| 6256,68|        12145.32|\n",
      "|        2|     385|         2|       9201.0|   18402.0| 5704,62|        12697.38|\n",
      "|        4|     395|         2|       6892.2|   13784.4| 5100,23|         8684.17|\n",
      "|        4|     367|         2|       6509.3|   13018.6| 4816,88|         8201.72|\n",
      "|        2|     380|         2|      7038.77|  14077.54| 4364,04|          9713.5|\n",
      "|        2|     346|         2|       8280.9|   16561.8| 4140,45|        12421.35|\n",
      "|        2|     339|         2|       8280.9|   16561.8| 3312,36|        13249.44|\n",
      "|        2|     397|         1|       9201.0|    9201.0| 3312,36|         5888.64|\n",
      "|        1|     346|         2|       7966.8|   15933.6| 3186,72|        12746.88|\n",
      "|        2|     264|         2|       8280.9|   16561.8| 3146,74|        13415.06|\n",
      "|        4|     355|         2|      5858.37|  11716.74| 3046,35|         8670.39|\n",
      "|        2|     376|         1|       8280.9|    8280.9| 2981,12|         5299.78|\n",
      "|        2|     374|         1|       9201.0|    9201.0| 2944,32|         6256.68|\n",
      "|        1|     397|         1|       7524.2|    7524.2| 2859,20|          4665.0|\n",
      "|        2|     303|         2|       8280.9|   16561.8| 2815,51|        13746.29|\n",
      "|        4|     358|         2|       6509.3|   13018.6| 2733,91|        10284.69|\n",
      "|        4|     374|         1|       7658.0|    7658.0| 2527,14|         5130.86|\n",
      "|        3|     336|         2|       4255.0|    8510.0| 2467,90|          6042.1|\n",
      "|        1|     399|         1|      6771.78|   6771.78| 2437,84|         4333.94|\n",
      "|        1|     292|         2|      6771.78|  13543.56| 2437,84|        11105.72|\n",
      "+---------+--------+----------+-------------+----------+--------+----------------+\n",
      "only showing top 20 rows\n",
      "\n"
     ]
    }
   ],
   "source": [
    "df_itens_vendas = spark.read.parquet(\"./data_exercise/ItensVendas.parquet\")\n",
    "df_itens_vendas.show()"
   ]
  },
  {
   "cell_type": "code",
   "execution_count": 6,
   "id": "b2ab8ea5-6584-42f0-b196-282cf1fb030a",
   "metadata": {},
   "outputs": [
    {
     "name": "stdout",
     "output_type": "stream",
     "text": [
      "+--------+------------------+\n",
      "|  Status|        sum(Total)|\n",
      "+--------+------------------+\n",
      "|  Silver|        3014291.36|\n",
      "|    Gold|27286.690000000002|\n",
      "|Platinum|          12584.68|\n",
      "+--------+------------------+\n",
      "\n"
     ]
    }
   ],
   "source": [
    "# Joins\n",
    "\n",
    "df_clientes.join(\n",
    "    df_vendas,\n",
    "    df_clientes.ClienteID == df_vendas.ClienteID, \n",
    "    how=\"inner\").select(\n",
    "    Func.col(\"Status\"),\n",
    "    Func.col(\"Total\")).groupBy(\"Status\").agg(Func.sum(\"Total\")).orderBy(Func.col(\"sum(Total)\").desc()).show()\n"
   ]
  }
 ],
 "metadata": {
  "kernelspec": {
   "display_name": "Python 3 (ipykernel)",
   "language": "python",
   "name": "python3"
  },
  "language_info": {
   "codemirror_mode": {
    "name": "ipython",
    "version": 3
   },
   "file_extension": ".py",
   "mimetype": "text/x-python",
   "name": "python",
   "nbconvert_exporter": "python",
   "pygments_lexer": "ipython3",
   "version": "3.9.12"
  }
 },
 "nbformat": 4,
 "nbformat_minor": 5
}
