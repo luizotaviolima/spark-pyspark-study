{
 "cells": [
  {
   "cell_type": "code",
   "execution_count": 1,
   "id": "9682c02b-895e-458c-82f0-6703d95ff2d9",
   "metadata": {},
   "outputs": [],
   "source": [
    "# Imports\n",
    "from pyspark.sql import SparkSession\n",
    "from pyspark.sql.types import *\n",
    "from pyspark.sql import functions as Func"
   ]
  },
  {
   "cell_type": "markdown",
   "id": "98ea6e08-87de-4849-8fd3-4843a2217762",
   "metadata": {},
   "source": [
    "# 1 - Importando dados"
   ]
  },
  {
   "cell_type": "markdown",
   "id": "eb40369b-c3ce-472f-8e15-18af92203300",
   "metadata": {},
   "source": [
    "## 1.1 - Parquet format"
   ]
  },
  {
   "cell_type": "code",
   "execution_count": 2,
   "id": "db5fd405-b878-4c17-b307-723b711d9185",
   "metadata": {},
   "outputs": [
    {
     "name": "stdout",
     "output_type": "stream",
     "text": [
      "+---+-------------------+------+-------------+------+----------+\n",
      "| id|               nome|status|       cidade|vendas|      data|\n",
      "+---+-------------------+------+-------------+------+----------+\n",
      "|  1|   Carminda Pestana| Ativo|  Santa Maria|    23|2020-08-11|\n",
      "|  2|    Deolinda Vilela| Ativo|Novo Hamburgo|    34|2020-03-05|\n",
      "|  3|   Emídio Dornelles| Ativo| Porto Alegre|    34|2020-02-05|\n",
      "|  4|Felisbela Dornelles| Ativo| Porto Alegre|    36|2020-02-05|\n",
      "|  5|     Graça Ornellas| Ativo| Porto Alegre|    12|2020-02-05|\n",
      "|  6|   Matilde Rebouças| Ativo| Porto Alegre|    22|2019-01-05|\n",
      "|  7|    Noêmia   Orriça| Ativo|  Santa Maria|    45|2019-10-05|\n",
      "|  8|      Roque Vásquez| Ativo| Porto Alegre|    65|2020-03-05|\n",
      "|  9|      Uriel Queiroz| Ativo| Porto Alegre|    54|2018-05-05|\n",
      "| 10|   Viviana Sequeira| Ativo| Porto Alegre|     0|2020-09-05|\n",
      "+---+-------------------+------+-------------+------+----------+\n",
      "\n"
     ]
    }
   ],
   "source": [
    "par = spark.read.format(\"parquet\").load(\"./export_parquet\")\n",
    "par.show()"
   ]
  },
  {
   "cell_type": "code",
   "execution_count": 3,
   "id": "773dad63-190f-4158-a4a8-f5aae594b243",
   "metadata": {},
   "outputs": [
    {
     "data": {
      "text/plain": [
       "StructType([StructField('id', IntegerType(), True), StructField('nome', StringType(), True), StructField('status', StringType(), True), StructField('cidade', StringType(), True), StructField('vendas', IntegerType(), True), StructField('data', StringType(), True)])"
      ]
     },
     "execution_count": 3,
     "metadata": {},
     "output_type": "execute_result"
    }
   ],
   "source": [
    "par.schema"
   ]
  },
  {
   "cell_type": "markdown",
   "id": "85399b69-3e9f-4d90-8705-a91efb256091",
   "metadata": {},
   "source": [
    "## 1.2 - Json format"
   ]
  },
  {
   "cell_type": "code",
   "execution_count": 4,
   "id": "97545f1a-de0b-479e-a8f9-e5c2c7716955",
   "metadata": {},
   "outputs": [
    {
     "name": "stdout",
     "output_type": "stream",
     "text": [
      "+-------------+----------+---+-------------------+------+------+\n",
      "|       cidade|      data| id|               nome|status|vendas|\n",
      "+-------------+----------+---+-------------------+------+------+\n",
      "|  Santa Maria|2020-08-11|  1|   Carminda Pestana| Ativo|    23|\n",
      "|Novo Hamburgo|2020-03-05|  2|    Deolinda Vilela| Ativo|    34|\n",
      "| Porto Alegre|2020-02-05|  3|   Emídio Dornelles| Ativo|    34|\n",
      "| Porto Alegre|2020-02-05|  4|Felisbela Dornelles| Ativo|    36|\n",
      "| Porto Alegre|2020-02-05|  5|     Graça Ornellas| Ativo|    12|\n",
      "| Porto Alegre|2019-01-05|  6|   Matilde Rebouças| Ativo|    22|\n",
      "|  Santa Maria|2019-10-05|  7|    Noêmia   Orriça| Ativo|    45|\n",
      "| Porto Alegre|2020-03-05|  8|      Roque Vásquez| Ativo|    65|\n",
      "| Porto Alegre|2018-05-05|  9|      Uriel Queiroz| Ativo|    54|\n",
      "| Porto Alegre|2020-09-05| 10|   Viviana Sequeira| Ativo|     0|\n",
      "+-------------+----------+---+-------------------+------+------+\n",
      "\n"
     ]
    }
   ],
   "source": [
    "js = spark.read.format(\"json\").load(\"./export_json\")\n",
    "js.show()"
   ]
  },
  {
   "cell_type": "code",
   "execution_count": 5,
   "id": "5afa0fa5-3126-4755-9b9d-9589f00b5dab",
   "metadata": {},
   "outputs": [
    {
     "data": {
      "text/plain": [
       "StructType([StructField('cidade', StringType(), True), StructField('data', StringType(), True), StructField('id', LongType(), True), StructField('nome', StringType(), True), StructField('status', StringType(), True), StructField('vendas', LongType(), True)])"
      ]
     },
     "execution_count": 5,
     "metadata": {},
     "output_type": "execute_result"
    }
   ],
   "source": [
    "js.schema"
   ]
  },
  {
   "cell_type": "markdown",
   "id": "a3640075-60b3-4a2f-a159-47fb08aac395",
   "metadata": {},
   "source": [
    "## 1.3 - ORC format"
   ]
  },
  {
   "cell_type": "code",
   "execution_count": 6,
   "id": "94e992a9-aad2-4ae4-8ede-8335c7b0c982",
   "metadata": {},
   "outputs": [
    {
     "name": "stdout",
     "output_type": "stream",
     "text": [
      "+---+-------------------+------+-------------+------+----------+\n",
      "| id|               nome|status|       cidade|vendas|      data|\n",
      "+---+-------------------+------+-------------+------+----------+\n",
      "|  1|   Carminda Pestana| Ativo|  Santa Maria|    23|2020-08-11|\n",
      "|  2|    Deolinda Vilela| Ativo|Novo Hamburgo|    34|2020-03-05|\n",
      "|  3|   Emídio Dornelles| Ativo| Porto Alegre|    34|2020-02-05|\n",
      "|  4|Felisbela Dornelles| Ativo| Porto Alegre|    36|2020-02-05|\n",
      "|  5|     Graça Ornellas| Ativo| Porto Alegre|    12|2020-02-05|\n",
      "|  6|   Matilde Rebouças| Ativo| Porto Alegre|    22|2019-01-05|\n",
      "|  7|    Noêmia   Orriça| Ativo|  Santa Maria|    45|2019-10-05|\n",
      "|  8|      Roque Vásquez| Ativo| Porto Alegre|    65|2020-03-05|\n",
      "|  9|      Uriel Queiroz| Ativo| Porto Alegre|    54|2018-05-05|\n",
      "| 10|   Viviana Sequeira| Ativo| Porto Alegre|     0|2020-09-05|\n",
      "+---+-------------------+------+-------------+------+----------+\n",
      "\n"
     ]
    }
   ],
   "source": [
    "orc = spark.read.format(\"orc\").load(\"./export_orc\")\n",
    "orc.show()"
   ]
  },
  {
   "cell_type": "code",
   "execution_count": 7,
   "id": "9392acfb-8615-4df5-a735-1942d7b47acc",
   "metadata": {},
   "outputs": [
    {
     "data": {
      "text/plain": [
       "StructType([StructField('id', IntegerType(), True), StructField('nome', StringType(), True), StructField('status', StringType(), True), StructField('cidade', StringType(), True), StructField('vendas', IntegerType(), True), StructField('data', StringType(), True)])"
      ]
     },
     "execution_count": 7,
     "metadata": {},
     "output_type": "execute_result"
    }
   ],
   "source": [
    "orc.schema"
   ]
  },
  {
   "cell_type": "markdown",
   "id": "5d55d923-b625-4215-92ff-d91cff4c8d44",
   "metadata": {},
   "source": [
    "## 1.4 - Csv format"
   ]
  },
  {
   "cell_type": "code",
   "execution_count": 8,
   "id": "f2b7b01b-d876-4c7c-85b2-e79de2f5d3d4",
   "metadata": {},
   "outputs": [],
   "source": [
    "arqschema = \"\"\"id INT, nome STRING, \n",
    "               status STRING, \n",
    "               cidade STRING, \n",
    "               vendas INT, \n",
    "               data STRING\"\"\""
   ]
  },
  {
   "cell_type": "code",
   "execution_count": 9,
   "id": "893e9b3f-06a0-47f7-a69e-cc53f7197039",
   "metadata": {},
   "outputs": [
    {
     "name": "stdout",
     "output_type": "stream",
     "text": [
      "+---+-------------------+------+-------------+------+----------+\n",
      "| id|               nome|status|       cidade|vendas|      data|\n",
      "+---+-------------------+------+-------------+------+----------+\n",
      "|  1|   Carminda Pestana| Ativo|  Santa Maria|    23|2020-08-11|\n",
      "|  2|    Deolinda Vilela| Ativo|Novo Hamburgo|    34|2020-03-05|\n",
      "|  3|   Emídio Dornelles| Ativo| Porto Alegre|    34|2020-02-05|\n",
      "|  4|Felisbela Dornelles| Ativo| Porto Alegre|    36|2020-02-05|\n",
      "|  5|     Graça Ornellas| Ativo| Porto Alegre|    12|2020-02-05|\n",
      "|  6|   Matilde Rebouças| Ativo| Porto Alegre|    22|2019-01-05|\n",
      "|  7|    Noêmia   Orriça| Ativo|  Santa Maria|    45|2019-10-05|\n",
      "|  8|      Roque Vásquez| Ativo| Porto Alegre|    65|2020-03-05|\n",
      "|  9|      Uriel Queiroz| Ativo| Porto Alegre|    54|2018-05-05|\n",
      "| 10|   Viviana Sequeira| Ativo| Porto Alegre|     0|2020-09-05|\n",
      "+---+-------------------+------+-------------+------+----------+\n",
      "\n"
     ]
    }
   ],
   "source": [
    "cs = spark.read.format(\"csv\").load(\"./export_csv\", schema=arqschema)\n",
    "cs.show()"
   ]
  },
  {
   "cell_type": "code",
   "execution_count": 10,
   "id": "e35b2f66-1c34-405f-9f75-9023abaf9ad0",
   "metadata": {},
   "outputs": [
    {
     "data": {
      "text/plain": [
       "StructType([StructField('id', IntegerType(), True), StructField('nome', StringType(), True), StructField('status', StringType(), True), StructField('cidade', StringType(), True), StructField('vendas', IntegerType(), True), StructField('data', StringType(), True)])"
      ]
     },
     "execution_count": 10,
     "metadata": {},
     "output_type": "execute_result"
    }
   ],
   "source": [
    "cs.schema"
   ]
  }
 ],
 "metadata": {
  "kernelspec": {
   "display_name": "Python 3 (ipykernel)",
   "language": "python",
   "name": "python3"
  },
  "language_info": {
   "codemirror_mode": {
    "name": "ipython",
    "version": 3
   },
   "file_extension": ".py",
   "mimetype": "text/x-python",
   "name": "python",
   "nbconvert_exporter": "python",
   "pygments_lexer": "ipython3",
   "version": "3.9.12"
  }
 },
 "nbformat": 4,
 "nbformat_minor": 5
}
