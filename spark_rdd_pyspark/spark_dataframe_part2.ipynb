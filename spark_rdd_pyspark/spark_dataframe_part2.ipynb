{
 "cells": [
  {
   "cell_type": "code",
   "execution_count": 1,
   "id": "556dc471-9c0a-4373-a2ca-1564e4055ba5",
   "metadata": {},
   "outputs": [],
   "source": [
    "# Imports\n",
    "from pyspark.sql import SparkSession\n",
    "from pyspark.sql.types import *\n",
    "from pyspark.sql import functions as Func"
   ]
  },
  {
   "cell_type": "markdown",
   "id": "0f876a89-161a-462a-9e38-47eeb4789cbb",
   "metadata": {},
   "source": [
    "# 1 - Importando dados"
   ]
  },
  {
   "cell_type": "markdown",
   "id": "3ea87ba7-9383-4081-8828-ddc36bac3322",
   "metadata": {},
   "source": [
    "## 1.1 - DataFrame com o schema definido"
   ]
  },
  {
   "cell_type": "code",
   "execution_count": 2,
   "id": "2c4a8067-2462-4370-9528-bee074a15712",
   "metadata": {},
   "outputs": [],
   "source": [
    "# Definindo o schema baseado nos dados a serem importados\n",
    "arqschema = \"\"\"id INT, nome STRING, \n",
    "               status STRING, \n",
    "               cidade STRING, \n",
    "               vendas INT, \n",
    "               data STRING\"\"\"\n",
    "# Nessa caso iremos indicar a coluna data como STRING"
   ]
  },
  {
   "cell_type": "code",
   "execution_count": 3,
   "id": "f7c56659-8731-4b56-8a79-18593f0ef2f6",
   "metadata": {},
   "outputs": [
    {
     "name": "stdout",
     "output_type": "stream",
     "text": [
      "+---+-------------------+------+-------------+------+----------+\n",
      "| id|               nome|status|       cidade|vendas|      data|\n",
      "+---+-------------------+------+-------------+------+----------+\n",
      "|  1|   Carminda Pestana| Ativo|  Santa Maria|    23|2020-08-11|\n",
      "|  2|    Deolinda Vilela| Ativo|Novo Hamburgo|    34|2020-03-05|\n",
      "|  3|   Emídio Dornelles| Ativo| Porto Alegre|    34|2020-02-05|\n",
      "|  4|Felisbela Dornelles| Ativo| Porto Alegre|    36|2020-02-05|\n",
      "|  5|     Graça Ornellas| Ativo| Porto Alegre|    12|2020-02-05|\n",
      "|  6|   Matilde Rebouças| Ativo| Porto Alegre|    22|2019-01-05|\n",
      "|  7|    Noêmia   Orriça| Ativo|  Santa Maria|    45|2019-10-05|\n",
      "|  8|      Roque Vásquez| Ativo| Porto Alegre|    65|2020-03-05|\n",
      "|  9|      Uriel Queiroz| Ativo| Porto Alegre|    54|2018-05-05|\n",
      "| 10|   Viviana Sequeira| Ativo| Porto Alegre|     0|2020-09-05|\n",
      "+---+-------------------+------+-------------+------+----------+\n",
      "\n"
     ]
    }
   ],
   "source": [
    "# Importando um arquivo csv\n",
    "despachantes = spark.read.csv(\"./data/despachantes.csv\", header = False, schema = arqschema)\n",
    "despachantes.show()"
   ]
  },
  {
   "cell_type": "markdown",
   "id": "bbf7e19d-6bd6-4c68-b01c-75cbf2875962",
   "metadata": {},
   "source": [
    "## 1.2 - DataFrame na qual o schema é inferido"
   ]
  },
  {
   "cell_type": "code",
   "execution_count": 4,
   "id": "a9d59c24-9049-4a16-8615-aa38251f4ad9",
   "metadata": {},
   "outputs": [
    {
     "name": "stdout",
     "output_type": "stream",
     "text": [
      "+---+-------------------+-----+-------------+---+-------------------+\n",
      "|_c0|                _c1|  _c2|          _c3|_c4|                _c5|\n",
      "+---+-------------------+-----+-------------+---+-------------------+\n",
      "|  1|   Carminda Pestana|Ativo|  Santa Maria| 23|2020-08-11 00:00:00|\n",
      "|  2|    Deolinda Vilela|Ativo|Novo Hamburgo| 34|2020-03-05 00:00:00|\n",
      "|  3|   Emídio Dornelles|Ativo| Porto Alegre| 34|2020-02-05 00:00:00|\n",
      "|  4|Felisbela Dornelles|Ativo| Porto Alegre| 36|2020-02-05 00:00:00|\n",
      "|  5|     Graça Ornellas|Ativo| Porto Alegre| 12|2020-02-05 00:00:00|\n",
      "|  6|   Matilde Rebouças|Ativo| Porto Alegre| 22|2019-01-05 00:00:00|\n",
      "|  7|    Noêmia   Orriça|Ativo|  Santa Maria| 45|2019-10-05 00:00:00|\n",
      "|  8|      Roque Vásquez|Ativo| Porto Alegre| 65|2020-03-05 00:00:00|\n",
      "|  9|      Uriel Queiroz|Ativo| Porto Alegre| 54|2018-05-05 00:00:00|\n",
      "| 10|   Viviana Sequeira|Ativo| Porto Alegre|  0|2020-09-05 00:00:00|\n",
      "+---+-------------------+-----+-------------+---+-------------------+\n",
      "\n"
     ]
    }
   ],
   "source": [
    "# Neste caso utilizarei o método read.load e informar o formato como csv.\n",
    "desp_autoschema = spark.read.load(\"./data/despachantes.csv\", \n",
    "                                  header = False, \n",
    "                                  format=\"csv\", \n",
    "                                  sep=\",\",\n",
    "                                 inferSchema = True)\n",
    "desp_autoschema.show()"
   ]
  },
  {
   "cell_type": "markdown",
   "id": "3505e7f5-dec8-4eb1-aa61-b35720d57a31",
   "metadata": {},
   "source": [
    "## 1.3 - Comparando os schemas dos DataFrames acima"
   ]
  },
  {
   "cell_type": "code",
   "execution_count": 5,
   "id": "7dc01e62-5610-4a5c-8b1e-943e37eb26c9",
   "metadata": {},
   "outputs": [
    {
     "data": {
      "text/plain": [
       "StructType([StructField('id', IntegerType(), True), StructField('nome', StringType(), True), StructField('status', StringType(), True), StructField('cidade', StringType(), True), StructField('vendas', IntegerType(), True), StructField('data', StringType(), True)])"
      ]
     },
     "execution_count": 5,
     "metadata": {},
     "output_type": "execute_result"
    }
   ],
   "source": [
    "despachantes.schema"
   ]
  },
  {
   "cell_type": "code",
   "execution_count": 6,
   "id": "6fb385bb-40df-4dd8-9b1a-7068b2a9506a",
   "metadata": {},
   "outputs": [
    {
     "data": {
      "text/plain": [
       "StructType([StructField('_c0', IntegerType(), True), StructField('_c1', StringType(), True), StructField('_c2', StringType(), True), StructField('_c3', StringType(), True), StructField('_c4', IntegerType(), True), StructField('_c5', TimestampType(), True)])"
      ]
     },
     "execution_count": 6,
     "metadata": {},
     "output_type": "execute_result"
    }
   ],
   "source": [
    "desp_autoschema.schema"
   ]
  },
  {
   "cell_type": "markdown",
   "id": "1694e7b6-7b93-4f65-b250-6ea564e85a28",
   "metadata": {},
   "source": [
    "No caso em que o schema foi inferido, na coluna data foi automaticamente convertido para o tipo timestampType()"
   ]
  },
  {
   "cell_type": "markdown",
   "id": "5f0d4327-1289-4674-a475-80af9171e181",
   "metadata": {},
   "source": [
    "# 2 - Algumas manipulações de DataFrame"
   ]
  },
  {
   "cell_type": "markdown",
   "id": "a92ffc48-34e5-474c-9a82-e42667ad3abf",
   "metadata": {},
   "source": [
    "## 2.1 - Condições com a cláusula where"
   ]
  },
  {
   "cell_type": "code",
   "execution_count": 7,
   "id": "db058172-3c33-40f1-87e8-4dff1a54530e",
   "metadata": {},
   "outputs": [
    {
     "name": "stdout",
     "output_type": "stream",
     "text": [
      "+---+-------------------+------+\n",
      "| id|               nome|vendas|\n",
      "+---+-------------------+------+\n",
      "|  1|   Carminda Pestana|    23|\n",
      "|  2|    Deolinda Vilela|    34|\n",
      "|  3|   Emídio Dornelles|    34|\n",
      "|  4|Felisbela Dornelles|    36|\n",
      "|  6|   Matilde Rebouças|    22|\n",
      "|  7|    Noêmia   Orriça|    45|\n",
      "|  8|      Roque Vásquez|    65|\n",
      "|  9|      Uriel Queiroz|    54|\n",
      "+---+-------------------+------+\n",
      "\n"
     ]
    }
   ],
   "source": [
    "despachantes.select(\"id\", \"nome\", \"vendas\").where(Func.col(\"vendas\") > 20).show()"
   ]
  },
  {
   "cell_type": "code",
   "execution_count": 8,
   "id": "9486be07-5458-46b2-99df-d65694bee5a6",
   "metadata": {},
   "outputs": [
    {
     "name": "stdout",
     "output_type": "stream",
     "text": [
      "+---+-------------------+------+\n",
      "| id|               nome|vendas|\n",
      "+---+-------------------+------+\n",
      "|  1|   Carminda Pestana|    23|\n",
      "|  2|    Deolinda Vilela|    34|\n",
      "|  3|   Emídio Dornelles|    34|\n",
      "|  4|Felisbela Dornelles|    36|\n",
      "|  6|   Matilde Rebouças|    22|\n",
      "+---+-------------------+------+\n",
      "\n"
     ]
    }
   ],
   "source": [
    "despachantes.select(\"id\", \"nome\", \"vendas\").where((Func.col(\"vendas\") > 20) & (Func.col(\"vendas\") < 40)).show()"
   ]
  },
  {
   "cell_type": "markdown",
   "id": "c858a134-41dc-4513-8ae0-a207d3eb4c38",
   "metadata": {},
   "source": [
    "## 2.2 - Renomeando colunas"
   ]
  },
  {
   "cell_type": "code",
   "execution_count": 9,
   "id": "528a3f9f-e0e6-49e0-b66a-fd567316708d",
   "metadata": {},
   "outputs": [],
   "source": [
    "novodf = despachantes.withColumnRenamed(\"nome\", \"nomes\")"
   ]
  },
  {
   "cell_type": "code",
   "execution_count": 10,
   "id": "cdcab908-9ca1-4f0f-b8b5-649351068728",
   "metadata": {},
   "outputs": [
    {
     "data": {
      "text/plain": [
       "['id', 'nome', 'status', 'cidade', 'vendas', 'data']"
      ]
     },
     "execution_count": 10,
     "metadata": {},
     "output_type": "execute_result"
    }
   ],
   "source": [
    "despachantes.columns"
   ]
  },
  {
   "cell_type": "markdown",
   "id": "703f5917-fda4-4e93-bfec-2ddaf31b4696",
   "metadata": {},
   "source": [
    "## 2.3 - Criando uma coluna com tipo timestamp"
   ]
  },
  {
   "cell_type": "code",
   "execution_count": 11,
   "id": "52732f1c-0be8-4f30-9e65-18b633048bc5",
   "metadata": {},
   "outputs": [
    {
     "data": {
      "text/plain": [
       "StructType([StructField('id', IntegerType(), True), StructField('nome', StringType(), True), StructField('status', StringType(), True), StructField('cidade', StringType(), True), StructField('vendas', IntegerType(), True), StructField('data', StringType(), True), StructField('data2', TimestampType(), True)])"
      ]
     },
     "execution_count": 11,
     "metadata": {},
     "output_type": "execute_result"
    }
   ],
   "source": [
    "from pyspark.sql.functions import *\n",
    "despachantes2 = despachantes.withColumn(\"data2\", to_timestamp(Func.col(\"data\"), \"yyyy-MM-dd\"))\n",
    "despachantes2.schema"
   ]
  },
  {
   "cell_type": "markdown",
   "id": "a4c0305e-774f-4798-98d9-1b924eae52b5",
   "metadata": {},
   "source": [
    "## 2.4 - Executando funções de data mesmo com a coluna em string"
   ]
  },
  {
   "cell_type": "code",
   "execution_count": 12,
   "id": "ab968305-e748-4908-8721-0b41f637e590",
   "metadata": {},
   "outputs": [
    {
     "name": "stdout",
     "output_type": "stream",
     "text": [
      "+----------+\n",
      "|year(data)|\n",
      "+----------+\n",
      "|      2020|\n",
      "|      2020|\n",
      "|      2020|\n",
      "|      2020|\n",
      "|      2020|\n",
      "|      2019|\n",
      "|      2019|\n",
      "|      2020|\n",
      "|      2018|\n",
      "|      2020|\n",
      "+----------+\n",
      "\n"
     ]
    }
   ],
   "source": [
    "despachantes2.select(year(\"data\")).show()"
   ]
  },
  {
   "cell_type": "markdown",
   "id": "65ab8a2c-a61e-464d-ad19-1bfef26eb382",
   "metadata": {},
   "source": [
    "## 2.5 - Valores únicos"
   ]
  },
  {
   "cell_type": "code",
   "execution_count": 13,
   "id": "235f4599-6939-46f2-8988-79252fcd41b9",
   "metadata": {},
   "outputs": [
    {
     "name": "stdout",
     "output_type": "stream",
     "text": [
      "+----------+\n",
      "|year(data)|\n",
      "+----------+\n",
      "|      2018|\n",
      "|      2019|\n",
      "|      2020|\n",
      "+----------+\n",
      "\n"
     ]
    }
   ],
   "source": [
    "despachantes2.select(year(\"data\")).distinct().show()"
   ]
  },
  {
   "cell_type": "markdown",
   "id": "204dc21a-ec3a-45ef-bbaf-862307d3c357",
   "metadata": {},
   "source": [
    "## 2.6 - Ordenando Valores"
   ]
  },
  {
   "cell_type": "code",
   "execution_count": 14,
   "id": "1c30606d-bfe1-4f58-b23b-b3df16f0dbf5",
   "metadata": {},
   "outputs": [
    {
     "name": "stdout",
     "output_type": "stream",
     "text": [
      "+-------------------+----------+\n",
      "|               nome|year(data)|\n",
      "+-------------------+----------+\n",
      "|   Carminda Pestana|      2020|\n",
      "|    Deolinda Vilela|      2020|\n",
      "|   Emídio Dornelles|      2020|\n",
      "|Felisbela Dornelles|      2020|\n",
      "|     Graça Ornellas|      2020|\n",
      "|   Matilde Rebouças|      2019|\n",
      "|    Noêmia   Orriça|      2019|\n",
      "|      Roque Vásquez|      2020|\n",
      "|      Uriel Queiroz|      2018|\n",
      "|   Viviana Sequeira|      2020|\n",
      "+-------------------+----------+\n",
      "\n"
     ]
    }
   ],
   "source": [
    "despachantes2.select(\"nome\", year(\"data\")).orderBy(\"nome\").show()"
   ]
  },
  {
   "cell_type": "markdown",
   "id": "90ee27a3-0c4f-41e2-a5cc-4dadbc91e3be",
   "metadata": {},
   "source": [
    "## 2.5 - Contagem"
   ]
  },
  {
   "cell_type": "code",
   "execution_count": 15,
   "id": "ae049286-2e80-4694-9bb0-2fd6986ca371",
   "metadata": {},
   "outputs": [
    {
     "name": "stdout",
     "output_type": "stream",
     "text": [
      "+----------+-----+\n",
      "|year(data)|count|\n",
      "+----------+-----+\n",
      "|      2018|    1|\n",
      "|      2019|    2|\n",
      "|      2020|    7|\n",
      "+----------+-----+\n",
      "\n"
     ]
    }
   ],
   "source": [
    "despachantes2.select(\"data\").groupBy(year(\"data\")).count().show()"
   ]
  },
  {
   "cell_type": "markdown",
   "id": "3ff8e481-b80e-4871-a7b9-b563ccb47f45",
   "metadata": {},
   "source": [
    "## 2.6 - Soma"
   ]
  },
  {
   "cell_type": "code",
   "execution_count": 16,
   "id": "40748927-1a0c-4a90-be1b-f1c68ae3618b",
   "metadata": {},
   "outputs": [
    {
     "name": "stdout",
     "output_type": "stream",
     "text": [
      "+-----------+\n",
      "|sum(vendas)|\n",
      "+-----------+\n",
      "|        325|\n",
      "+-----------+\n",
      "\n"
     ]
    }
   ],
   "source": [
    "despachantes2.select(Func.sum(\"vendas\")).show()"
   ]
  }
 ],
 "metadata": {
  "kernelspec": {
   "display_name": "Python 3 (ipykernel)",
   "language": "python",
   "name": "python3"
  },
  "language_info": {
   "codemirror_mode": {
    "name": "ipython",
    "version": 3
   },
   "file_extension": ".py",
   "mimetype": "text/x-python",
   "name": "python",
   "nbconvert_exporter": "python",
   "pygments_lexer": "ipython3",
   "version": "3.9.12"
  }
 },
 "nbformat": 4,
 "nbformat_minor": 5
}
