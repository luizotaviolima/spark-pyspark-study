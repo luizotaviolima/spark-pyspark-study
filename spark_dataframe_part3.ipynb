{
 "cells": [
  {
   "cell_type": "code",
   "execution_count": 1,
   "id": "17294fb3-55e7-4cd2-8395-0a18f4566e18",
   "metadata": {},
   "outputs": [],
   "source": [
    "# Imports\n",
    "from pyspark.sql import SparkSession\n",
    "from pyspark.sql.types import *\n",
    "from pyspark.sql import functions as Func"
   ]
  },
  {
   "cell_type": "markdown",
   "id": "69b07268-158c-4723-b296-8128a05f240f",
   "metadata": {},
   "source": [
    "# 1 - Importando dados"
   ]
  },
  {
   "cell_type": "markdown",
   "id": "ba75ccbb-fdf8-49a9-a078-a639aa482e57",
   "metadata": {},
   "source": [
    "## 1.1 - DataFrame com o schema definido"
   ]
  },
  {
   "cell_type": "code",
   "execution_count": 2,
   "id": "cfb01aeb-af51-408b-9c74-46138798b0ed",
   "metadata": {},
   "outputs": [],
   "source": [
    "arqschema = \"\"\"id INT, nome STRING, \n",
    "               status STRING, \n",
    "               cidade STRING, \n",
    "               vendas INT, \n",
    "               data STRING\"\"\""
   ]
  },
  {
   "cell_type": "code",
   "execution_count": 3,
   "id": "4cdc071b-a1c5-4132-af34-fa6f126a2d97",
   "metadata": {},
   "outputs": [
    {
     "name": "stdout",
     "output_type": "stream",
     "text": [
      "+---+-------------------+------+-------------+------+----------+\n",
      "| id|               nome|status|       cidade|vendas|      data|\n",
      "+---+-------------------+------+-------------+------+----------+\n",
      "|  1|   Carminda Pestana| Ativo|  Santa Maria|    23|2020-08-11|\n",
      "|  2|    Deolinda Vilela| Ativo|Novo Hamburgo|    34|2020-03-05|\n",
      "|  3|   Emídio Dornelles| Ativo| Porto Alegre|    34|2020-02-05|\n",
      "|  4|Felisbela Dornelles| Ativo| Porto Alegre|    36|2020-02-05|\n",
      "|  5|     Graça Ornellas| Ativo| Porto Alegre|    12|2020-02-05|\n",
      "|  6|   Matilde Rebouças| Ativo| Porto Alegre|    22|2019-01-05|\n",
      "|  7|    Noêmia   Orriça| Ativo|  Santa Maria|    45|2019-10-05|\n",
      "|  8|      Roque Vásquez| Ativo| Porto Alegre|    65|2020-03-05|\n",
      "|  9|      Uriel Queiroz| Ativo| Porto Alegre|    54|2018-05-05|\n",
      "| 10|   Viviana Sequeira| Ativo| Porto Alegre|     0|2020-09-05|\n",
      "+---+-------------------+------+-------------+------+----------+\n",
      "\n"
     ]
    }
   ],
   "source": [
    "despachantes = spark.read.csv(\"./data/despachantes.csv\", header = False, schema = arqschema)\n",
    "despachantes.show()"
   ]
  },
  {
   "cell_type": "markdown",
   "id": "e54d3f80-7246-48ca-829b-0059dc5d5a77",
   "metadata": {},
   "source": [
    "# 2 - Principais Ações e Transformações"
   ]
  },
  {
   "cell_type": "markdown",
   "id": "97bb723d-1606-4159-b6b4-0cd638cef1a9",
   "metadata": {},
   "source": [
    "## 2.1 - Ações"
   ]
  },
  {
   "cell_type": "markdown",
   "id": "cdfb6744-bb37-4036-8568-38b1555766d6",
   "metadata": {},
   "source": [
    "### 2.1.1 - show()"
   ]
  },
  {
   "cell_type": "code",
   "execution_count": 4,
   "id": "da8b7e4c-1490-4f38-9172-53a3a19b6100",
   "metadata": {},
   "outputs": [
    {
     "name": "stdout",
     "output_type": "stream",
     "text": [
      "+---+-------------------+------+-------------+------+----------+\n",
      "| id|               nome|status|       cidade|vendas|      data|\n",
      "+---+-------------------+------+-------------+------+----------+\n",
      "|  1|   Carminda Pestana| Ativo|  Santa Maria|    23|2020-08-11|\n",
      "|  2|    Deolinda Vilela| Ativo|Novo Hamburgo|    34|2020-03-05|\n",
      "|  3|   Emídio Dornelles| Ativo| Porto Alegre|    34|2020-02-05|\n",
      "|  4|Felisbela Dornelles| Ativo| Porto Alegre|    36|2020-02-05|\n",
      "|  5|     Graça Ornellas| Ativo| Porto Alegre|    12|2020-02-05|\n",
      "|  6|   Matilde Rebouças| Ativo| Porto Alegre|    22|2019-01-05|\n",
      "|  7|    Noêmia   Orriça| Ativo|  Santa Maria|    45|2019-10-05|\n",
      "|  8|      Roque Vásquez| Ativo| Porto Alegre|    65|2020-03-05|\n",
      "|  9|      Uriel Queiroz| Ativo| Porto Alegre|    54|2018-05-05|\n",
      "| 10|   Viviana Sequeira| Ativo| Porto Alegre|     0|2020-09-05|\n",
      "+---+-------------------+------+-------------+------+----------+\n",
      "\n"
     ]
    }
   ],
   "source": [
    "despachantes.show()\n",
    "# A ação show retorna em forma tabular"
   ]
  },
  {
   "cell_type": "markdown",
   "id": "e9090cb8-6541-4049-b424-cb7d83e79032",
   "metadata": {},
   "source": [
    "### 2.1.2 - take(), head(), firts()"
   ]
  },
  {
   "cell_type": "markdown",
   "id": "377ecc3e-4a85-4e76-824d-16e02a7ccccc",
   "metadata": {},
   "source": [
    "As três retornam a mesma informação em forma de linha"
   ]
  },
  {
   "cell_type": "code",
   "execution_count": 5,
   "id": "dba69166-ea6b-40aa-9ebf-119b1947bb3a",
   "metadata": {},
   "outputs": [
    {
     "data": {
      "text/plain": [
       "[Row(id=1, nome='Carminda Pestana', status='Ativo', cidade='Santa Maria', vendas=23, data='2020-08-11'),\n",
       " Row(id=2, nome='Deolinda Vilela', status='Ativo', cidade='Novo Hamburgo', vendas=34, data='2020-03-05'),\n",
       " Row(id=3, nome='Emídio Dornelles', status='Ativo', cidade='Porto Alegre', vendas=34, data='2020-02-05')]"
      ]
     },
     "execution_count": 5,
     "metadata": {},
     "output_type": "execute_result"
    }
   ],
   "source": [
    "despachantes.take(3)"
   ]
  },
  {
   "cell_type": "code",
   "execution_count": 6,
   "id": "47eb999c-cbd9-4992-871e-66c4e6b996ce",
   "metadata": {},
   "outputs": [
    {
     "data": {
      "text/plain": [
       "[Row(id=1, nome='Carminda Pestana', status='Ativo', cidade='Santa Maria', vendas=23, data='2020-08-11'),\n",
       " Row(id=2, nome='Deolinda Vilela', status='Ativo', cidade='Novo Hamburgo', vendas=34, data='2020-03-05')]"
      ]
     },
     "execution_count": 6,
     "metadata": {},
     "output_type": "execute_result"
    }
   ],
   "source": [
    "despachantes.head(2)"
   ]
  },
  {
   "cell_type": "code",
   "execution_count": 7,
   "id": "4d5069c2-25e7-458f-8efd-e7245b51305a",
   "metadata": {},
   "outputs": [
    {
     "data": {
      "text/plain": [
       "Row(id=1, nome='Carminda Pestana', status='Ativo', cidade='Santa Maria', vendas=23, data='2020-08-11')"
      ]
     },
     "execution_count": 7,
     "metadata": {},
     "output_type": "execute_result"
    }
   ],
   "source": [
    "despachantes.first()"
   ]
  },
  {
   "cell_type": "markdown",
   "id": "a013ba78-ba6b-4bac-9ef6-431e0f111516",
   "metadata": {},
   "source": [
    "### 2.1.3 - collect()"
   ]
  },
  {
   "cell_type": "code",
   "execution_count": 8,
   "id": "b8291ed4-58b3-42b3-a371-2d106bf2ce97",
   "metadata": {},
   "outputs": [
    {
     "data": {
      "text/plain": [
       "[Row(id=1, nome='Carminda Pestana', status='Ativo', cidade='Santa Maria', vendas=23, data='2020-08-11'),\n",
       " Row(id=2, nome='Deolinda Vilela', status='Ativo', cidade='Novo Hamburgo', vendas=34, data='2020-03-05'),\n",
       " Row(id=3, nome='Emídio Dornelles', status='Ativo', cidade='Porto Alegre', vendas=34, data='2020-02-05'),\n",
       " Row(id=4, nome='Felisbela Dornelles', status='Ativo', cidade='Porto Alegre', vendas=36, data='2020-02-05'),\n",
       " Row(id=5, nome='Graça Ornellas', status='Ativo', cidade='Porto Alegre', vendas=12, data='2020-02-05'),\n",
       " Row(id=6, nome='Matilde Rebouças', status='Ativo', cidade='Porto Alegre', vendas=22, data='2019-01-05'),\n",
       " Row(id=7, nome='Noêmia   Orriça', status='Ativo', cidade='Santa Maria', vendas=45, data='2019-10-05'),\n",
       " Row(id=8, nome='Roque Vásquez', status='Ativo', cidade='Porto Alegre', vendas=65, data='2020-03-05'),\n",
       " Row(id=9, nome='Uriel Queiroz', status='Ativo', cidade='Porto Alegre', vendas=54, data='2018-05-05'),\n",
       " Row(id=10, nome='Viviana Sequeira', status='Ativo', cidade='Porto Alegre', vendas=0, data='2020-09-05')]"
      ]
     },
     "execution_count": 8,
     "metadata": {},
     "output_type": "execute_result"
    }
   ],
   "source": [
    "despachantes.collect()\n",
    "# Retorna todos os dados em forma de lista"
   ]
  },
  {
   "cell_type": "markdown",
   "id": "89b41c13-cf43-4dd8-8c6a-3371d3baa038",
   "metadata": {},
   "source": [
    "### 2.1.4 - count()"
   ]
  },
  {
   "cell_type": "code",
   "execution_count": 9,
   "id": "5c0a92ed-ede7-446f-b5b7-e2be4676e654",
   "metadata": {},
   "outputs": [
    {
     "data": {
      "text/plain": [
       "10"
      ]
     },
     "execution_count": 9,
     "metadata": {},
     "output_type": "execute_result"
    }
   ],
   "source": [
    "despachantes.count()"
   ]
  },
  {
   "cell_type": "markdown",
   "id": "176c1d4a-64e1-497b-ada7-eb49c42b3e28",
   "metadata": {},
   "source": [
    "## 2.2 - Transformações"
   ]
  },
  {
   "cell_type": "markdown",
   "id": "847dbd8c-b1b6-47e0-85df-5327a255b6ac",
   "metadata": {},
   "source": [
    "### 2.2.1 - OrderBy()"
   ]
  },
  {
   "cell_type": "code",
   "execution_count": 11,
   "id": "11437c14-1067-490c-b513-c979f3484f3a",
   "metadata": {},
   "outputs": [
    {
     "name": "stdout",
     "output_type": "stream",
     "text": [
      "+---+-------------------+------+-------------+------+----------+\n",
      "| id|               nome|status|       cidade|vendas|      data|\n",
      "+---+-------------------+------+-------------+------+----------+\n",
      "| 10|   Viviana Sequeira| Ativo| Porto Alegre|     0|2020-09-05|\n",
      "|  5|     Graça Ornellas| Ativo| Porto Alegre|    12|2020-02-05|\n",
      "|  6|   Matilde Rebouças| Ativo| Porto Alegre|    22|2019-01-05|\n",
      "|  1|   Carminda Pestana| Ativo|  Santa Maria|    23|2020-08-11|\n",
      "|  2|    Deolinda Vilela| Ativo|Novo Hamburgo|    34|2020-03-05|\n",
      "|  3|   Emídio Dornelles| Ativo| Porto Alegre|    34|2020-02-05|\n",
      "|  4|Felisbela Dornelles| Ativo| Porto Alegre|    36|2020-02-05|\n",
      "|  7|    Noêmia   Orriça| Ativo|  Santa Maria|    45|2019-10-05|\n",
      "|  9|      Uriel Queiroz| Ativo| Porto Alegre|    54|2018-05-05|\n",
      "|  8|      Roque Vásquez| Ativo| Porto Alegre|    65|2020-03-05|\n",
      "+---+-------------------+------+-------------+------+----------+\n",
      "\n"
     ]
    }
   ],
   "source": [
    "despachantes.orderBy(\"vendas\").show()\n",
    "# Por padrão ordena de forma crescente"
   ]
  },
  {
   "cell_type": "code",
   "execution_count": 14,
   "id": "74a42f2b-29db-4fd6-b108-af82c9447dfa",
   "metadata": {},
   "outputs": [
    {
     "name": "stdout",
     "output_type": "stream",
     "text": [
      "+---+-------------------+------+-------------+------+----------+\n",
      "| id|               nome|status|       cidade|vendas|      data|\n",
      "+---+-------------------+------+-------------+------+----------+\n",
      "|  8|      Roque Vásquez| Ativo| Porto Alegre|    65|2020-03-05|\n",
      "|  9|      Uriel Queiroz| Ativo| Porto Alegre|    54|2018-05-05|\n",
      "|  7|    Noêmia   Orriça| Ativo|  Santa Maria|    45|2019-10-05|\n",
      "|  4|Felisbela Dornelles| Ativo| Porto Alegre|    36|2020-02-05|\n",
      "|  2|    Deolinda Vilela| Ativo|Novo Hamburgo|    34|2020-03-05|\n",
      "|  3|   Emídio Dornelles| Ativo| Porto Alegre|    34|2020-02-05|\n",
      "|  1|   Carminda Pestana| Ativo|  Santa Maria|    23|2020-08-11|\n",
      "|  6|   Matilde Rebouças| Ativo| Porto Alegre|    22|2019-01-05|\n",
      "|  5|     Graça Ornellas| Ativo| Porto Alegre|    12|2020-02-05|\n",
      "| 10|   Viviana Sequeira| Ativo| Porto Alegre|     0|2020-09-05|\n",
      "+---+-------------------+------+-------------+------+----------+\n",
      "\n"
     ]
    }
   ],
   "source": [
    "despachantes.orderBy(Func.col(\"vendas\").desc()).show()\n",
    "# Para ordenar de forma decrescente, chamamos a importação apelidada de Func e a função col() juntamento com a desc()"
   ]
  },
  {
   "cell_type": "code",
   "execution_count": 17,
   "id": "e52414ea-9066-429f-9a8e-30df5a17e25c",
   "metadata": {},
   "outputs": [
    {
     "name": "stdout",
     "output_type": "stream",
     "text": [
      "+---+-------------------+------+-------------+------+----------+\n",
      "| id|               nome|status|       cidade|vendas|      data|\n",
      "+---+-------------------+------+-------------+------+----------+\n",
      "|  7|    Noêmia   Orriça| Ativo|  Santa Maria|    45|2019-10-05|\n",
      "|  1|   Carminda Pestana| Ativo|  Santa Maria|    23|2020-08-11|\n",
      "|  8|      Roque Vásquez| Ativo| Porto Alegre|    65|2020-03-05|\n",
      "|  9|      Uriel Queiroz| Ativo| Porto Alegre|    54|2018-05-05|\n",
      "|  4|Felisbela Dornelles| Ativo| Porto Alegre|    36|2020-02-05|\n",
      "|  3|   Emídio Dornelles| Ativo| Porto Alegre|    34|2020-02-05|\n",
      "|  6|   Matilde Rebouças| Ativo| Porto Alegre|    22|2019-01-05|\n",
      "|  5|     Graça Ornellas| Ativo| Porto Alegre|    12|2020-02-05|\n",
      "| 10|   Viviana Sequeira| Ativo| Porto Alegre|     0|2020-09-05|\n",
      "|  2|    Deolinda Vilela| Ativo|Novo Hamburgo|    34|2020-03-05|\n",
      "+---+-------------------+------+-------------+------+----------+\n",
      "\n"
     ]
    }
   ],
   "source": [
    "despachantes.orderBy(Func.col(\"cidade\").desc(), Func.col(\"vendas\").desc()).show()\n",
    "# Ordenando mais de uma coluna de forma decrescente"
   ]
  },
  {
   "cell_type": "markdown",
   "id": "9208bd2b-7ae5-4e5d-933f-affab5d6393e",
   "metadata": {},
   "source": [
    "### 2.2.2 - GroupBy()"
   ]
  },
  {
   "cell_type": "code",
   "execution_count": 25,
   "id": "cd29123d-2bbf-45e4-86df-ec102eeca866",
   "metadata": {},
   "outputs": [
    {
     "name": "stdout",
     "output_type": "stream",
     "text": [
      "+-------------+-----------+\n",
      "|       cidade|sum(vendas)|\n",
      "+-------------+-----------+\n",
      "|  Santa Maria|         68|\n",
      "|Novo Hamburgo|         34|\n",
      "| Porto Alegre|        223|\n",
      "+-------------+-----------+\n",
      "\n"
     ]
    }
   ],
   "source": [
    "despachantes.groupBy(\"cidade\").agg(Func.sum(\"vendas\")).show()"
   ]
  },
  {
   "cell_type": "code",
   "execution_count": 39,
   "id": "5f2a4ccc-ba7b-402c-948a-9a97fdcb73a9",
   "metadata": {},
   "outputs": [
    {
     "name": "stdout",
     "output_type": "stream",
     "text": [
      "+-------------+------------+\n",
      "|       cidade|total_vendas|\n",
      "+-------------+------------+\n",
      "| Porto Alegre|         223|\n",
      "|  Santa Maria|          68|\n",
      "|Novo Hamburgo|          34|\n",
      "+-------------+------------+\n",
      "\n"
     ]
    }
   ],
   "source": [
    "despachantes.groupBy(\"cidade\").agg(Func.sum(\"vendas\")).orderBy(Func.col(\"sum(vendas)\").desc()).withColumnRenamed(\"sum(vendas)\", \"total_vendas\").show()\n",
    "# Agrupando e ordenando de forma decrescente"
   ]
  },
  {
   "cell_type": "markdown",
   "id": "53acfd42-a7b9-42c0-90f8-df9bc490f89a",
   "metadata": {},
   "source": [
    "### 2.2.3 - filter()"
   ]
  },
  {
   "cell_type": "code",
   "execution_count": 41,
   "id": "1f524fcb-4162-45c3-890c-07be94ac7711",
   "metadata": {},
   "outputs": [
    {
     "name": "stdout",
     "output_type": "stream",
     "text": [
      "+---+---------------+------+-------------+------+----------+\n",
      "| id|           nome|status|       cidade|vendas|      data|\n",
      "+---+---------------+------+-------------+------+----------+\n",
      "|  2|Deolinda Vilela| Ativo|Novo Hamburgo|    34|2020-03-05|\n",
      "+---+---------------+------+-------------+------+----------+\n",
      "\n"
     ]
    }
   ],
   "source": [
    "despachantes.filter(Func.col(\"nome\") == \"Deolinda Vilela\").show()"
   ]
  },
  {
   "cell_type": "code",
   "execution_count": null,
   "id": "07df3d14-3868-4742-a1b7-19d55bbaeec4",
   "metadata": {},
   "outputs": [],
   "source": []
  }
 ],
 "metadata": {
  "kernelspec": {
   "display_name": "Python 3 (ipykernel)",
   "language": "python",
   "name": "python3"
  },
  "language_info": {
   "codemirror_mode": {
    "name": "ipython",
    "version": 3
   },
   "file_extension": ".py",
   "mimetype": "text/x-python",
   "name": "python",
   "nbconvert_exporter": "python",
   "pygments_lexer": "ipython3",
   "version": "3.9.12"
  }
 },
 "nbformat": 4,
 "nbformat_minor": 5
}
