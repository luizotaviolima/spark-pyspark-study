{
 "cells": [
  {
   "cell_type": "markdown",
   "id": "e5ff6276-8216-448f-ac5a-6efe31021eed",
   "metadata": {},
   "source": [
    "# Imports"
   ]
  },
  {
   "cell_type": "code",
   "execution_count": 1,
   "id": "d0baf48f-b7d2-4277-96ed-9bf4435dc5e9",
   "metadata": {},
   "outputs": [],
   "source": [
    "from pyspark.sql import SparkSession\n",
    "from pyspark.sql import *"
   ]
  },
  {
   "cell_type": "markdown",
   "id": "89ed95b9-2250-4c9d-b873-a01ec98f3d08",
   "metadata": {},
   "source": [
    "# Criando um banco de dados"
   ]
  },
  {
   "cell_type": "code",
   "execution_count": 2,
   "id": "40b9454b-680a-414a-850a-d96b33998894",
   "metadata": {},
   "outputs": [
    {
     "name": "stdout",
     "output_type": "stream",
     "text": [
      "22/12/13 12:25:53 WARN HiveConf: HiveConf of name hive.stats.jdbc.timeout does not exist\n",
      "22/12/13 12:25:53 WARN HiveConf: HiveConf of name hive.stats.retries.wait does not exist\n",
      "22/12/13 12:25:55 WARN ObjectStore: Version information not found in metastore. hive.metastore.schema.verification is not enabled so recording the schema version 2.3.0\n",
      "22/12/13 12:25:55 WARN ObjectStore: setMetaStoreSchemaVersion called but recording version is disabled: version = 2.3.0, comment = Set by MetaStore lztv@127.0.1.1\n",
      "22/12/13 12:25:55 WARN ObjectStore: Failed to get database default, returning NoSuchObjectException\n",
      "22/12/13 12:25:55 WARN ObjectStore: Failed to get database desp, returning NoSuchObjectException\n",
      "22/12/13 12:25:55 WARN ObjectStore: Failed to get database desp, returning NoSuchObjectException\n",
      "22/12/13 12:25:55 WARN ObjectStore: Failed to get database global_temp, returning NoSuchObjectException\n",
      "22/12/13 12:25:55 WARN ObjectStore: Failed to get database desp, returning NoSuchObjectException\n"
     ]
    },
    {
     "data": {
      "text/plain": [
       "DataFrame[]"
      ]
     },
     "execution_count": 2,
     "metadata": {},
     "output_type": "execute_result"
    }
   ],
   "source": [
    "spark.sql(\"create database desp\")"
   ]
  },
  {
   "cell_type": "code",
   "execution_count": 3,
   "id": "c77b4508-d49a-4465-ae04-093ba34ce347",
   "metadata": {},
   "outputs": [
    {
     "name": "stdout",
     "output_type": "stream",
     "text": [
      "+---------+\n",
      "|namespace|\n",
      "+---------+\n",
      "|  default|\n",
      "|     desp|\n",
      "+---------+\n",
      "\n"
     ]
    }
   ],
   "source": [
    "spark.sql(\"show databases\").show()"
   ]
  },
  {
   "cell_type": "markdown",
   "id": "24c36310-01e3-48a4-b9fe-16c053cf5ca3",
   "metadata": {},
   "source": [
    "## Apontando para o banco criado"
   ]
  },
  {
   "cell_type": "code",
   "execution_count": 4,
   "id": "d69e2a8a-b7b5-4e47-b321-93aad9d41ee2",
   "metadata": {},
   "outputs": [
    {
     "data": {
      "text/plain": [
       "DataFrame[]"
      ]
     },
     "execution_count": 4,
     "metadata": {},
     "output_type": "execute_result"
    }
   ],
   "source": [
    "spark.sql(\"use desp\")"
   ]
  },
  {
   "cell_type": "markdown",
   "id": "d428f260-bfd4-457b-9213-09cdf72f1b29",
   "metadata": {},
   "source": [
    "# Puxando os dados "
   ]
  },
  {
   "cell_type": "code",
   "execution_count": 5,
   "id": "eedde88c-90ec-4f91-8e62-9237869a9599",
   "metadata": {},
   "outputs": [
    {
     "name": "stdout",
     "output_type": "stream",
     "text": [
      "+-----------+---------+------+---+------+--------+-------------+---------+--------------+---------------+------+\n",
      "|CreditScore|Geography|Gender|Age|Tenure| Balance|NumOfProducts|HasCrCard|IsActiveMember|EstimatedSalary|Exited|\n",
      "+-----------+---------+------+---+------+--------+-------------+---------+--------------+---------------+------+\n",
      "|        619|   France|Female| 42|     2|       0|            1|        1|             1|       10134888|     1|\n",
      "|        608|    Spain|Female| 41|     1| 8380786|            1|        0|             1|       11254258|     0|\n",
      "|        502|   France|Female| 42|     8| 1596608|            3|        1|             0|       11393157|     1|\n",
      "|        699|   France|Female| 39|     1|       0|            2|        0|             0|        9382663|     0|\n",
      "|        850|    Spain|Female| 43|     2|12551082|            1|        1|             1|         790841|     0|\n",
      "|        645|    Spain|  Male| 44|     8|11375578|            2|        1|             0|       14975671|     1|\n",
      "|        822|   France|  Male| 50|     7|       0|            2|        1|             1|         100628|     0|\n",
      "|        376|  Germany|Female| 29|     4|11504674|            4|        1|             0|       11934688|     1|\n",
      "|        501|   France|  Male| 44|     4|14205107|            2|        0|             1|         749405|     0|\n",
      "|        684|   France|  Male| 27|     2|13460388|            1|        1|             1|        7172573|     0|\n",
      "|        528|   France|  Male| 31|     6|10201672|            2|        0|             0|        8018112|     0|\n",
      "|        497|    Spain|  Male| 24|     3|       0|            2|        1|             0|        7639001|     0|\n",
      "|        476|   France|Female| 34|    10|       0|            2|        1|             0|        2626098|     0|\n",
      "|        549|   France|Female| 25|     5|       0|            2|        0|             0|       19085779|     0|\n",
      "|        635|    Spain|Female| 35|     7|       0|            2|        1|             1|        6595165|     0|\n",
      "|        616|  Germany|  Male| 45|     3|14312941|            2|        0|             1|        6432726|     0|\n",
      "|        653|  Germany|  Male| 58|     1|13260288|            1|        1|             0|         509767|     1|\n",
      "|        549|    Spain|Female| 24|     9|       0|            2|        1|             1|        1440641|     0|\n",
      "|        587|    Spain|  Male| 45|     6|       0|            1|        0|             0|       15868481|     0|\n",
      "|        726|   France|Female| 24|     6|       0|            2|        1|             1|        5472403|     0|\n",
      "+-----------+---------+------+---+------+--------+-------------+---------+--------------+---------------+------+\n",
      "only showing top 20 rows\n",
      "\n"
     ]
    }
   ],
   "source": [
    "churn = spark.read.csv(\"./data/Churn.csv\", sep=\";\", header=True, inferSchema=True)\n",
    "churn.show()"
   ]
  },
  {
   "cell_type": "markdown",
   "id": "664a0450-546f-4189-b4fb-e0420fa069cb",
   "metadata": {},
   "source": [
    "## Particionando os dados acima de acordo com a Coluna \"Geography\""
   ]
  },
  {
   "cell_type": "code",
   "execution_count": 6,
   "id": "51ae321d-f8cc-43dd-bb7b-3fadc58a4dce",
   "metadata": {},
   "outputs": [
    {
     "name": "stdout",
     "output_type": "stream",
     "text": [
      "22/12/13 12:25:57 WARN SessionState: METASTORE_FILTER_HOOK will be ignored, since hive.security.authorization.manager is set to instance of HiveAuthorizerFactory.\n",
      "22/12/13 12:25:57 WARN HiveConf: HiveConf of name hive.internal.ss.authz.settings.applied.marker does not exist\n",
      "22/12/13 12:25:57 WARN HiveConf: HiveConf of name hive.stats.jdbc.timeout does not exist\n",
      "22/12/13 12:25:57 WARN HiveConf: HiveConf of name hive.stats.retries.wait does not exist\n"
     ]
    }
   ],
   "source": [
    "churn.write.partitionBy(\"Geography\").saveAsTable(\"Churn_Geo\")"
   ]
  },
  {
   "cell_type": "code",
   "execution_count": 7,
   "id": "a4928f3c-1821-4e83-b91d-b5e744da5a65",
   "metadata": {},
   "outputs": [
    {
     "name": "stdout",
     "output_type": "stream",
     "text": [
      "+-----------+------+---+------+--------+-------------+---------+--------------+---------------+------+---------+\n",
      "|CreditScore|Gender|Age|Tenure| Balance|NumOfProducts|HasCrCard|IsActiveMember|EstimatedSalary|Exited|Geography|\n",
      "+-----------+------+---+------+--------+-------------+---------+--------------+---------------+------+---------+\n",
      "|        619|Female| 42|     2|       0|            1|        1|             1|       10134888|     1|   France|\n",
      "|        502|Female| 42|     8| 1596608|            3|        1|             0|       11393157|     1|   France|\n",
      "|        699|Female| 39|     1|       0|            2|        0|             0|        9382663|     0|   France|\n",
      "|        822|  Male| 50|     7|       0|            2|        1|             1|         100628|     0|   France|\n",
      "|        501|  Male| 44|     4|14205107|            2|        0|             1|         749405|     0|   France|\n",
      "+-----------+------+---+------+--------+-------------+---------+--------------+---------------+------+---------+\n",
      "only showing top 5 rows\n",
      "\n"
     ]
    }
   ],
   "source": [
    "spark.sql(\"SELECT * FROM Churn_Geo\").show(5)"
   ]
  },
  {
   "cell_type": "markdown",
   "id": "72136b65-1d34-4034-9284-7f13feafc224",
   "metadata": {},
   "source": [
    "## Bucketing os dados acima de acordo com a Coluna \"Geography\""
   ]
  },
  {
   "cell_type": "code",
   "execution_count": 8,
   "id": "5d79f482-b469-46e0-ad78-e7735646e4fb",
   "metadata": {},
   "outputs": [],
   "source": [
    "churn.write.bucketBy(3, \"Geography\").saveAsTable(\"Churn_Geo2\")"
   ]
  },
  {
   "cell_type": "code",
   "execution_count": 9,
   "id": "8e863c8a-384c-4eb5-9724-bc4476f3da45",
   "metadata": {},
   "outputs": [
    {
     "name": "stdout",
     "output_type": "stream",
     "text": [
      "+-----------+---------+------+---+------+--------+-------------+---------+--------------+---------------+------+\n",
      "|CreditScore|Geography|Gender|Age|Tenure| Balance|NumOfProducts|HasCrCard|IsActiveMember|EstimatedSalary|Exited|\n",
      "+-----------+---------+------+---+------+--------+-------------+---------+--------------+---------------+------+\n",
      "|        619|   France|Female| 42|     2|       0|            1|        1|             1|       10134888|     1|\n",
      "|        608|    Spain|Female| 41|     1| 8380786|            1|        0|             1|       11254258|     0|\n",
      "|        502|   France|Female| 42|     8| 1596608|            3|        1|             0|       11393157|     1|\n",
      "|        699|   France|Female| 39|     1|       0|            2|        0|             0|        9382663|     0|\n",
      "|        850|    Spain|Female| 43|     2|12551082|            1|        1|             1|         790841|     0|\n",
      "+-----------+---------+------+---+------+--------+-------------+---------+--------------+---------------+------+\n",
      "only showing top 5 rows\n",
      "\n"
     ]
    }
   ],
   "source": [
    "spark.sql(\"SELECT * FROM Churn_Geo2\").show(5)"
   ]
  },
  {
   "cell_type": "markdown",
   "id": "f5a4a4f4-ef15-48ac-90d0-2afbe868097b",
   "metadata": {},
   "source": [
    "# Cache e Persist"
   ]
  },
  {
   "cell_type": "code",
   "execution_count": 10,
   "id": "33dbea32-eb1a-4b22-883b-d82b0404211d",
   "metadata": {},
   "outputs": [],
   "source": [
    "from pyspark import StorageLevel"
   ]
  },
  {
   "cell_type": "code",
   "execution_count": 11,
   "id": "4d854153-e952-48a1-a724-8e39fd43a722",
   "metadata": {},
   "outputs": [],
   "source": [
    "arqschema = \"\"\"id INT, nome STRING, \n",
    "               status STRING, \n",
    "               cidade STRING, \n",
    "               vendas INT, \n",
    "               data STRING\"\"\""
   ]
  },
  {
   "cell_type": "code",
   "execution_count": 12,
   "id": "c07d43d6-1350-45eb-84a3-abfa54f1fd62",
   "metadata": {},
   "outputs": [
    {
     "name": "stdout",
     "output_type": "stream",
     "text": [
      "+---+-------------------+------+-------------+------+----------+\n",
      "| id|               nome|status|       cidade|vendas|      data|\n",
      "+---+-------------------+------+-------------+------+----------+\n",
      "|  1|   Carminda Pestana| Ativo|  Santa Maria|    23|2020-08-11|\n",
      "|  2|    Deolinda Vilela| Ativo|Novo Hamburgo|    34|2020-03-05|\n",
      "|  3|   Emídio Dornelles| Ativo| Porto Alegre|    34|2020-02-05|\n",
      "|  4|Felisbela Dornelles| Ativo| Porto Alegre|    36|2020-02-05|\n",
      "|  5|     Graça Ornellas| Ativo| Porto Alegre|    12|2020-02-05|\n",
      "|  6|   Matilde Rebouças| Ativo| Porto Alegre|    22|2019-01-05|\n",
      "|  7|    Noêmia   Orriça| Ativo|  Santa Maria|    45|2019-10-05|\n",
      "|  8|      Roque Vásquez| Ativo| Porto Alegre|    65|2020-03-05|\n",
      "|  9|      Uriel Queiroz| Ativo| Porto Alegre|    54|2018-05-05|\n",
      "| 10|   Viviana Sequeira| Ativo| Porto Alegre|     0|2020-09-05|\n",
      "+---+-------------------+------+-------------+------+----------+\n",
      "\n"
     ]
    }
   ],
   "source": [
    "despachantes = spark.read.csv(\"./data/despachantes.csv\", sep=\",\", header=False, schema=arqschema)\n",
    "despachantes.show()"
   ]
  },
  {
   "cell_type": "code",
   "execution_count": 13,
   "id": "33271314-33a1-4162-84a2-04837b170ded",
   "metadata": {},
   "outputs": [],
   "source": [
    "despachantes.write.saveAsTable(\"Despachantes\")"
   ]
  },
  {
   "cell_type": "code",
   "execution_count": 14,
   "id": "29915cec-2a10-44ea-845f-2128132a1910",
   "metadata": {},
   "outputs": [
    {
     "name": "stdout",
     "output_type": "stream",
     "text": [
      "+---+----------------+------+-------------+------+----------+\n",
      "| id|            nome|status|       cidade|vendas|      data|\n",
      "+---+----------------+------+-------------+------+----------+\n",
      "|  1|Carminda Pestana| Ativo|  Santa Maria|    23|2020-08-11|\n",
      "|  2| Deolinda Vilela| Ativo|Novo Hamburgo|    34|2020-03-05|\n",
      "+---+----------------+------+-------------+------+----------+\n",
      "only showing top 2 rows\n",
      "\n"
     ]
    }
   ],
   "source": [
    "df = spark.sql(\"SELECT * FROM despachantes\")\n",
    "df.show(2)"
   ]
  },
  {
   "cell_type": "code",
   "execution_count": 15,
   "id": "30af2f6b-17a3-4aae-ab3d-f433171db005",
   "metadata": {},
   "outputs": [
    {
     "data": {
      "text/plain": [
       "StorageLevel(False, False, False, False, 1)"
      ]
     },
     "execution_count": 15,
     "metadata": {},
     "output_type": "execute_result"
    }
   ],
   "source": [
    "df.storageLevel"
   ]
  },
  {
   "attachments": {
    "ec06f8fa-8d7d-4a58-93e8-95e5a6cedf58.png": {
     "image/png": "[encoded data removed]"
    }
   },
   "cell_type": "markdown",
   "id": "18d071bc-de7f-47b8-b234-c86878961bf0",
   "metadata": {},
   "source": [
    "![image.png](attachment:ec06f8fa-8d7d-4a58-93e8-95e5a6cedf58.png)"
   ]
  },
  {
   "cell_type": "code",
   "execution_count": 16,
   "id": "16bc640e-cc63-409e-b816-3cace75039ca",
   "metadata": {},
   "outputs": [
    {
     "data": {
      "text/plain": [
       "DataFrame[id: int, nome: string, status: string, cidade: string, vendas: int, data: string]"
      ]
     },
     "execution_count": 16,
     "metadata": {},
     "output_type": "execute_result"
    }
   ],
   "source": [
    "df.cache()"
   ]
  },
  {
   "cell_type": "code",
   "execution_count": 17,
   "id": "bc348c62-19d3-46d8-bdce-7a3c39b59cc2",
   "metadata": {},
   "outputs": [
    {
     "data": {
      "text/plain": [
       "StorageLevel(True, True, False, True, 1)"
      ]
     },
     "execution_count": 17,
     "metadata": {},
     "output_type": "execute_result"
    }
   ],
   "source": [
    "df.storageLevel"
   ]
  },
  {
   "cell_type": "code",
   "execution_count": 18,
   "id": "90714a7b-77db-4aab-a5c6-19aab9245d42",
   "metadata": {},
   "outputs": [
    {
     "name": "stdout",
     "output_type": "stream",
     "text": [
      "22/12/13 12:27:39 WARN CacheManager: Asked to cache already cached data.\n"
     ]
    },
    {
     "data": {
      "text/plain": [
       "DataFrame[id: int, nome: string, status: string, cidade: string, vendas: int, data: string]"
      ]
     },
     "execution_count": 18,
     "metadata": {},
     "output_type": "execute_result"
    }
   ],
   "source": [
    "df.persist(StorageLevel.DISK_ONLY)"
   ]
  },
  {
   "cell_type": "code",
   "execution_count": 19,
   "id": "e3e089ab-272d-4f96-8de0-d0d66d02c060",
   "metadata": {},
   "outputs": [
    {
     "data": {
      "text/plain": [
       "StorageLevel(True, True, False, True, 1)"
      ]
     },
     "execution_count": 19,
     "metadata": {},
     "output_type": "execute_result"
    }
   ],
   "source": [
    "df.storageLevel"
   ]
  },
  {
   "cell_type": "code",
   "execution_count": 20,
   "id": "75a9b795-2e04-4d34-b8b5-75b37cbc90ac",
   "metadata": {},
   "outputs": [
    {
     "data": {
      "text/plain": [
       "DataFrame[id: int, nome: string, status: string, cidade: string, vendas: int, data: string]"
      ]
     },
     "execution_count": 20,
     "metadata": {},
     "output_type": "execute_result"
    }
   ],
   "source": [
    "df.unpersist()"
   ]
  },
  {
   "cell_type": "code",
   "execution_count": 21,
   "id": "21145d45-def7-4789-a503-2b9df33a16f7",
   "metadata": {},
   "outputs": [
    {
     "data": {
      "text/plain": [
       "DataFrame[id: int, nome: string, status: string, cidade: string, vendas: int, data: string]"
      ]
     },
     "execution_count": 21,
     "metadata": {},
     "output_type": "execute_result"
    }
   ],
   "source": [
    "df.persist(StorageLevel.DISK_ONLY)"
   ]
  },
  {
   "cell_type": "code",
   "execution_count": 22,
   "id": "05d0d179-5b59-40f2-8795-22fa5b34f9c9",
   "metadata": {},
   "outputs": [
    {
     "data": {
      "text/plain": [
       "StorageLevel(True, False, False, False, 1)"
      ]
     },
     "execution_count": 22,
     "metadata": {},
     "output_type": "execute_result"
    }
   ],
   "source": [
    "df.storageLevel"
   ]
  }
 ],
 "metadata": {
  "kernelspec": {
   "display_name": "Python 3 (ipykernel)",
   "language": "python",
   "name": "python3"
  },
  "language_info": {
   "codemirror_mode": {
    "name": "ipython",
    "version": 3
   },
   "file_extension": ".py",
   "mimetype": "text/x-python",
   "name": "python",
   "nbconvert_exporter": "python",
   "pygments_lexer": "ipython3",
   "version": "3.9.12"
  },
  "toc-autonumbering": true
 },
 "nbformat": 4,
 "nbformat_minor": 5
}
