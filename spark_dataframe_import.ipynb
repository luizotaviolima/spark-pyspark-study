{
 "cells": [
  {
   "cell_type": "code",
   "execution_count": 1,
   "id": "9682c02b-895e-458c-82f0-6703d95ff2d9",
   "metadata": {},
   "outputs": [],
   "source": [
    "# Imports\n",
    "from pyspark.sql import SparkSession\n",
    "from pyspark.sql.types import *\n",
    "from pyspark.sql import functions as Func"
   ]
  },
  {
   "cell_type": "markdown",
   "id": "98ea6e08-87de-4849-8fd3-4843a2217762",
   "metadata": {},
   "source": [
    "# 1 - Importando dados"
   ]
  },
  {
   "cell_type": "code",
   "execution_count": null,
   "id": "53efaf94-bf42-4beb-bcc8-8de11fb93ba8",
   "metadata": {},
   "outputs": [],
   "source": [
    "## 1.1 - "
   ]
  }
 ],
 "metadata": {
  "kernelspec": {
   "display_name": "Python 3 (ipykernel)",
   "language": "python",
   "name": "python3"
  },
  "language_info": {
   "codemirror_mode": {
    "name": "ipython",
    "version": 3
   },
   "file_extension": ".py",
   "mimetype": "text/x-python",
   "name": "python",
   "nbconvert_exporter": "python",
   "pygments_lexer": "ipython3",
   "version": "3.9.12"
  }
 },
 "nbformat": 4,
 "nbformat_minor": 5
}
